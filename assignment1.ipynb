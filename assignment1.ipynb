{
  "cells": [
    {
      "cell_type": "markdown",
      "metadata": {
        "id": "q-TxFwfjqhJH"
      },
      "source": [
        "# **Task 1**"
      ]
    },
    {
      "cell_type": "code",
      "execution_count": null,
      "metadata": {
        "colab": {
          "base_uri": "https://localhost:8080/"
        },
        "id": "AjWN3Dt_LsoH",
        "outputId": "1ae76641-5afa-4978-d334-29d5a9651005"
      },
      "outputs": [
        {
          "output_type": "stream",
          "name": "stdout",
          "text": [
            "Looking in indexes: https://pypi.org/simple, https://us-python.pkg.dev/colab-wheels/public/simple/\n",
            "Requirement already satisfied: matplotlib==3.5.3 in /usr/local/lib/python3.7/dist-packages (3.5.3)\n",
            "Requirement already satisfied: kiwisolver>=1.0.1 in /usr/local/lib/python3.7/dist-packages (from matplotlib==3.5.3) (1.4.4)\n",
            "Requirement already satisfied: pyparsing>=2.2.1 in /usr/local/lib/python3.7/dist-packages (from matplotlib==3.5.3) (3.0.9)\n",
            "Requirement already satisfied: pillow>=6.2.0 in /usr/local/lib/python3.7/dist-packages (from matplotlib==3.5.3) (7.1.2)\n",
            "Requirement already satisfied: numpy>=1.17 in /usr/local/lib/python3.7/dist-packages (from matplotlib==3.5.3) (1.21.6)\n",
            "Requirement already satisfied: packaging>=20.0 in /usr/local/lib/python3.7/dist-packages (from matplotlib==3.5.3) (21.3)\n",
            "Requirement already satisfied: fonttools>=4.22.0 in /usr/local/lib/python3.7/dist-packages (from matplotlib==3.5.3) (4.37.4)\n",
            "Requirement already satisfied: cycler>=0.10 in /usr/local/lib/python3.7/dist-packages (from matplotlib==3.5.3) (0.11.0)\n",
            "Requirement already satisfied: python-dateutil>=2.7 in /usr/local/lib/python3.7/dist-packages (from matplotlib==3.5.3) (2.8.2)\n",
            "Requirement already satisfied: typing-extensions in /usr/local/lib/python3.7/dist-packages (from kiwisolver>=1.0.1->matplotlib==3.5.3) (4.1.1)\n",
            "Requirement already satisfied: six>=1.5 in /usr/local/lib/python3.7/dist-packages (from python-dateutil>=2.7->matplotlib==3.5.3) (1.15.0)\n",
            "Looking in indexes: https://pypi.org/simple, https://us-python.pkg.dev/colab-wheels/public/simple/\n",
            "Requirement already satisfied: matplotlib in /usr/local/lib/python3.7/dist-packages (3.5.3)\n",
            "Requirement already satisfied: numpy>=1.17 in /usr/local/lib/python3.7/dist-packages (from matplotlib) (1.21.6)\n",
            "Requirement already satisfied: packaging>=20.0 in /usr/local/lib/python3.7/dist-packages (from matplotlib) (21.3)\n",
            "Requirement already satisfied: pyparsing>=2.2.1 in /usr/local/lib/python3.7/dist-packages (from matplotlib) (3.0.9)\n",
            "Requirement already satisfied: fonttools>=4.22.0 in /usr/local/lib/python3.7/dist-packages (from matplotlib) (4.37.4)\n",
            "Requirement already satisfied: pillow>=6.2.0 in /usr/local/lib/python3.7/dist-packages (from matplotlib) (7.1.2)\n",
            "Requirement already satisfied: python-dateutil>=2.7 in /usr/local/lib/python3.7/dist-packages (from matplotlib) (2.8.2)\n",
            "Requirement already satisfied: cycler>=0.10 in /usr/local/lib/python3.7/dist-packages (from matplotlib) (0.11.0)\n",
            "Requirement already satisfied: kiwisolver>=1.0.1 in /usr/local/lib/python3.7/dist-packages (from matplotlib) (1.4.4)\n",
            "Requirement already satisfied: typing-extensions in /usr/local/lib/python3.7/dist-packages (from kiwisolver>=1.0.1->matplotlib) (4.1.1)\n",
            "Requirement already satisfied: six>=1.5 in /usr/local/lib/python3.7/dist-packages (from python-dateutil>=2.7->matplotlib) (1.15.0)\n"
          ]
        }
      ],
      "source": [
        "# Run the following command prior to running the colab\n",
        "!python -m pip install matplotlib==3.5.3\n",
        "\n",
        "!pip install matplotlib --upgrade\n"
      ]
    },
    {
      "cell_type": "markdown",
      "metadata": {
        "id": "dbxVH2Z5qjlI"
      },
      "source": [
        "Load Data Sets:"
      ]
    },
    {
      "cell_type": "code",
      "execution_count": null,
      "metadata": {
        "colab": {
          "base_uri": "https://localhost:8080/",
          "height": 488
        },
        "id": "5W3jCYK9qTLC",
        "outputId": "444d493d-9404-47dd-89c1-f38fbf68a46e"
      },
      "outputs": [
        {
          "output_type": "execute_result",
          "data": {
            "text/plain": [
              "     Survival  Age Sex Steroid Anitvirals Fatigue Malaise Anorexia Liver_Big  \\\n",
              "0           1   30   2       1          2       2       2        2         1   \n",
              "1           1   50   1       1          2       1       2        2         1   \n",
              "2           1   78   1       2          2       1       2        2         2   \n",
              "3           1   31   1       2          1       2       2        2         2   \n",
              "4           1   34   1       2          2       2       2        2         2   \n",
              "..        ...  ...  ..     ...        ...     ...     ...      ...       ...   \n",
              "150         0   46   1       2          2       1       1        1         2   \n",
              "151         1   44   1       2          2       1       2        2         2   \n",
              "152         1   61   1       1          2       1       1        2         1   \n",
              "153         1   53   2       1          2       1       2        2         2   \n",
              "154         0   43   1       2          2       1       2        2         2   \n",
              "\n",
              "    Liver_Firm Spleen_Palpable Spiders Ascites Varices  Bilirubin  \\\n",
              "0            2               2       2       2       2        1.0   \n",
              "1            2               2       2       2       2        0.9   \n",
              "2            2               2       2       2       2        0.7   \n",
              "3            2               2       2       2       2        0.7   \n",
              "4            2               2       2       2       2        1.0   \n",
              "..         ...             ...     ...     ...     ...        ...   \n",
              "150          2               2       1       1       1        7.6   \n",
              "151          1               2       2       2       2        0.9   \n",
              "152          1               2       1       2       2        0.8   \n",
              "153          2               1       1       2       1        1.5   \n",
              "154          2               1       1       1       2        1.2   \n",
              "\n",
              "     Alk_Phosphate   SGOT  Albumin    Protime  Histology  \n",
              "0        85.000000   18.0      4.0  61.852273          1  \n",
              "1       135.000000   42.0      3.5  61.852273          1  \n",
              "2        96.000000   32.0      4.0  61.852273          1  \n",
              "3        46.000000   52.0      4.0  80.000000          1  \n",
              "4       105.325397  200.0      4.0  61.852273          1  \n",
              "..             ...    ...      ...        ...        ...  \n",
              "150     105.325397  242.0      3.3  50.000000          2  \n",
              "151     126.000000  142.0      4.3  61.852273          2  \n",
              "152      75.000000   20.0      4.1  61.852273          2  \n",
              "153      81.000000   19.0      4.1  48.000000          2  \n",
              "154     100.000000   19.0      3.1  42.000000          2  \n",
              "\n",
              "[155 rows x 20 columns]"
            ],
            "text/html": [
              "\n",
              "  <div id=\"df-bdd0bec9-bed1-40c1-a68b-6037bbc7da82\">\n",
              "    <div class=\"colab-df-container\">\n",
              "      <div>\n",
              "<style scoped>\n",
              "    .dataframe tbody tr th:only-of-type {\n",
              "        vertical-align: middle;\n",
              "    }\n",
              "\n",
              "    .dataframe tbody tr th {\n",
              "        vertical-align: top;\n",
              "    }\n",
              "\n",
              "    .dataframe thead th {\n",
              "        text-align: right;\n",
              "    }\n",
              "</style>\n",
              "<table border=\"1\" class=\"dataframe\">\n",
              "  <thead>\n",
              "    <tr style=\"text-align: right;\">\n",
              "      <th></th>\n",
              "      <th>Survival</th>\n",
              "      <th>Age</th>\n",
              "      <th>Sex</th>\n",
              "      <th>Steroid</th>\n",
              "      <th>Anitvirals</th>\n",
              "      <th>Fatigue</th>\n",
              "      <th>Malaise</th>\n",
              "      <th>Anorexia</th>\n",
              "      <th>Liver_Big</th>\n",
              "      <th>Liver_Firm</th>\n",
              "      <th>Spleen_Palpable</th>\n",
              "      <th>Spiders</th>\n",
              "      <th>Ascites</th>\n",
              "      <th>Varices</th>\n",
              "      <th>Bilirubin</th>\n",
              "      <th>Alk_Phosphate</th>\n",
              "      <th>SGOT</th>\n",
              "      <th>Albumin</th>\n",
              "      <th>Protime</th>\n",
              "      <th>Histology</th>\n",
              "    </tr>\n",
              "  </thead>\n",
              "  <tbody>\n",
              "    <tr>\n",
              "      <th>0</th>\n",
              "      <td>1</td>\n",
              "      <td>30</td>\n",
              "      <td>2</td>\n",
              "      <td>1</td>\n",
              "      <td>2</td>\n",
              "      <td>2</td>\n",
              "      <td>2</td>\n",
              "      <td>2</td>\n",
              "      <td>1</td>\n",
              "      <td>2</td>\n",
              "      <td>2</td>\n",
              "      <td>2</td>\n",
              "      <td>2</td>\n",
              "      <td>2</td>\n",
              "      <td>1.0</td>\n",
              "      <td>85.000000</td>\n",
              "      <td>18.0</td>\n",
              "      <td>4.0</td>\n",
              "      <td>61.852273</td>\n",
              "      <td>1</td>\n",
              "    </tr>\n",
              "    <tr>\n",
              "      <th>1</th>\n",
              "      <td>1</td>\n",
              "      <td>50</td>\n",
              "      <td>1</td>\n",
              "      <td>1</td>\n",
              "      <td>2</td>\n",
              "      <td>1</td>\n",
              "      <td>2</td>\n",
              "      <td>2</td>\n",
              "      <td>1</td>\n",
              "      <td>2</td>\n",
              "      <td>2</td>\n",
              "      <td>2</td>\n",
              "      <td>2</td>\n",
              "      <td>2</td>\n",
              "      <td>0.9</td>\n",
              "      <td>135.000000</td>\n",
              "      <td>42.0</td>\n",
              "      <td>3.5</td>\n",
              "      <td>61.852273</td>\n",
              "      <td>1</td>\n",
              "    </tr>\n",
              "    <tr>\n",
              "      <th>2</th>\n",
              "      <td>1</td>\n",
              "      <td>78</td>\n",
              "      <td>1</td>\n",
              "      <td>2</td>\n",
              "      <td>2</td>\n",
              "      <td>1</td>\n",
              "      <td>2</td>\n",
              "      <td>2</td>\n",
              "      <td>2</td>\n",
              "      <td>2</td>\n",
              "      <td>2</td>\n",
              "      <td>2</td>\n",
              "      <td>2</td>\n",
              "      <td>2</td>\n",
              "      <td>0.7</td>\n",
              "      <td>96.000000</td>\n",
              "      <td>32.0</td>\n",
              "      <td>4.0</td>\n",
              "      <td>61.852273</td>\n",
              "      <td>1</td>\n",
              "    </tr>\n",
              "    <tr>\n",
              "      <th>3</th>\n",
              "      <td>1</td>\n",
              "      <td>31</td>\n",
              "      <td>1</td>\n",
              "      <td>2</td>\n",
              "      <td>1</td>\n",
              "      <td>2</td>\n",
              "      <td>2</td>\n",
              "      <td>2</td>\n",
              "      <td>2</td>\n",
              "      <td>2</td>\n",
              "      <td>2</td>\n",
              "      <td>2</td>\n",
              "      <td>2</td>\n",
              "      <td>2</td>\n",
              "      <td>0.7</td>\n",
              "      <td>46.000000</td>\n",
              "      <td>52.0</td>\n",
              "      <td>4.0</td>\n",
              "      <td>80.000000</td>\n",
              "      <td>1</td>\n",
              "    </tr>\n",
              "    <tr>\n",
              "      <th>4</th>\n",
              "      <td>1</td>\n",
              "      <td>34</td>\n",
              "      <td>1</td>\n",
              "      <td>2</td>\n",
              "      <td>2</td>\n",
              "      <td>2</td>\n",
              "      <td>2</td>\n",
              "      <td>2</td>\n",
              "      <td>2</td>\n",
              "      <td>2</td>\n",
              "      <td>2</td>\n",
              "      <td>2</td>\n",
              "      <td>2</td>\n",
              "      <td>2</td>\n",
              "      <td>1.0</td>\n",
              "      <td>105.325397</td>\n",
              "      <td>200.0</td>\n",
              "      <td>4.0</td>\n",
              "      <td>61.852273</td>\n",
              "      <td>1</td>\n",
              "    </tr>\n",
              "    <tr>\n",
              "      <th>...</th>\n",
              "      <td>...</td>\n",
              "      <td>...</td>\n",
              "      <td>...</td>\n",
              "      <td>...</td>\n",
              "      <td>...</td>\n",
              "      <td>...</td>\n",
              "      <td>...</td>\n",
              "      <td>...</td>\n",
              "      <td>...</td>\n",
              "      <td>...</td>\n",
              "      <td>...</td>\n",
              "      <td>...</td>\n",
              "      <td>...</td>\n",
              "      <td>...</td>\n",
              "      <td>...</td>\n",
              "      <td>...</td>\n",
              "      <td>...</td>\n",
              "      <td>...</td>\n",
              "      <td>...</td>\n",
              "      <td>...</td>\n",
              "    </tr>\n",
              "    <tr>\n",
              "      <th>150</th>\n",
              "      <td>0</td>\n",
              "      <td>46</td>\n",
              "      <td>1</td>\n",
              "      <td>2</td>\n",
              "      <td>2</td>\n",
              "      <td>1</td>\n",
              "      <td>1</td>\n",
              "      <td>1</td>\n",
              "      <td>2</td>\n",
              "      <td>2</td>\n",
              "      <td>2</td>\n",
              "      <td>1</td>\n",
              "      <td>1</td>\n",
              "      <td>1</td>\n",
              "      <td>7.6</td>\n",
              "      <td>105.325397</td>\n",
              "      <td>242.0</td>\n",
              "      <td>3.3</td>\n",
              "      <td>50.000000</td>\n",
              "      <td>2</td>\n",
              "    </tr>\n",
              "    <tr>\n",
              "      <th>151</th>\n",
              "      <td>1</td>\n",
              "      <td>44</td>\n",
              "      <td>1</td>\n",
              "      <td>2</td>\n",
              "      <td>2</td>\n",
              "      <td>1</td>\n",
              "      <td>2</td>\n",
              "      <td>2</td>\n",
              "      <td>2</td>\n",
              "      <td>1</td>\n",
              "      <td>2</td>\n",
              "      <td>2</td>\n",
              "      <td>2</td>\n",
              "      <td>2</td>\n",
              "      <td>0.9</td>\n",
              "      <td>126.000000</td>\n",
              "      <td>142.0</td>\n",
              "      <td>4.3</td>\n",
              "      <td>61.852273</td>\n",
              "      <td>2</td>\n",
              "    </tr>\n",
              "    <tr>\n",
              "      <th>152</th>\n",
              "      <td>1</td>\n",
              "      <td>61</td>\n",
              "      <td>1</td>\n",
              "      <td>1</td>\n",
              "      <td>2</td>\n",
              "      <td>1</td>\n",
              "      <td>1</td>\n",
              "      <td>2</td>\n",
              "      <td>1</td>\n",
              "      <td>1</td>\n",
              "      <td>2</td>\n",
              "      <td>1</td>\n",
              "      <td>2</td>\n",
              "      <td>2</td>\n",
              "      <td>0.8</td>\n",
              "      <td>75.000000</td>\n",
              "      <td>20.0</td>\n",
              "      <td>4.1</td>\n",
              "      <td>61.852273</td>\n",
              "      <td>2</td>\n",
              "    </tr>\n",
              "    <tr>\n",
              "      <th>153</th>\n",
              "      <td>1</td>\n",
              "      <td>53</td>\n",
              "      <td>2</td>\n",
              "      <td>1</td>\n",
              "      <td>2</td>\n",
              "      <td>1</td>\n",
              "      <td>2</td>\n",
              "      <td>2</td>\n",
              "      <td>2</td>\n",
              "      <td>2</td>\n",
              "      <td>1</td>\n",
              "      <td>1</td>\n",
              "      <td>2</td>\n",
              "      <td>1</td>\n",
              "      <td>1.5</td>\n",
              "      <td>81.000000</td>\n",
              "      <td>19.0</td>\n",
              "      <td>4.1</td>\n",
              "      <td>48.000000</td>\n",
              "      <td>2</td>\n",
              "    </tr>\n",
              "    <tr>\n",
              "      <th>154</th>\n",
              "      <td>0</td>\n",
              "      <td>43</td>\n",
              "      <td>1</td>\n",
              "      <td>2</td>\n",
              "      <td>2</td>\n",
              "      <td>1</td>\n",
              "      <td>2</td>\n",
              "      <td>2</td>\n",
              "      <td>2</td>\n",
              "      <td>2</td>\n",
              "      <td>1</td>\n",
              "      <td>1</td>\n",
              "      <td>1</td>\n",
              "      <td>2</td>\n",
              "      <td>1.2</td>\n",
              "      <td>100.000000</td>\n",
              "      <td>19.0</td>\n",
              "      <td>3.1</td>\n",
              "      <td>42.000000</td>\n",
              "      <td>2</td>\n",
              "    </tr>\n",
              "  </tbody>\n",
              "</table>\n",
              "<p>155 rows × 20 columns</p>\n",
              "</div>\n",
              "      <button class=\"colab-df-convert\" onclick=\"convertToInteractive('df-bdd0bec9-bed1-40c1-a68b-6037bbc7da82')\"\n",
              "              title=\"Convert this dataframe to an interactive table.\"\n",
              "              style=\"display:none;\">\n",
              "        \n",
              "  <svg xmlns=\"http://www.w3.org/2000/svg\" height=\"24px\"viewBox=\"0 0 24 24\"\n",
              "       width=\"24px\">\n",
              "    <path d=\"M0 0h24v24H0V0z\" fill=\"none\"/>\n",
              "    <path d=\"M18.56 5.44l.94 2.06.94-2.06 2.06-.94-2.06-.94-.94-2.06-.94 2.06-2.06.94zm-11 1L8.5 8.5l.94-2.06 2.06-.94-2.06-.94L8.5 2.5l-.94 2.06-2.06.94zm10 10l.94 2.06.94-2.06 2.06-.94-2.06-.94-.94-2.06-.94 2.06-2.06.94z\"/><path d=\"M17.41 7.96l-1.37-1.37c-.4-.4-.92-.59-1.43-.59-.52 0-1.04.2-1.43.59L10.3 9.45l-7.72 7.72c-.78.78-.78 2.05 0 2.83L4 21.41c.39.39.9.59 1.41.59.51 0 1.02-.2 1.41-.59l7.78-7.78 2.81-2.81c.8-.78.8-2.07 0-2.86zM5.41 20L4 18.59l7.72-7.72 1.47 1.35L5.41 20z\"/>\n",
              "  </svg>\n",
              "      </button>\n",
              "      \n",
              "  <style>\n",
              "    .colab-df-container {\n",
              "      display:flex;\n",
              "      flex-wrap:wrap;\n",
              "      gap: 12px;\n",
              "    }\n",
              "\n",
              "    .colab-df-convert {\n",
              "      background-color: #E8F0FE;\n",
              "      border: none;\n",
              "      border-radius: 50%;\n",
              "      cursor: pointer;\n",
              "      display: none;\n",
              "      fill: #1967D2;\n",
              "      height: 32px;\n",
              "      padding: 0 0 0 0;\n",
              "      width: 32px;\n",
              "    }\n",
              "\n",
              "    .colab-df-convert:hover {\n",
              "      background-color: #E2EBFA;\n",
              "      box-shadow: 0px 1px 2px rgba(60, 64, 67, 0.3), 0px 1px 3px 1px rgba(60, 64, 67, 0.15);\n",
              "      fill: #174EA6;\n",
              "    }\n",
              "\n",
              "    [theme=dark] .colab-df-convert {\n",
              "      background-color: #3B4455;\n",
              "      fill: #D2E3FC;\n",
              "    }\n",
              "\n",
              "    [theme=dark] .colab-df-convert:hover {\n",
              "      background-color: #434B5C;\n",
              "      box-shadow: 0px 1px 3px 1px rgba(0, 0, 0, 0.15);\n",
              "      filter: drop-shadow(0px 1px 2px rgba(0, 0, 0, 0.3));\n",
              "      fill: #FFFFFF;\n",
              "    }\n",
              "  </style>\n",
              "\n",
              "      <script>\n",
              "        const buttonEl =\n",
              "          document.querySelector('#df-bdd0bec9-bed1-40c1-a68b-6037bbc7da82 button.colab-df-convert');\n",
              "        buttonEl.style.display =\n",
              "          google.colab.kernel.accessAllowed ? 'block' : 'none';\n",
              "\n",
              "        async function convertToInteractive(key) {\n",
              "          const element = document.querySelector('#df-bdd0bec9-bed1-40c1-a68b-6037bbc7da82');\n",
              "          const dataTable =\n",
              "            await google.colab.kernel.invokeFunction('convertToInteractive',\n",
              "                                                     [key], {});\n",
              "          if (!dataTable) return;\n",
              "\n",
              "          const docLinkHtml = 'Like what you see? Visit the ' +\n",
              "            '<a target=\"_blank\" href=https://colab.research.google.com/notebooks/data_table.ipynb>data table notebook</a>'\n",
              "            + ' to learn more about interactive tables.';\n",
              "          element.innerHTML = '';\n",
              "          dataTable['output_type'] = 'display_data';\n",
              "          await google.colab.output.renderOutput(dataTable, element);\n",
              "          const docLink = document.createElement('div');\n",
              "          docLink.innerHTML = docLinkHtml;\n",
              "          element.appendChild(docLink);\n",
              "        }\n",
              "      </script>\n",
              "    </div>\n",
              "  </div>\n",
              "  "
            ]
          },
          "metadata": {},
          "execution_count": 2
        }
      ],
      "source": [
        "from pandas._libs.algos import diff_2d\n",
        "import numpy as np\n",
        "import time\n",
        "#the output of plotting commands is displayed inline within frontends\n",
        "%matplotlib inline\n",
        "import matplotlib.pyplot as plt\n",
        "from IPython.core.debugger import set_trace         #for debugging\n",
        "\n",
        "#it is important to set the seed for reproducibility as it initializes the random number generator\n",
        "np.random.seed(1234)\n",
        "\n",
        "import sklearn\n",
        "from sklearn.ensemble import RandomForestClassifier\n",
        "\n",
        "from scipy.io import arff\n",
        "import urllib.request\n",
        "import io # for io.StringIO(\n",
        "import pandas as pd\n",
        "\n",
        "#Load the data from url and convert to pandas df\n",
        "url=\"http://archive.ics.uci.edu/ml/machine-learning-databases/hepatitis/hepatitis.data\"\n",
        "col_name = ['Survival','Age','Sex','Steroid','Anitvirals','Fatigue','Malaise','Anorexia',\n",
        "'Liver_Big','Liver_Firm','Spleen_Palpable','Spiders','Ascites','Varices','Bilirubin',\n",
        "'Alk_Phosphate','SGOT','Albumin','Protime','Histology']\n",
        "\n",
        "col_name1 = ['Age','Sex','Steroid','Anitvirals','Fatigue','Malaise','Anorexia',\n",
        "'Liver_Big','Liver_Firm','Spleen_Palpable','Spiders','Ascites','Varices','Bilirubin',\n",
        "'Alk_Phosphate','SGOT','Albumin','Protime','Histology']\n",
        "\n",
        "\n",
        "df1 = pd.read_csv(url,\n",
        "            names=col_name,index_col=False)\n",
        "\n",
        "url2 = \"https://archive.ics.uci.edu/ml/machine-learning-databases/00329/messidor_features.arff\"\n",
        "\n",
        "ftpstream = urllib.request.urlopen(url2)\n",
        "data, meta = arff.loadarff(io.StringIO(ftpstream.read().decode('utf-8')))\n",
        "\n",
        "df2 = pd.DataFrame(data)\n",
        "\n",
        "df2.columns = ['Quality', 'Retinalab',\n",
        "              'MA_at_.5','MA_at_.6','MA_at_.7','MA_at_.8','MA_at_.9','MA_at_1',\n",
        "               'Exudate_1','Exudate_2','Exudate_3','Exudate_4','Exudate_5','Exudate_6','Exudate_7','Exudate_8',\n",
        "               'dist_Macula_opticdisc','opticdisc_diam','AM/FM','DR']\n",
        "\n",
        "col_name2 = ['Quality', 'Retinalab',\n",
        "              'MA_at_.5','MA_at_.6','MA_at_.7','MA_at_.8','MA_at_.9','MA_at_1',\n",
        "               'Exudate_1','Exudate_2','Exudate_3','Exudate_4','Exudate_5','Exudate_6','Exudate_7','Exudate_8',\n",
        "               'dist_Macula_opticdisc','opticdisc_diam','AM/FM']\n",
        "\n",
        "#Convert DR column from str? to numeric\n",
        "df2[\"DR\"] = pd.to_numeric(df2[\"DR\"])\n",
        "\n",
        "y = df1['Survival']\n",
        "y = pd.DataFrame(data = y)\n",
        "\n",
        "y = df1['Survival'] - 1\n",
        "\n",
        "\n",
        "#General Information:\n",
        "#Survival of Hepatitis patients\n",
        "# (include Fatigue and Anorexia for predicting features)\n",
        "#Die = 1, Live = 2\n",
        "#Male = 1, Female = 2\n",
        "#In general, 1 = NO, 2 = YES\n",
        "\n",
        "#df2\n",
        "#Image detection of diabetic retinopathy (DR)\n",
        "#19) DR 1 = contains signs of DR (Accumulative label for the Messidor classes 1, 2, 3), 0 = no signs of DR.\n",
        "#Determine which features correlate highly with DR\n",
        "\n",
        "\n",
        "#Imputation for df1: Replaced missing ? values with most common for Sex-Varices and with the mean for Bilirubin-Protime\n",
        "from sklearn.impute import SimpleImputer\n",
        "df1 = df1.replace('?', np.nan)\n",
        "df_Age = df1['Age']\n",
        "\n",
        "imp = SimpleImputer(missing_values=np.nan, strategy='most_frequent')\n",
        "imp.fit(df1.loc[:, 'Sex':'Varices'])\n",
        "SimpleImputer()\n",
        "df_1 = imp.transform(df1.loc[:, 'Sex':'Varices'])\n",
        "\n",
        "imp = SimpleImputer(missing_values=np.nan, strategy='mean')\n",
        "imp.fit(df1.loc[:,'Bilirubin':'Protime'])\n",
        "SimpleImputer()\n",
        "df_11 = imp.transform(df1.loc[:,'Bilirubin':'Protime'])\n",
        "\n",
        "df_hist = df1['Histology']\n",
        "\n",
        "#Convert to pandas dataframe\n",
        "df_1 = pd.DataFrame(data=df_1)\n",
        "df_11 = pd.DataFrame(data=df_11)\n",
        "df_hist = pd.DataFrame(data = df_hist)\n",
        "\n",
        "df_15 = pd.concat([y, df_Age, df_1, df_11, df_hist], axis=1)\n",
        "\n",
        "df_15.columns = col_name\n",
        "\n",
        "df_15 #hepatitis dataframe with all missing values changed to most frequent or means (same size as original dataframe)"
      ]
    },
    {
      "cell_type": "markdown",
      "metadata": {
        "id": "whprGXTMq_9O"
      },
      "source": [
        "Summary of Datasets / Select most important *features*"
      ]
    },
    {
      "cell_type": "markdown",
      "metadata": {
        "id": "lC5wYHzmcbUv"
      },
      "source": [
        "df1"
      ]
    },
    {
      "cell_type": "code",
      "execution_count": null,
      "metadata": {
        "colab": {
          "base_uri": "https://localhost:8080/",
          "height": 353
        },
        "id": "p1IhhooFrAeU",
        "outputId": "c5081f11-4f92-4b1c-f942-4f2e08665a6c"
      },
      "outputs": [
        {
          "output_type": "stream",
          "name": "stderr",
          "text": [
            "/usr/local/lib/python3.7/dist-packages/ipykernel_launcher.py:57: DataConversionWarning: A column-vector y was passed when a 1d array was expected. Please change the shape of y to (n_samples,), for example using ravel().\n"
          ]
        },
        {
          "output_type": "stream",
          "name": "stdout",
          "text": [
            "Elapsed time to compute the importances: 0.011 seconds\n"
          ]
        },
        {
          "output_type": "display_data",
          "data": {
            "text/plain": [
              "<Figure size 432x288 with 1 Axes>"
            ],
            "image/png": "[encoded data removed]"
          },
          "metadata": {
            "needs_background": "light"
          }
        }
      ],
      "source": [
        "from sklearn.preprocessing import StandardScaler\n",
        "from numpy.ma.core import shape\n",
        "import seaborn as sns\n",
        "\n",
        "#Take out outliers\n",
        "Q1 = df_15['Bilirubin'].quantile(0.01)\n",
        "Q3 = df_15['Bilirubin'].quantile(0.99)\n",
        "IQR = Q3 - Q1    #IQR is interquartile range.\n",
        "\n",
        "filter = (df_15['Bilirubin'] >= Q1 - 1.5 * IQR) & (df_15['Bilirubin'] <= Q3 + 1.5 *IQR)\n",
        "df_16 = df_15.loc[filter]\n",
        "\n",
        "Q1 = df_16['Alk_Phosphate'].quantile(0.01)\n",
        "Q3 = df_16['Alk_Phosphate'].quantile(0.99)\n",
        "IQR = Q3 - Q1    #IQR is interquartile range.\n",
        "\n",
        "filter = (df_16['Alk_Phosphate'] >= Q1 - 1.5 * IQR) & (df_16['Alk_Phosphate'] <= Q3 + 1.5 *IQR)\n",
        "df_17 = df_16.loc[filter]\n",
        "\n",
        "\n",
        "Q1 = df_17['SGOT'].quantile(0.01)\n",
        "Q3 = df_17['SGOT'].quantile(0.99)\n",
        "IQR = Q3 - Q1    #IQR is interquartile range.\n",
        "\n",
        "filter = (df_17['SGOT'] >= Q1 - 1.5 * IQR) & (df_17['SGOT'] <= Q3 + 1.5 *IQR)\n",
        "df_18 = df_17.loc[filter]\n",
        "\n",
        "\n",
        "Q1 = df_18['Albumin'].quantile(0.01)\n",
        "Q3 = df_18['Albumin'].quantile(0.99)\n",
        "IQR = Q3 - Q1    #IQR is interquartile range.\n",
        "\n",
        "filter = (df_18['Albumin'] >= Q1 - 1.5 * IQR) & (df_18['Albumin'] <= Q3 + 1.5 *IQR)\n",
        "df_19 = df_18.loc[filter]\n",
        "\n",
        "\n",
        "Q1 = df_19['Protime'].quantile(0.01)\n",
        "Q3 = df_19['Protime'].quantile(0.99)\n",
        "IQR = Q3 - Q1    #IQR is interquartile range.\n",
        "\n",
        "filter = (df_19['Protime'] >= Q1 - 1.5 * IQR) & (df_19['Protime'] <= Q3 + 1.5 *IQR)\n",
        "df_1111 = df_19.loc[filter]\n",
        "df_1111\n",
        "\n",
        "#Find the most important features for df1 - USE RANDOM FOREST CLASSIFIER\n",
        "from sklearn.model_selection import train_test_split\n",
        "from sklearn.ensemble import RandomForestClassifier\n",
        "X = df_1111.loc[:,'Age':]\n",
        "Y = df_1111['Survival']\n",
        "Y = pd.DataFrame(data = Y)\n",
        "X = pd.DataFrame(data = X)\n",
        "\n",
        "X_train, X_test, Y_train, Y_test = train_test_split(X, Y, test_size = 0.2, random_state=1, shuffle=True)\n",
        "\n",
        "feature_names = col_name1\n",
        "forest = RandomForestClassifier(random_state=0)\n",
        "forest.fit(X_train, Y_train)\n",
        "start_time = time.time()\n",
        "importances = forest.feature_importances_\n",
        "std = np.std([tree.feature_importances_ for tree in forest.estimators_], axis=0)\n",
        "elapsed_time = time.time() - start_time\n",
        "print(f\"Elapsed time to compute the importances: {elapsed_time:.3f} seconds\")\n",
        "forest_importances = pd.Series(importances, index=feature_names)\n",
        "fig, ax = plt.subplots()\n",
        "forest_importances.plot.bar(yerr=std, ax=ax)\n",
        "ax.set_title(\"Feature importances using MDI\")\n",
        "ax.set_ylabel(\"Mean decrease in impurity\")\n",
        "fig.tight_layout()\n",
        "fig.savefig(\"RF for DF1\",bbox_inches='tight', dpi=300)\n",
        "\n",
        "\n",
        "\n",
        "X_cont = X[[\"Bilirubin\",\"Alk_Phosphate\",\"SGOT\",\"Albumin\",\"Protime\"]]\n",
        "X_age = X[[\"Age\"]]\n",
        "X_cat = X[['Sex','Steroid','Anitvirals','Fatigue','Malaise','Anorexia',\n",
        "'Liver_Big','Liver_Firm','Spleen_Palpable','Spiders','Ascites','Varices']]\n",
        "X_hist = X[[\"Histology\"]]\n",
        "\n",
        "scaler = StandardScaler()\n",
        "\n",
        "X_cont_std = scaler.fit_transform(X_cont)\n",
        "X_cont_std = pd.DataFrame(X_cont_std, columns = [\"Bilirubin\",\"Alk_Phosphate\",\"SGOT\",\"Albumin\",\"Protime\"])\n",
        "X_age = scaler.fit_transform(X_age)\n",
        "X_age = pd.DataFrame(X_age, columns = [\"Age\"])\n",
        "\n",
        "X_cont_std\n",
        "\n",
        "X_age\n",
        "X_cat = X_cat.astype(int)\n",
        "X_cat = X_cat - 1\n",
        "X_cat\n",
        "\n",
        "X_hist = X_hist.astype(int)\n",
        "X_hist = X_hist -1\n",
        "X_hist\n",
        "\n",
        "\n",
        "X1_af = pd.concat([X_age, X_cat, X_cont_std, X_hist], axis=1)\n",
        "\n",
        "X1_af         #<--- cleaned and standarzed dataframe 1 with all categorical variables 0 or 1      <--use X1_af for predicting accuracy of features in models\n",
        "\n",
        "\n",
        "# #take out the values in Y that we took out to make X1_af, that is make X1_af and y the same size\n",
        "X1_af.index.tolist()\n",
        "y.index.tolist()\n",
        "y_indices = set(y.index.tolist()).intersection(X1_af.index.tolist())\n",
        "y_indices\n",
        "y_index = list(y_indices)\n",
        "Y1 = y.loc[y_index]\n",
        "\n",
        "X1_af = pd.DataFrame(data=X1_af)\n",
        "X1_af.columns = col_name1\n",
        "\n",
        "\n",
        "X1_std = X1_af.loc[:,['Age','SGOT','Bilirubin','Spiders']]        #Create a standardized version of X called - X1_std - (Note: this only has the four most important features)\n",
        "\n",
        "from imblearn.over_sampling import SMOTE          #Created balanced dataset for dataset 1, X1_afs and Y1s\n",
        "sm = SMOTE(random_state=42)\n",
        "X1_afs, Y1s = sm.fit_resample(X1_af, Y1)\n",
        "\n",
        "\n",
        "#Summary Statistics for df1 ---\n",
        "# df1.info()\n",
        "\n",
        "# df1.describe()\n",
        "# #The mean age of patients is 40.6625 years old with a standard deviation of 11.28 years, the youngest is 20 yrs and oldest is 72 yrs\n",
        "\n",
        "# df1.Survival.value_counts(normalize = True)\n",
        "# #83.75% of patients died while 16.25% of patients survived\n",
        "\n",
        "# df1['Sex'].value_counts()\n",
        "# #There were 69 male patients and 11 female patients\n",
        "\n",
        "# df1['Survival'].value_counts()"
      ]
    },
    {
      "cell_type": "markdown",
      "metadata": {
        "id": "kC4IANObAC0p"
      },
      "source": [
        "**Created balanced dataset for dataset 1, X1_afs and Y1s**"
      ]
    },
    {
      "cell_type": "markdown",
      "metadata": {
        "id": "27SXZk3sDAUa"
      },
      "source": [
        "Distribution of features in original df_15"
      ]
    },
    {
      "cell_type": "code",
      "execution_count": null,
      "metadata": {
        "colab": {
          "base_uri": "https://localhost:8080/"
        },
        "id": "lWawMD9B26gj",
        "outputId": "03b38023-b0fa-40a6-d655-c3162790aef0"
      },
      "outputs": [
        {
          "output_type": "stream",
          "name": "stdout",
          "text": [
            "0    154\n",
            "1     92\n",
            "Name: Steroid, dtype: int64\n",
            "1    207\n",
            "0     39\n",
            "Name: Anitvirals, dtype: int64\n",
            "0    192\n",
            "1     54\n",
            "Name: Fatigue, dtype: int64\n",
            "0    145\n",
            "1    101\n",
            "Name: Malaise, dtype: int64\n",
            "1    172\n",
            "0     74\n",
            "Name: Anorexia, dtype: int64\n",
            "1    214\n",
            "0     32\n",
            "Name: Liver_Big, dtype: int64\n",
            "1    138\n",
            "0    108\n",
            "Name: Liver_Firm, dtype: int64\n",
            "1    151\n",
            "0     95\n",
            "Name: Spleen_Palpable, dtype: int64\n",
            "0    137\n",
            "1    109\n",
            "Name: Spiders, dtype: int64\n",
            "1    174\n",
            "0     72\n",
            "Name: Ascites, dtype: int64\n",
            "1    179\n",
            "0     67\n",
            "Name: Varices, dtype: int64\n",
            "1    130\n",
            "0    116\n",
            "Name: Histology, dtype: int64\n"
          ]
        }
      ],
      "source": [
        "data = ['Steroid',\t'Anitvirals','Fatigue',\t'Malaise', 'Anorexia', 'Liver_Big',\t'Liver_Firm',\t'Spleen_Palpable',\t'Spiders',\t'Ascites',\t'Varices', 'Histology']\n",
        "\n",
        "for feature in data:\n",
        "  print(X1_afs[feature].value_counts())\n",
        "\n"
      ]
    },
    {
      "cell_type": "code",
      "execution_count": null,
      "metadata": {
        "colab": {
          "base_uri": "https://localhost:8080/",
          "height": 365
        },
        "id": "IwktB2sTHl9B",
        "outputId": "ae862cca-6020-4af0-84b7-ed42eba2b98e"
      },
      "outputs": [
        {
          "output_type": "display_data",
          "data": {
            "text/plain": [
              "<Figure size 432x288 with 1 Axes>"
            ],
            "image/png": "[encoded data removed]"
          },
          "metadata": {
            "needs_background": "light"
          }
        }
      ],
      "source": [
        "X1_afs\n",
        "#In general, 0 = NO, 1 = YES\n",
        "No = [154, 207, 192, 145, 74, 32, 108, 95, 137, 72, 67, 116]\n",
        "Yes = [92, 39, 54,   101, 172, 214, 138, 151, 109, 174, 179, 130]\n",
        "\n",
        "n=12\n",
        "r = np.arange(12)\n",
        "width = 0.30\n",
        "\n",
        "plt.bar(r, No, color = 'b',\n",
        "        width = width, edgecolor = 'black',\n",
        "        label='No')\n",
        "plt.bar(r + width, Yes, color = 'g',\n",
        "        width = width, edgecolor = 'black',\n",
        "        label='Yes')\n",
        "\n",
        "plt.xlabel(\"Features\")\n",
        "plt.ylabel(\"Counts of each class\")\n",
        "plt.title(\"Count Distribution for Categorical Features in Balanced Hepatitis Data\")\n",
        "\n",
        "# plt.grid(linestyle='--')\n",
        "plt.xticks(r + width/2,['Steroid',\t'Anitvirals','Fatigue',\t'Malaise', 'Anorexia', 'Liver Big',\t'Liver Firm',\t'Spleen Palpable',\t'Spiders',\t'Ascites',\t'Varices', 'Histology'], rotation = 'vertical')\n",
        "fig.set_size_inches(10, 20)\n",
        "plt.legend()\n",
        "plt.savefig('Count Distribution for Categorical Features in Balanced Hepatitis Data.png',dpi=300,bbox_inches='tight')\n",
        "plt.show()"
      ]
    },
    {
      "cell_type": "code",
      "execution_count": null,
      "metadata": {
        "colab": {
          "base_uri": "https://localhost:8080/",
          "height": 365
        },
        "id": "Rq3YYfJBBGue",
        "outputId": "929112d7-9b24-4e1a-eb9d-802b3715a469"
      },
      "outputs": [
        {
          "output_type": "display_data",
          "data": {
            "text/plain": [
              "<Figure size 432x288 with 1 Axes>"
            ],
            "image/png": "[encoded data removed]"
          },
          "metadata": {
            "needs_background": "light"
          }
        }
      ],
      "source": [
        "X1_afs\n",
        "#In general, 0 = NO, 1 = YES\n",
        "No = [76, 24, 101, 61, 32, 25, 60, 30, 51, 20, 18, 85]\n",
        "Yes = [79, 131, 54, 94, 123, 130, 95, 125, 104, 135, 137, 70]\n",
        "\n",
        "n=12\n",
        "r = np.arange(12)\n",
        "width = 0.30\n",
        "\n",
        "plt.bar(r, No, color = 'b',\n",
        "        width = width, edgecolor = 'black',\n",
        "        label='No')\n",
        "plt.bar(r + width, Yes, color = 'g',\n",
        "        width = width, edgecolor = 'black',\n",
        "        label='Yes')\n",
        "\n",
        "plt.xlabel(\"Features\")\n",
        "plt.ylabel(\"Counts of each class\")\n",
        "plt.title(\"Count Distribution for Categorical Features in Original Hepatitis Data\")\n",
        "\n",
        "# plt.grid(linestyle='--')\n",
        "plt.xticks(r + width/2,['Steroid',\t'Anitvirals','Fatigue',\t'Malaise', 'Anorexia', 'Liver Big',\t'Liver Firm',\t'Spleen Palpable',\t'Spiders',\t'Ascites',\t'Varices', 'Histology'], rotation = 'vertical')\n",
        "fig.set_size_inches(10, 20)\n",
        "plt.legend()\n",
        "plt.savefig('Count Distribution for Categorical Features in Original Hepatitis Data.png',dpi=300,bbox_inches='tight')\n",
        "plt.show()"
      ]
    },
    {
      "cell_type": "code",
      "execution_count": null,
      "metadata": {
        "colab": {
          "base_uri": "https://localhost:8080/",
          "height": 1000
        },
        "id": "2UPsS7O39fVZ",
        "outputId": "e65fdc1b-a632-4abd-aea0-50a1a50d83ad"
      },
      "outputs": [
        {
          "output_type": "display_data",
          "data": {
            "text/plain": [
              "<Figure size 432x288 with 1 Axes>"
            ],
            "image/png": "[encoded data removed]"
          },
          "metadata": {
            "needs_background": "light"
          }
        },
        {
          "output_type": "display_data",
          "data": {
            "text/plain": [
              "<Figure size 432x288 with 1 Axes>"
            ],
            "image/png": "[encoded data removed]"
          },
          "metadata": {
            "needs_background": "light"
          }
        },
        {
          "output_type": "display_data",
          "data": {
            "text/plain": [
              "<Figure size 432x288 with 1 Axes>"
            ],
            "image/png": "[encoded data removed]"
          },
          "metadata": {
            "needs_background": "light"
          }
        },
        {
          "output_type": "display_data",
          "data": {
            "text/plain": [
              "<Figure size 432x288 with 1 Axes>"
            ],
            "image/png": "[encoded data removed]"
          },
          "metadata": {
            "needs_background": "light"
          }
        },
        {
          "output_type": "display_data",
          "data": {
            "text/plain": [
              "<Figure size 432x288 with 1 Axes>"
            ],
            "image/png": "[encoded data removed]"
          },
          "metadata": {
            "needs_background": "light"
          }
        }
      ],
      "source": [
        "data = ['Bilirubin',\t'Alk_Phosphate',\t'SGOT',\t'Albumin',\t'Protime']\n",
        "\n",
        "for feature in data:\n",
        "  plt.boxplot(X1_afs[feature])\n",
        "  plt.xlabel(feature)\n",
        "  plt.ylabel(\"Level of\" + feature)\n",
        "  plt.title(\"Distribution of\" + feature)\n",
        "  plt.savefig(f'Distribution of {feature}.png',dpi=300,bbox_inches='tight')\n",
        "  plt.show()"
      ]
    },
    {
      "cell_type": "markdown",
      "metadata": {
        "id": "GKCgPzwzcdmD"
      },
      "source": [
        "df2"
      ]
    },
    {
      "cell_type": "code",
      "execution_count": null,
      "metadata": {
        "colab": {
          "base_uri": "https://localhost:8080/",
          "height": 803
        },
        "id": "n513HrcicfX2",
        "outputId": "0ef91a3c-e282-4ce5-9396-7892d330ca6c"
      },
      "outputs": [
        {
          "output_type": "stream",
          "name": "stderr",
          "text": [
            "/usr/local/lib/python3.7/dist-packages/ipykernel_launcher.py:27: DataConversionWarning: A column-vector y was passed when a 1d array was expected. Please change the shape of y to (n_samples,), for example using ravel().\n"
          ]
        },
        {
          "output_type": "stream",
          "name": "stdout",
          "text": [
            "Elapsed time to compute the importances: 0.055 seconds\n"
          ]
        },
        {
          "output_type": "execute_result",
          "data": {
            "text/plain": [
              "       Quality  Retinalab  MA_at_.5  MA_at_.6  MA_at_.7  MA_at_.8  MA_at_.9  \\\n",
              "0     0.059054   0.298213 -0.641486 -0.618782 -0.576463 -0.630029 -0.551116   \n",
              "1     0.059054   0.298213 -0.563391 -0.535778 -0.576463 -0.677410 -0.653676   \n",
              "2     0.059054   0.298213  0.920417  0.958299  1.046665  1.028299  0.936006   \n",
              "3     0.059054   0.298213  0.647084  0.667784  0.783456  0.838776  0.730886   \n",
              "4     0.059054   0.298213  0.217561  0.294265  0.388641  0.412349  0.525766   \n",
              "...        ...        ...       ...       ...       ...       ...       ...   \n",
              "1146  0.059054   0.298213 -0.172915 -0.120756 -0.050043  0.033302  0.115525   \n",
              "1147  0.059054   0.298213  0.412798  0.501776  0.607982  0.791395  0.833446   \n",
              "1148  0.059054  -3.353309  0.412798  0.460274  0.564114  0.601872  0.730886   \n",
              "1149  0.059054   0.298213  0.022323 -0.037752 -0.269384 -0.440506 -0.807516   \n",
              "1150  0.059054   0.298213 -1.227200 -1.241314 -1.234487 -1.198599 -1.115197   \n",
              "\n",
              "       MA_at_1  Exudate_1  Exudate_2  Exudate_3  Exudate_4  Exudate_5  \\\n",
              "0    -0.473745  -0.242917  -0.246003  -0.296966  -0.271509  -0.218324   \n",
              "1    -0.539992  -0.109250   0.032972  -0.465224  -0.408593  -0.224256   \n",
              "2     0.784951  -0.141383   0.227196   0.344463   0.769037   0.335538   \n",
              "3     0.652456  -0.404199  -0.214977   0.035830   0.316953   0.112573   \n",
              "4     0.387468  -0.788069  -0.672306  -0.717335  -0.468311  -0.225828   \n",
              "...        ...        ...        ...        ...        ...        ...   \n",
              "1146  0.188727  -0.992560  -1.025806  -0.750133  -0.467516  -0.225828   \n",
              "1147  1.049939  -0.015387   0.198657  -0.055085  -0.218523  -0.225203   \n",
              "1148  0.784951  -0.575348  -0.422401  -0.600326  -0.433156  -0.221309   \n",
              "1149 -0.937474  -0.403199  -0.485477  -0.342804  -0.193527   0.001120   \n",
              "1150 -1.069968   0.091120  -0.743572  -0.601429  -0.456428  -0.217298   \n",
              "\n",
              "      Exudate_6  Exudate_7  Exudate_8  dist_Macula_opticdisc  opticdisc_diam  \\\n",
              "0     -0.194409  -0.205124  -0.186169              -1.294763       -0.468656   \n",
              "1     -0.197212  -0.205175  -0.186281              -0.082168        2.006054   \n",
              "2      0.152330  -0.110043  -0.164808               0.274283        1.121516   \n",
              "3      0.056919  -0.195765  -0.199541              -1.423814        0.354501   \n",
              "4     -0.200905  -0.214968  -0.208100              -1.685874        0.844102   \n",
              "...         ...        ...        ...                    ...             ...   \n",
              "1146  -0.200905  -0.214968  -0.208100               0.508422        0.466281   \n",
              "1147  -0.200905  -0.214968  -0.208100              -0.231045        0.878556   \n",
              "1148  -0.200905  -0.214968  -0.208100               1.334363        1.193713   \n",
              "1149   0.108426   0.386140   0.767878              -1.327962       -0.097078   \n",
              "1150  -0.192888  -0.214968  -0.208100               1.176035       -1.085702   \n",
              "\n",
              "         AM/FM  \n",
              "0     1.405048  \n",
              "1    -0.711719  \n",
              "2    -0.711719  \n",
              "3    -0.711719  \n",
              "4    -0.711719  \n",
              "...        ...  \n",
              "1146 -0.711719  \n",
              "1147 -0.711719  \n",
              "1148 -0.711719  \n",
              "1149  1.405048  \n",
              "1150 -0.711719  \n",
              "\n",
              "[1151 rows x 19 columns]"
            ],
            "text/html": [
              "\n",
              "  <div id=\"df-a76db256-f540-42fc-a982-e4d74ecbcb3e\">\n",
              "    <div class=\"colab-df-container\">\n",
              "      <div>\n",
              "<style scoped>\n",
              "    .dataframe tbody tr th:only-of-type {\n",
              "        vertical-align: middle;\n",
              "    }\n",
              "\n",
              "    .dataframe tbody tr th {\n",
              "        vertical-align: top;\n",
              "    }\n",
              "\n",
              "    .dataframe thead th {\n",
              "        text-align: right;\n",
              "    }\n",
              "</style>\n",
              "<table border=\"1\" class=\"dataframe\">\n",
              "  <thead>\n",
              "    <tr style=\"text-align: right;\">\n",
              "      <th></th>\n",
              "      <th>Quality</th>\n",
              "      <th>Retinalab</th>\n",
              "      <th>MA_at_.5</th>\n",
              "      <th>MA_at_.6</th>\n",
              "      <th>MA_at_.7</th>\n",
              "      <th>MA_at_.8</th>\n",
              "      <th>MA_at_.9</th>\n",
              "      <th>MA_at_1</th>\n",
              "      <th>Exudate_1</th>\n",
              "      <th>Exudate_2</th>\n",
              "      <th>Exudate_3</th>\n",
              "      <th>Exudate_4</th>\n",
              "      <th>Exudate_5</th>\n",
              "      <th>Exudate_6</th>\n",
              "      <th>Exudate_7</th>\n",
              "      <th>Exudate_8</th>\n",
              "      <th>dist_Macula_opticdisc</th>\n",
              "      <th>opticdisc_diam</th>\n",
              "      <th>AM/FM</th>\n",
              "    </tr>\n",
              "  </thead>\n",
              "  <tbody>\n",
              "    <tr>\n",
              "      <th>0</th>\n",
              "      <td>0.059054</td>\n",
              "      <td>0.298213</td>\n",
              "      <td>-0.641486</td>\n",
              "      <td>-0.618782</td>\n",
              "      <td>-0.576463</td>\n",
              "      <td>-0.630029</td>\n",
              "      <td>-0.551116</td>\n",
              "      <td>-0.473745</td>\n",
              "      <td>-0.242917</td>\n",
              "      <td>-0.246003</td>\n",
              "      <td>-0.296966</td>\n",
              "      <td>-0.271509</td>\n",
              "      <td>-0.218324</td>\n",
              "      <td>-0.194409</td>\n",
              "      <td>-0.205124</td>\n",
              "      <td>-0.186169</td>\n",
              "      <td>-1.294763</td>\n",
              "      <td>-0.468656</td>\n",
              "      <td>1.405048</td>\n",
              "    </tr>\n",
              "    <tr>\n",
              "      <th>1</th>\n",
              "      <td>0.059054</td>\n",
              "      <td>0.298213</td>\n",
              "      <td>-0.563391</td>\n",
              "      <td>-0.535778</td>\n",
              "      <td>-0.576463</td>\n",
              "      <td>-0.677410</td>\n",
              "      <td>-0.653676</td>\n",
              "      <td>-0.539992</td>\n",
              "      <td>-0.109250</td>\n",
              "      <td>0.032972</td>\n",
              "      <td>-0.465224</td>\n",
              "      <td>-0.408593</td>\n",
              "      <td>-0.224256</td>\n",
              "      <td>-0.197212</td>\n",
              "      <td>-0.205175</td>\n",
              "      <td>-0.186281</td>\n",
              "      <td>-0.082168</td>\n",
              "      <td>2.006054</td>\n",
              "      <td>-0.711719</td>\n",
              "    </tr>\n",
              "    <tr>\n",
              "      <th>2</th>\n",
              "      <td>0.059054</td>\n",
              "      <td>0.298213</td>\n",
              "      <td>0.920417</td>\n",
              "      <td>0.958299</td>\n",
              "      <td>1.046665</td>\n",
              "      <td>1.028299</td>\n",
              "      <td>0.936006</td>\n",
              "      <td>0.784951</td>\n",
              "      <td>-0.141383</td>\n",
              "      <td>0.227196</td>\n",
              "      <td>0.344463</td>\n",
              "      <td>0.769037</td>\n",
              "      <td>0.335538</td>\n",
              "      <td>0.152330</td>\n",
              "      <td>-0.110043</td>\n",
              "      <td>-0.164808</td>\n",
              "      <td>0.274283</td>\n",
              "      <td>1.121516</td>\n",
              "      <td>-0.711719</td>\n",
              "    </tr>\n",
              "    <tr>\n",
              "      <th>3</th>\n",
              "      <td>0.059054</td>\n",
              "      <td>0.298213</td>\n",
              "      <td>0.647084</td>\n",
              "      <td>0.667784</td>\n",
              "      <td>0.783456</td>\n",
              "      <td>0.838776</td>\n",
              "      <td>0.730886</td>\n",
              "      <td>0.652456</td>\n",
              "      <td>-0.404199</td>\n",
              "      <td>-0.214977</td>\n",
              "      <td>0.035830</td>\n",
              "      <td>0.316953</td>\n",
              "      <td>0.112573</td>\n",
              "      <td>0.056919</td>\n",
              "      <td>-0.195765</td>\n",
              "      <td>-0.199541</td>\n",
              "      <td>-1.423814</td>\n",
              "      <td>0.354501</td>\n",
              "      <td>-0.711719</td>\n",
              "    </tr>\n",
              "    <tr>\n",
              "      <th>4</th>\n",
              "      <td>0.059054</td>\n",
              "      <td>0.298213</td>\n",
              "      <td>0.217561</td>\n",
              "      <td>0.294265</td>\n",
              "      <td>0.388641</td>\n",
              "      <td>0.412349</td>\n",
              "      <td>0.525766</td>\n",
              "      <td>0.387468</td>\n",
              "      <td>-0.788069</td>\n",
              "      <td>-0.672306</td>\n",
              "      <td>-0.717335</td>\n",
              "      <td>-0.468311</td>\n",
              "      <td>-0.225828</td>\n",
              "      <td>-0.200905</td>\n",
              "      <td>-0.214968</td>\n",
              "      <td>-0.208100</td>\n",
              "      <td>-1.685874</td>\n",
              "      <td>0.844102</td>\n",
              "      <td>-0.711719</td>\n",
              "    </tr>\n",
              "    <tr>\n",
              "      <th>...</th>\n",
              "      <td>...</td>\n",
              "      <td>...</td>\n",
              "      <td>...</td>\n",
              "      <td>...</td>\n",
              "      <td>...</td>\n",
              "      <td>...</td>\n",
              "      <td>...</td>\n",
              "      <td>...</td>\n",
              "      <td>...</td>\n",
              "      <td>...</td>\n",
              "      <td>...</td>\n",
              "      <td>...</td>\n",
              "      <td>...</td>\n",
              "      <td>...</td>\n",
              "      <td>...</td>\n",
              "      <td>...</td>\n",
              "      <td>...</td>\n",
              "      <td>...</td>\n",
              "      <td>...</td>\n",
              "    </tr>\n",
              "    <tr>\n",
              "      <th>1146</th>\n",
              "      <td>0.059054</td>\n",
              "      <td>0.298213</td>\n",
              "      <td>-0.172915</td>\n",
              "      <td>-0.120756</td>\n",
              "      <td>-0.050043</td>\n",
              "      <td>0.033302</td>\n",
              "      <td>0.115525</td>\n",
              "      <td>0.188727</td>\n",
              "      <td>-0.992560</td>\n",
              "      <td>-1.025806</td>\n",
              "      <td>-0.750133</td>\n",
              "      <td>-0.467516</td>\n",
              "      <td>-0.225828</td>\n",
              "      <td>-0.200905</td>\n",
              "      <td>-0.214968</td>\n",
              "      <td>-0.208100</td>\n",
              "      <td>0.508422</td>\n",
              "      <td>0.466281</td>\n",
              "      <td>-0.711719</td>\n",
              "    </tr>\n",
              "    <tr>\n",
              "      <th>1147</th>\n",
              "      <td>0.059054</td>\n",
              "      <td>0.298213</td>\n",
              "      <td>0.412798</td>\n",
              "      <td>0.501776</td>\n",
              "      <td>0.607982</td>\n",
              "      <td>0.791395</td>\n",
              "      <td>0.833446</td>\n",
              "      <td>1.049939</td>\n",
              "      <td>-0.015387</td>\n",
              "      <td>0.198657</td>\n",
              "      <td>-0.055085</td>\n",
              "      <td>-0.218523</td>\n",
              "      <td>-0.225203</td>\n",
              "      <td>-0.200905</td>\n",
              "      <td>-0.214968</td>\n",
              "      <td>-0.208100</td>\n",
              "      <td>-0.231045</td>\n",
              "      <td>0.878556</td>\n",
              "      <td>-0.711719</td>\n",
              "    </tr>\n",
              "    <tr>\n",
              "      <th>1148</th>\n",
              "      <td>0.059054</td>\n",
              "      <td>-3.353309</td>\n",
              "      <td>0.412798</td>\n",
              "      <td>0.460274</td>\n",
              "      <td>0.564114</td>\n",
              "      <td>0.601872</td>\n",
              "      <td>0.730886</td>\n",
              "      <td>0.784951</td>\n",
              "      <td>-0.575348</td>\n",
              "      <td>-0.422401</td>\n",
              "      <td>-0.600326</td>\n",
              "      <td>-0.433156</td>\n",
              "      <td>-0.221309</td>\n",
              "      <td>-0.200905</td>\n",
              "      <td>-0.214968</td>\n",
              "      <td>-0.208100</td>\n",
              "      <td>1.334363</td>\n",
              "      <td>1.193713</td>\n",
              "      <td>-0.711719</td>\n",
              "    </tr>\n",
              "    <tr>\n",
              "      <th>1149</th>\n",
              "      <td>0.059054</td>\n",
              "      <td>0.298213</td>\n",
              "      <td>0.022323</td>\n",
              "      <td>-0.037752</td>\n",
              "      <td>-0.269384</td>\n",
              "      <td>-0.440506</td>\n",
              "      <td>-0.807516</td>\n",
              "      <td>-0.937474</td>\n",
              "      <td>-0.403199</td>\n",
              "      <td>-0.485477</td>\n",
              "      <td>-0.342804</td>\n",
              "      <td>-0.193527</td>\n",
              "      <td>0.001120</td>\n",
              "      <td>0.108426</td>\n",
              "      <td>0.386140</td>\n",
              "      <td>0.767878</td>\n",
              "      <td>-1.327962</td>\n",
              "      <td>-0.097078</td>\n",
              "      <td>1.405048</td>\n",
              "    </tr>\n",
              "    <tr>\n",
              "      <th>1150</th>\n",
              "      <td>0.059054</td>\n",
              "      <td>0.298213</td>\n",
              "      <td>-1.227200</td>\n",
              "      <td>-1.241314</td>\n",
              "      <td>-1.234487</td>\n",
              "      <td>-1.198599</td>\n",
              "      <td>-1.115197</td>\n",
              "      <td>-1.069968</td>\n",
              "      <td>0.091120</td>\n",
              "      <td>-0.743572</td>\n",
              "      <td>-0.601429</td>\n",
              "      <td>-0.456428</td>\n",
              "      <td>-0.217298</td>\n",
              "      <td>-0.192888</td>\n",
              "      <td>-0.214968</td>\n",
              "      <td>-0.208100</td>\n",
              "      <td>1.176035</td>\n",
              "      <td>-1.085702</td>\n",
              "      <td>-0.711719</td>\n",
              "    </tr>\n",
              "  </tbody>\n",
              "</table>\n",
              "<p>1151 rows × 19 columns</p>\n",
              "</div>\n",
              "      <button class=\"colab-df-convert\" onclick=\"convertToInteractive('df-a76db256-f540-42fc-a982-e4d74ecbcb3e')\"\n",
              "              title=\"Convert this dataframe to an interactive table.\"\n",
              "              style=\"display:none;\">\n",
              "        \n",
              "  <svg xmlns=\"http://www.w3.org/2000/svg\" height=\"24px\"viewBox=\"0 0 24 24\"\n",
              "       width=\"24px\">\n",
              "    <path d=\"M0 0h24v24H0V0z\" fill=\"none\"/>\n",
              "    <path d=\"M18.56 5.44l.94 2.06.94-2.06 2.06-.94-2.06-.94-.94-2.06-.94 2.06-2.06.94zm-11 1L8.5 8.5l.94-2.06 2.06-.94-2.06-.94L8.5 2.5l-.94 2.06-2.06.94zm10 10l.94 2.06.94-2.06 2.06-.94-2.06-.94-.94-2.06-.94 2.06-2.06.94z\"/><path d=\"M17.41 7.96l-1.37-1.37c-.4-.4-.92-.59-1.43-.59-.52 0-1.04.2-1.43.59L10.3 9.45l-7.72 7.72c-.78.78-.78 2.05 0 2.83L4 21.41c.39.39.9.59 1.41.59.51 0 1.02-.2 1.41-.59l7.78-7.78 2.81-2.81c.8-.78.8-2.07 0-2.86zM5.41 20L4 18.59l7.72-7.72 1.47 1.35L5.41 20z\"/>\n",
              "  </svg>\n",
              "      </button>\n",
              "      \n",
              "  <style>\n",
              "    .colab-df-container {\n",
              "      display:flex;\n",
              "      flex-wrap:wrap;\n",
              "      gap: 12px;\n",
              "    }\n",
              "\n",
              "    .colab-df-convert {\n",
              "      background-color: #E8F0FE;\n",
              "      border: none;\n",
              "      border-radius: 50%;\n",
              "      cursor: pointer;\n",
              "      display: none;\n",
              "      fill: #1967D2;\n",
              "      height: 32px;\n",
              "      padding: 0 0 0 0;\n",
              "      width: 32px;\n",
              "    }\n",
              "\n",
              "    .colab-df-convert:hover {\n",
              "      background-color: #E2EBFA;\n",
              "      box-shadow: 0px 1px 2px rgba(60, 64, 67, 0.3), 0px 1px 3px 1px rgba(60, 64, 67, 0.15);\n",
              "      fill: #174EA6;\n",
              "    }\n",
              "\n",
              "    [theme=dark] .colab-df-convert {\n",
              "      background-color: #3B4455;\n",
              "      fill: #D2E3FC;\n",
              "    }\n",
              "\n",
              "    [theme=dark] .colab-df-convert:hover {\n",
              "      background-color: #434B5C;\n",
              "      box-shadow: 0px 1px 3px 1px rgba(0, 0, 0, 0.15);\n",
              "      filter: drop-shadow(0px 1px 2px rgba(0, 0, 0, 0.3));\n",
              "      fill: #FFFFFF;\n",
              "    }\n",
              "  </style>\n",
              "\n",
              "      <script>\n",
              "        const buttonEl =\n",
              "          document.querySelector('#df-a76db256-f540-42fc-a982-e4d74ecbcb3e button.colab-df-convert');\n",
              "        buttonEl.style.display =\n",
              "          google.colab.kernel.accessAllowed ? 'block' : 'none';\n",
              "\n",
              "        async function convertToInteractive(key) {\n",
              "          const element = document.querySelector('#df-a76db256-f540-42fc-a982-e4d74ecbcb3e');\n",
              "          const dataTable =\n",
              "            await google.colab.kernel.invokeFunction('convertToInteractive',\n",
              "                                                     [key], {});\n",
              "          if (!dataTable) return;\n",
              "\n",
              "          const docLinkHtml = 'Like what you see? Visit the ' +\n",
              "            '<a target=\"_blank\" href=https://colab.research.google.com/notebooks/data_table.ipynb>data table notebook</a>'\n",
              "            + ' to learn more about interactive tables.';\n",
              "          element.innerHTML = '';\n",
              "          dataTable['output_type'] = 'display_data';\n",
              "          await google.colab.output.renderOutput(dataTable, element);\n",
              "          const docLink = document.createElement('div');\n",
              "          docLink.innerHTML = docLinkHtml;\n",
              "          element.appendChild(docLink);\n",
              "        }\n",
              "      </script>\n",
              "    </div>\n",
              "  </div>\n",
              "  "
            ]
          },
          "metadata": {},
          "execution_count": 8
        },
        {
          "output_type": "display_data",
          "data": {
            "text/plain": [
              "<Figure size 432x288 with 1 Axes>"
            ],
            "image/png": "[encoded data removed]"
          },
          "metadata": {
            "needs_background": "light"
          }
        }
      ],
      "source": [
        "from sklearn.preprocessing import StandardScaler\n",
        "#Separate df2 into X2 and Y2\n",
        "#X2 is cleaned DF2 with all features\n",
        "#X22 is cleaned DF2 with 4 most important features\n",
        "\n",
        "\n",
        "X2 = df2.loc[:,'Quality':'AM/FM']         #***(X2 is a cleaned dataset 2 with all of the features)***\n",
        "Y2 = df2['DR']\n",
        "\n",
        "scaler = StandardScaler()\n",
        "X2_std = scaler.fit_transform(X2)         #***(X2_std is a cleaned and standarized dataset 2 with all of the features)***. <--- Use this for accuracy prediction -- use X2_std --\n",
        "X2_std = pd.DataFrame(data=X2_std)\n",
        "X2_std.columns = col_name2\n",
        "Y2 = pd.DataFrame(data = Y2)\n",
        "\n",
        "\n",
        "\n",
        "\n",
        "#Find the most important features for df2\n",
        "\n",
        "X2_train, X2_test, Y2_train, Y2_test = train_test_split(X2, Y2, test_size = 0.2, random_state=1, shuffle=True)\n",
        "\n",
        "from sklearn.ensemble import RandomForestClassifier\n",
        "feature_names = [f\"feature {i}\" for i in range(X.shape[1])]\n",
        "# feature_names = col_name2\n",
        "forest = RandomForestClassifier(random_state=0)\n",
        "forest.fit(X2_train, Y2_train)\n",
        "start_time = time.time()\n",
        "importances = forest.feature_importances_\n",
        "std = np.std([tree.feature_importances_ for tree in forest.estimators_], axis=0)\n",
        "elapsed_time = time.time() - start_time\n",
        "print(f\"Elapsed time to compute the importances: {elapsed_time:.3f} seconds\")\n",
        "forest_importances = pd.Series(importances, index=col_name2)\n",
        "fig, ax = plt.subplots()\n",
        "forest_importances.plot.bar(yerr=std, ax=ax)\n",
        "ax.set_title(\"Feature importances using MDI\")\n",
        "ax.set_ylabel(\"Mean decrease in impurity\")\n",
        "fig.tight_layout()\n",
        "fig.savefig(\"RF for DF2\",bbox_inches='tight', dpi=300)\n",
        "\n",
        "\n",
        "\n",
        "# #Modified df2 with most important features\n",
        "X22_std = X2_std.loc[:,['MA_at_.5','Exudate_1','dist_Macula_opticdisc','opticdisc_diam']]\n",
        "X22_std = pd.DataFrame(data=X22_std)\n",
        "X22_std.columns = ['MA_at_.5','Exudate_1','dist_Macula_opticdisc','opticdisc_diam']              #***(This is a cleaned and standarized dataset 2 with most important features)***\n",
        "Y2 = pd.DataFrame(data = Y2)\n",
        "\n",
        "\n",
        "\n",
        "X22_std\n",
        "X2_std"
      ]
    },
    {
      "cell_type": "code",
      "execution_count": null,
      "metadata": {
        "colab": {
          "base_uri": "https://localhost:8080/",
          "height": 1000
        },
        "id": "BxYCglEjC1J3",
        "outputId": "0fb08535-78c6-4f69-9040-dc4c6648a5f5"
      },
      "outputs": [
        {
          "output_type": "display_data",
          "data": {
            "text/plain": [
              "<Figure size 432x288 with 1 Axes>"
            ],
            "image/png": "[encoded data removed]"
          },
          "metadata": {
            "needs_background": "light"
          }
        },
        {
          "output_type": "display_data",
          "data": {
            "text/plain": [
              "<Figure size 432x288 with 1 Axes>"
            ],
            "image/png": "[encoded data removed]"
          },
          "metadata": {
            "needs_background": "light"
          }
        },
        {
          "output_type": "display_data",
          "data": {
            "text/plain": [
              "<Figure size 432x288 with 1 Axes>"
            ],
            "image/png": "[encoded data removed]"
          },
          "metadata": {
            "needs_background": "light"
          }
        },
        {
          "output_type": "display_data",
          "data": {
            "text/plain": [
              "<Figure size 432x288 with 1 Axes>"
            ],
            "image/png": "[encoded data removed]"
          },
          "metadata": {
            "needs_background": "light"
          }
        }
      ],
      "source": [
        "data = ['MA_at_.5',\t'Exudate_1',\t'dist_Macula_opticdisc',\t'opticdisc_diam']\n",
        "\n",
        "for feature in data:\n",
        "  plt.boxplot(X2[feature])\n",
        "  plt.xlabel(feature)\n",
        "  plt.ylabel(\"Level of\" + feature)\n",
        "  plt.title(\"Distribution of\" + feature)\n",
        "  plt.savefig(f'Distribution of {feature}.png',dpi=300,bbox_inches='tight')\n",
        "  plt.show()"
      ]
    },
    {
      "cell_type": "markdown",
      "metadata": {
        "id": "8bOK-vacrFrb"
      },
      "source": [
        "# **Task 2**"
      ]
    },
    {
      "cell_type": "markdown",
      "metadata": {
        "id": "aoFMLhgorKIS"
      },
      "source": [
        "#Implementation of KNN\n",
        "\n"
      ]
    },
    {
      "cell_type": "markdown",
      "metadata": {
        "id": "XfgMlkjFrK2H"
      },
      "source": [
        "The KNN class\n",
        "\n",
        "We implement our models as python classes. Two class methods that we usually need to implement are fit and predict; which respectively perform training by fitting the data, and making prediction on new data. In the __init__ function, we initialize our model, usually this includes an assignment to hyper-parameters."
      ]
    },
    {
      "cell_type": "code",
      "execution_count": null,
      "metadata": {
        "id": "ySkuEPvYrQhq"
      },
      "outputs": [],
      "source": [
        "from scipy.linalg.decomp import empty\n",
        "from re import A\n",
        "\n",
        "from sklearn.metrics import roc_curve, roc_auc_score\n",
        "euclidean = lambda x1, x2: np.sqrt(np.sum((x1 - x2)**2, axis=-1))\n",
        "manhattan = lambda x1, x2: np.sum(np.abs(x1 - x2), axis=-1)\n",
        "\n",
        "class KNN:\n",
        "\n",
        "    def __init__(self, K=1, dist_fn= euclidean):\n",
        "        self.dist_fn = dist_fn\n",
        "        self.K = K\n",
        "        return\n",
        "\n",
        "\n",
        "    def fit(self, X, y):\n",
        "        ''' Store the training data using this method as it is a lazy learner'''  #all the training that KNN does is remember the data\n",
        "        self.X = X\n",
        "        self.y = y\n",
        "        self.C = 2  #number of classes of output y\n",
        "        return self\n",
        "\n",
        "\n",
        "    def predict(self, X_test):\n",
        "        ''' Makes a prediction using the stored training data and the test data given as argument'''  #using stored data, makes prediction from x_test\n",
        "        num_test = X_test.shape[0]    #number of rows or observations for testing data, the number of testing samples\n",
        "\n",
        "        # calculate distance between the training & test samples and returns an array of shape [num_test, num_train]\n",
        "        distances = np.zeros((num_test,self.X.shape[0]))\n",
        "        for i in range (num_test):\n",
        "          for j in range (self.X.shape[0]):\n",
        "            distances[i][j] = self.dist_fn(X_test[i],self.X[j])\n",
        "\n",
        "        #Create knn, ith-row of knns stores the indices of k closest training samples to the ith-test sample\n",
        "        knns = np.zeros((num_test, self.K), dtype=int)\n",
        "\n",
        "        #Create array for predicted Y_Predicted\n",
        "        Y_Predicted = np.zeros((num_test))\n",
        "\n",
        "\n",
        "\n",
        "        #Create y_prob, ith-row of y_prob has the probability distribution over C classes\n",
        "        y_prob = np.zeros((num_test, self.C))\n",
        "        for i in range(num_test):\n",
        "            knns[i,:] = np.argsort(distances[i])[:self.K]\n",
        "\n",
        "            #np bin count goes wrong here as survival ranges from 1-2, but bincount(arr) returns an array as large as the largest element+1 in arr\n",
        "            #use np unique instead. Np unique returns an array with all the unique elements extracted from the array. Return_counts options return\n",
        "            #the number of times each of the unique values comes up in the original array\n",
        "            #values are the result y lables, while counts are the corresponding frequency of lables\n",
        "\n",
        "            values, counts = np.unique(self.y[knns[i,:]], return_counts=True)\n",
        "            # print('Corresponding survival status of knn')\n",
        "            # print(self.y[knns[i,:]])\n",
        "            for c in range(self.C):\n",
        "              Classindex = np.where(values == c)[0]\n",
        "              if (Classindex.shape[0] == 0):\n",
        "                y_prob[i][c] = 0\n",
        "              else:\n",
        "                y_prob[i][c] = counts[Classindex[0]]/self.K\n",
        "\n",
        "            mode_indice = np.argmax(counts)\n",
        "            Y_Predicted[i] = values[mode_indice]\n",
        "            # print('Survival probabilities')\n",
        "            # print(y_prob[i,:])\n",
        "            # print('Survival prediction')\n",
        "            # print(Y_Predicted[i])\n",
        "\n",
        "        return y_prob, knns, Y_Predicted\n",
        "\n",
        "\n",
        "    def evaluate_acc(self, Y_predicted, Y_test):\n",
        "        acc =  np.sum(Y_predicted == Y_test)/Y_test.shape[0]\n",
        "        return acc\n",
        "\n",
        "\n",
        ""
      ]
    },
    {
      "cell_type": "markdown",
      "metadata": {
        "id": "dw6DM1fkanIr"
      },
      "source": [
        "#Verify knn on df1"
      ]
    },
    {
      "cell_type": "code",
      "execution_count": null,
      "metadata": {
        "colab": {
          "base_uri": "https://localhost:8080/",
          "height": 1000
        },
        "id": "6FYWrexzjLA-",
        "outputId": "3ef6c3f3-8520-4c10-9288-339634cb0329"
      },
      "outputs": [
        {
          "output_type": "stream",
          "name": "stdout",
          "text": [
            "Shape of X_train: (124, 4)\n",
            "Shape of X_test: (31, 4)\n",
            "knns shape: (31, 10)\n",
            "y_prob shape: (31, 2)\n",
            "Y_predicted: (31,)\n",
            "Y predicted\n",
            "[1. 1. 1. 1. 1. 1. 1. 1. 1. 1. 1. 1. 1. 0. 1.]\n",
            "Y_test\n",
            "[1 1 1 0 0 1 1 0 1 1 1 1 1 1 1]\n",
            "accuracy is 0.871.\n",
            "[[0.1 0.9]\n",
            " [0.  1. ]\n",
            " [0.  1. ]\n",
            " [0.  1. ]\n",
            " [0.4 0.6]\n",
            " [0.1 0.9]\n",
            " [0.2 0.8]\n",
            " [0.  1. ]\n",
            " [0.  1. ]\n",
            " [0.  1. ]\n",
            " [0.1 0.9]\n",
            " [0.4 0.6]\n",
            " [0.  1. ]\n",
            " [0.5 0.5]\n",
            " [0.1 0.9]\n",
            " [0.  1. ]\n",
            " [0.  1. ]\n",
            " [0.1 0.9]\n",
            " [0.1 0.9]\n",
            " [0.1 0.9]\n",
            " [0.  1. ]\n",
            " [0.4 0.6]\n",
            " [0.6 0.4]\n",
            " [0.3 0.7]\n",
            " [0.1 0.9]\n",
            " [0.2 0.8]\n",
            " [0.6 0.4]\n",
            " [0.  1. ]\n",
            " [0.2 0.8]\n",
            " [0.  1. ]\n",
            " [0.  1. ]]\n"
          ]
        },
        {
          "output_type": "display_data",
          "data": {
            "text/plain": [
              "<Figure size 432x288 with 1 Axes>"
            ],
            "image/png": "[encoded data removed]"
          },
          "metadata": {
            "needs_background": "light"
          }
        }
      ],
      "source": [
        "from sklearn.model_selection import train_test_split\n",
        "#Validate that knn is working for DF1\n",
        "myK = 10\n",
        "\n",
        "model = KNN(K=myK)\n",
        "\n",
        "\n",
        "#Split data, Y_train and Y_test dimension are reduced to 1\n",
        "X_train, X_test, Y_train, Y_test = train_test_split(X1_std, Y1, test_size = 0.2, random_state=1, shuffle=True)\n",
        "\n",
        "Y_train = Y_train.to_numpy()\n",
        "# Y_train = Y_train.Survival.astype(int).to_numpy()\n",
        "X_train = X_train.to_numpy()\n",
        "X_test = X_test.to_numpy()\n",
        "# Y_test = Y_test.Survival.astype(int).to_numpy()\n",
        "Y_test = Y_test.to_numpy()\n",
        "N_test_samples = X_test.shape[0]\n",
        "\n",
        "print(f\"Shape of X_train: {X_train.shape}\")\n",
        "print(f\"Shape of X_test: {X_test.shape}\")\n",
        "\n",
        "model.fit(X_train, Y_train)\n",
        "y_prob, knns , Y_predicted = model.predict(X_test)\n",
        "print('knns shape:', knns.shape)\n",
        "print('y_prob shape:', y_prob.shape)\n",
        "print('Y_predicted:', Y_predicted.shape)\n",
        "\n",
        "print('Y predicted')\n",
        "print(Y_predicted[0:15])\n",
        "print('Y_test')\n",
        "print(Y_test[0:15])\n",
        "\n",
        "#To get hard predictions by choosing the class with the maximum probability\n",
        "accuracy = model.evaluate_acc(Y_predicted,Y_test)\n",
        "print(f'accuracy is {accuracy:.3f}.')\n",
        "\n",
        "#boolean array to later slice the indexes of correct and incorrect predictions\n",
        "correct = Y_test == Y_predicted\n",
        "incorrect = np.logical_not(correct)\n",
        "\n",
        "#TODO: visualization of the points\n",
        "plt.scatter(X_train[:,0], X_train[:,1], c=Y_train, marker='o', alpha=.2, label='train')     #plot x_training points\n",
        "plt.scatter(X_test[correct,0], X_test[correct,1], marker='.', c=Y_predicted[correct], label='correct')   #plot correctly classified testing points\n",
        "plt.scatter(X_test[incorrect,0], X_test[incorrect,1], marker='x', c=Y_test[incorrect], label='misclassified')   #plot incorrectly classified testing points\n",
        "\n",
        "#connect each node to k-nearest neighbours in the training set      for each point in x_test, connect it to k-nearest neighbors in training set\n",
        "for i in range(X_test.shape[0]):\n",
        "    for k in range(model.K):\n",
        "        hor = X_test[i,0], X_train[knns[i,k],0]\n",
        "        ver = X_test[i,1], X_train[knns[i,k],1]\n",
        "        plt.plot(hor, ver, 'k-', alpha=.1)\n",
        "\n",
        "plt.ylabel('SGOT')\n",
        "plt.xlabel('Age')\n",
        "plt.legend()\n",
        "plt.savefig('df1_KNN'+str(myK)+'.png',dpi=300,bbox_inches='tight')\n",
        "# plt.show()\n",
        "\n",
        "print(y_prob)"
      ]
    },
    {
      "cell_type": "markdown",
      "metadata": {
        "id": "tTApJnXfbRJQ"
      },
      "source": [
        "##Verify knn on df2"
      ]
    },
    {
      "cell_type": "code",
      "execution_count": null,
      "metadata": {
        "id": "4ob0kDz5zsjU",
        "colab": {
          "base_uri": "https://localhost:8080/",
          "height": 488
        },
        "outputId": "e1d4eef0-cb70-41e6-f23a-9926700fbef3"
      },
      "outputs": [
        {
          "output_type": "execute_result",
          "data": {
            "text/plain": [
              "       Quality  Retinalab  MA_at_.5  MA_at_.6  MA_at_.7  MA_at_.8  MA_at_.9  \\\n",
              "0     0.059054   0.298213 -0.641486 -0.618782 -0.576463 -0.630029 -0.551116   \n",
              "1     0.059054   0.298213 -0.563391 -0.535778 -0.576463 -0.677410 -0.653676   \n",
              "2     0.059054   0.298213  0.920417  0.958299  1.046665  1.028299  0.936006   \n",
              "3     0.059054   0.298213  0.647084  0.667784  0.783456  0.838776  0.730886   \n",
              "4     0.059054   0.298213  0.217561  0.294265  0.388641  0.412349  0.525766   \n",
              "...        ...        ...       ...       ...       ...       ...       ...   \n",
              "1146  0.059054   0.298213 -0.172915 -0.120756 -0.050043  0.033302  0.115525   \n",
              "1147  0.059054   0.298213  0.412798  0.501776  0.607982  0.791395  0.833446   \n",
              "1148  0.059054  -3.353309  0.412798  0.460274  0.564114  0.601872  0.730886   \n",
              "1149  0.059054   0.298213  0.022323 -0.037752 -0.269384 -0.440506 -0.807516   \n",
              "1150  0.059054   0.298213 -1.227200 -1.241314 -1.234487 -1.198599 -1.115197   \n",
              "\n",
              "       MA_at_1  Exudate_1  Exudate_2  Exudate_3  Exudate_4  Exudate_5  \\\n",
              "0    -0.473745  -0.242917  -0.246003  -0.296966  -0.271509  -0.218324   \n",
              "1    -0.539992  -0.109250   0.032972  -0.465224  -0.408593  -0.224256   \n",
              "2     0.784951  -0.141383   0.227196   0.344463   0.769037   0.335538   \n",
              "3     0.652456  -0.404199  -0.214977   0.035830   0.316953   0.112573   \n",
              "4     0.387468  -0.788069  -0.672306  -0.717335  -0.468311  -0.225828   \n",
              "...        ...        ...        ...        ...        ...        ...   \n",
              "1146  0.188727  -0.992560  -1.025806  -0.750133  -0.467516  -0.225828   \n",
              "1147  1.049939  -0.015387   0.198657  -0.055085  -0.218523  -0.225203   \n",
              "1148  0.784951  -0.575348  -0.422401  -0.600326  -0.433156  -0.221309   \n",
              "1149 -0.937474  -0.403199  -0.485477  -0.342804  -0.193527   0.001120   \n",
              "1150 -1.069968   0.091120  -0.743572  -0.601429  -0.456428  -0.217298   \n",
              "\n",
              "      Exudate_6  Exudate_7  Exudate_8  dist_Macula_opticdisc  opticdisc_diam  \\\n",
              "0     -0.194409  -0.205124  -0.186169              -1.294763       -0.468656   \n",
              "1     -0.197212  -0.205175  -0.186281              -0.082168        2.006054   \n",
              "2      0.152330  -0.110043  -0.164808               0.274283        1.121516   \n",
              "3      0.056919  -0.195765  -0.199541              -1.423814        0.354501   \n",
              "4     -0.200905  -0.214968  -0.208100              -1.685874        0.844102   \n",
              "...         ...        ...        ...                    ...             ...   \n",
              "1146  -0.200905  -0.214968  -0.208100               0.508422        0.466281   \n",
              "1147  -0.200905  -0.214968  -0.208100              -0.231045        0.878556   \n",
              "1148  -0.200905  -0.214968  -0.208100               1.334363        1.193713   \n",
              "1149   0.108426   0.386140   0.767878              -1.327962       -0.097078   \n",
              "1150  -0.192888  -0.214968  -0.208100               1.176035       -1.085702   \n",
              "\n",
              "         AM/FM  \n",
              "0     1.405048  \n",
              "1    -0.711719  \n",
              "2    -0.711719  \n",
              "3    -0.711719  \n",
              "4    -0.711719  \n",
              "...        ...  \n",
              "1146 -0.711719  \n",
              "1147 -0.711719  \n",
              "1148 -0.711719  \n",
              "1149  1.405048  \n",
              "1150 -0.711719  \n",
              "\n",
              "[1151 rows x 19 columns]"
            ],
            "text/html": [
              "\n",
              "  <div id=\"df-6f801a37-190a-430a-b384-4eef43032e46\">\n",
              "    <div class=\"colab-df-container\">\n",
              "      <div>\n",
              "<style scoped>\n",
              "    .dataframe tbody tr th:only-of-type {\n",
              "        vertical-align: middle;\n",
              "    }\n",
              "\n",
              "    .dataframe tbody tr th {\n",
              "        vertical-align: top;\n",
              "    }\n",
              "\n",
              "    .dataframe thead th {\n",
              "        text-align: right;\n",
              "    }\n",
              "</style>\n",
              "<table border=\"1\" class=\"dataframe\">\n",
              "  <thead>\n",
              "    <tr style=\"text-align: right;\">\n",
              "      <th></th>\n",
              "      <th>Quality</th>\n",
              "      <th>Retinalab</th>\n",
              "      <th>MA_at_.5</th>\n",
              "      <th>MA_at_.6</th>\n",
              "      <th>MA_at_.7</th>\n",
              "      <th>MA_at_.8</th>\n",
              "      <th>MA_at_.9</th>\n",
              "      <th>MA_at_1</th>\n",
              "      <th>Exudate_1</th>\n",
              "      <th>Exudate_2</th>\n",
              "      <th>Exudate_3</th>\n",
              "      <th>Exudate_4</th>\n",
              "      <th>Exudate_5</th>\n",
              "      <th>Exudate_6</th>\n",
              "      <th>Exudate_7</th>\n",
              "      <th>Exudate_8</th>\n",
              "      <th>dist_Macula_opticdisc</th>\n",
              "      <th>opticdisc_diam</th>\n",
              "      <th>AM/FM</th>\n",
              "    </tr>\n",
              "  </thead>\n",
              "  <tbody>\n",
              "    <tr>\n",
              "      <th>0</th>\n",
              "      <td>0.059054</td>\n",
              "      <td>0.298213</td>\n",
              "      <td>-0.641486</td>\n",
              "      <td>-0.618782</td>\n",
              "      <td>-0.576463</td>\n",
              "      <td>-0.630029</td>\n",
              "      <td>-0.551116</td>\n",
              "      <td>-0.473745</td>\n",
              "      <td>-0.242917</td>\n",
              "      <td>-0.246003</td>\n",
              "      <td>-0.296966</td>\n",
              "      <td>-0.271509</td>\n",
              "      <td>-0.218324</td>\n",
              "      <td>-0.194409</td>\n",
              "      <td>-0.205124</td>\n",
              "      <td>-0.186169</td>\n",
              "      <td>-1.294763</td>\n",
              "      <td>-0.468656</td>\n",
              "      <td>1.405048</td>\n",
              "    </tr>\n",
              "    <tr>\n",
              "      <th>1</th>\n",
              "      <td>0.059054</td>\n",
              "      <td>0.298213</td>\n",
              "      <td>-0.563391</td>\n",
              "      <td>-0.535778</td>\n",
              "      <td>-0.576463</td>\n",
              "      <td>-0.677410</td>\n",
              "      <td>-0.653676</td>\n",
              "      <td>-0.539992</td>\n",
              "      <td>-0.109250</td>\n",
              "      <td>0.032972</td>\n",
              "      <td>-0.465224</td>\n",
              "      <td>-0.408593</td>\n",
              "      <td>-0.224256</td>\n",
              "      <td>-0.197212</td>\n",
              "      <td>-0.205175</td>\n",
              "      <td>-0.186281</td>\n",
              "      <td>-0.082168</td>\n",
              "      <td>2.006054</td>\n",
              "      <td>-0.711719</td>\n",
              "    </tr>\n",
              "    <tr>\n",
              "      <th>2</th>\n",
              "      <td>0.059054</td>\n",
              "      <td>0.298213</td>\n",
              "      <td>0.920417</td>\n",
              "      <td>0.958299</td>\n",
              "      <td>1.046665</td>\n",
              "      <td>1.028299</td>\n",
              "      <td>0.936006</td>\n",
              "      <td>0.784951</td>\n",
              "      <td>-0.141383</td>\n",
              "      <td>0.227196</td>\n",
              "      <td>0.344463</td>\n",
              "      <td>0.769037</td>\n",
              "      <td>0.335538</td>\n",
              "      <td>0.152330</td>\n",
              "      <td>-0.110043</td>\n",
              "      <td>-0.164808</td>\n",
              "      <td>0.274283</td>\n",
              "      <td>1.121516</td>\n",
              "      <td>-0.711719</td>\n",
              "    </tr>\n",
              "    <tr>\n",
              "      <th>3</th>\n",
              "      <td>0.059054</td>\n",
              "      <td>0.298213</td>\n",
              "      <td>0.647084</td>\n",
              "      <td>0.667784</td>\n",
              "      <td>0.783456</td>\n",
              "      <td>0.838776</td>\n",
              "      <td>0.730886</td>\n",
              "      <td>0.652456</td>\n",
              "      <td>-0.404199</td>\n",
              "      <td>-0.214977</td>\n",
              "      <td>0.035830</td>\n",
              "      <td>0.316953</td>\n",
              "      <td>0.112573</td>\n",
              "      <td>0.056919</td>\n",
              "      <td>-0.195765</td>\n",
              "      <td>-0.199541</td>\n",
              "      <td>-1.423814</td>\n",
              "      <td>0.354501</td>\n",
              "      <td>-0.711719</td>\n",
              "    </tr>\n",
              "    <tr>\n",
              "      <th>4</th>\n",
              "      <td>0.059054</td>\n",
              "      <td>0.298213</td>\n",
              "      <td>0.217561</td>\n",
              "      <td>0.294265</td>\n",
              "      <td>0.388641</td>\n",
              "      <td>0.412349</td>\n",
              "      <td>0.525766</td>\n",
              "      <td>0.387468</td>\n",
              "      <td>-0.788069</td>\n",
              "      <td>-0.672306</td>\n",
              "      <td>-0.717335</td>\n",
              "      <td>-0.468311</td>\n",
              "      <td>-0.225828</td>\n",
              "      <td>-0.200905</td>\n",
              "      <td>-0.214968</td>\n",
              "      <td>-0.208100</td>\n",
              "      <td>-1.685874</td>\n",
              "      <td>0.844102</td>\n",
              "      <td>-0.711719</td>\n",
              "    </tr>\n",
              "    <tr>\n",
              "      <th>...</th>\n",
              "      <td>...</td>\n",
              "      <td>...</td>\n",
              "      <td>...</td>\n",
              "      <td>...</td>\n",
              "      <td>...</td>\n",
              "      <td>...</td>\n",
              "      <td>...</td>\n",
              "      <td>...</td>\n",
              "      <td>...</td>\n",
              "      <td>...</td>\n",
              "      <td>...</td>\n",
              "      <td>...</td>\n",
              "      <td>...</td>\n",
              "      <td>...</td>\n",
              "      <td>...</td>\n",
              "      <td>...</td>\n",
              "      <td>...</td>\n",
              "      <td>...</td>\n",
              "      <td>...</td>\n",
              "    </tr>\n",
              "    <tr>\n",
              "      <th>1146</th>\n",
              "      <td>0.059054</td>\n",
              "      <td>0.298213</td>\n",
              "      <td>-0.172915</td>\n",
              "      <td>-0.120756</td>\n",
              "      <td>-0.050043</td>\n",
              "      <td>0.033302</td>\n",
              "      <td>0.115525</td>\n",
              "      <td>0.188727</td>\n",
              "      <td>-0.992560</td>\n",
              "      <td>-1.025806</td>\n",
              "      <td>-0.750133</td>\n",
              "      <td>-0.467516</td>\n",
              "      <td>-0.225828</td>\n",
              "      <td>-0.200905</td>\n",
              "      <td>-0.214968</td>\n",
              "      <td>-0.208100</td>\n",
              "      <td>0.508422</td>\n",
              "      <td>0.466281</td>\n",
              "      <td>-0.711719</td>\n",
              "    </tr>\n",
              "    <tr>\n",
              "      <th>1147</th>\n",
              "      <td>0.059054</td>\n",
              "      <td>0.298213</td>\n",
              "      <td>0.412798</td>\n",
              "      <td>0.501776</td>\n",
              "      <td>0.607982</td>\n",
              "      <td>0.791395</td>\n",
              "      <td>0.833446</td>\n",
              "      <td>1.049939</td>\n",
              "      <td>-0.015387</td>\n",
              "      <td>0.198657</td>\n",
              "      <td>-0.055085</td>\n",
              "      <td>-0.218523</td>\n",
              "      <td>-0.225203</td>\n",
              "      <td>-0.200905</td>\n",
              "      <td>-0.214968</td>\n",
              "      <td>-0.208100</td>\n",
              "      <td>-0.231045</td>\n",
              "      <td>0.878556</td>\n",
              "      <td>-0.711719</td>\n",
              "    </tr>\n",
              "    <tr>\n",
              "      <th>1148</th>\n",
              "      <td>0.059054</td>\n",
              "      <td>-3.353309</td>\n",
              "      <td>0.412798</td>\n",
              "      <td>0.460274</td>\n",
              "      <td>0.564114</td>\n",
              "      <td>0.601872</td>\n",
              "      <td>0.730886</td>\n",
              "      <td>0.784951</td>\n",
              "      <td>-0.575348</td>\n",
              "      <td>-0.422401</td>\n",
              "      <td>-0.600326</td>\n",
              "      <td>-0.433156</td>\n",
              "      <td>-0.221309</td>\n",
              "      <td>-0.200905</td>\n",
              "      <td>-0.214968</td>\n",
              "      <td>-0.208100</td>\n",
              "      <td>1.334363</td>\n",
              "      <td>1.193713</td>\n",
              "      <td>-0.711719</td>\n",
              "    </tr>\n",
              "    <tr>\n",
              "      <th>1149</th>\n",
              "      <td>0.059054</td>\n",
              "      <td>0.298213</td>\n",
              "      <td>0.022323</td>\n",
              "      <td>-0.037752</td>\n",
              "      <td>-0.269384</td>\n",
              "      <td>-0.440506</td>\n",
              "      <td>-0.807516</td>\n",
              "      <td>-0.937474</td>\n",
              "      <td>-0.403199</td>\n",
              "      <td>-0.485477</td>\n",
              "      <td>-0.342804</td>\n",
              "      <td>-0.193527</td>\n",
              "      <td>0.001120</td>\n",
              "      <td>0.108426</td>\n",
              "      <td>0.386140</td>\n",
              "      <td>0.767878</td>\n",
              "      <td>-1.327962</td>\n",
              "      <td>-0.097078</td>\n",
              "      <td>1.405048</td>\n",
              "    </tr>\n",
              "    <tr>\n",
              "      <th>1150</th>\n",
              "      <td>0.059054</td>\n",
              "      <td>0.298213</td>\n",
              "      <td>-1.227200</td>\n",
              "      <td>-1.241314</td>\n",
              "      <td>-1.234487</td>\n",
              "      <td>-1.198599</td>\n",
              "      <td>-1.115197</td>\n",
              "      <td>-1.069968</td>\n",
              "      <td>0.091120</td>\n",
              "      <td>-0.743572</td>\n",
              "      <td>-0.601429</td>\n",
              "      <td>-0.456428</td>\n",
              "      <td>-0.217298</td>\n",
              "      <td>-0.192888</td>\n",
              "      <td>-0.214968</td>\n",
              "      <td>-0.208100</td>\n",
              "      <td>1.176035</td>\n",
              "      <td>-1.085702</td>\n",
              "      <td>-0.711719</td>\n",
              "    </tr>\n",
              "  </tbody>\n",
              "</table>\n",
              "<p>1151 rows × 19 columns</p>\n",
              "</div>\n",
              "      <button class=\"colab-df-convert\" onclick=\"convertToInteractive('df-6f801a37-190a-430a-b384-4eef43032e46')\"\n",
              "              title=\"Convert this dataframe to an interactive table.\"\n",
              "              style=\"display:none;\">\n",
              "        \n",
              "  <svg xmlns=\"http://www.w3.org/2000/svg\" height=\"24px\"viewBox=\"0 0 24 24\"\n",
              "       width=\"24px\">\n",
              "    <path d=\"M0 0h24v24H0V0z\" fill=\"none\"/>\n",
              "    <path d=\"M18.56 5.44l.94 2.06.94-2.06 2.06-.94-2.06-.94-.94-2.06-.94 2.06-2.06.94zm-11 1L8.5 8.5l.94-2.06 2.06-.94-2.06-.94L8.5 2.5l-.94 2.06-2.06.94zm10 10l.94 2.06.94-2.06 2.06-.94-2.06-.94-.94-2.06-.94 2.06-2.06.94z\"/><path d=\"M17.41 7.96l-1.37-1.37c-.4-.4-.92-.59-1.43-.59-.52 0-1.04.2-1.43.59L10.3 9.45l-7.72 7.72c-.78.78-.78 2.05 0 2.83L4 21.41c.39.39.9.59 1.41.59.51 0 1.02-.2 1.41-.59l7.78-7.78 2.81-2.81c.8-.78.8-2.07 0-2.86zM5.41 20L4 18.59l7.72-7.72 1.47 1.35L5.41 20z\"/>\n",
              "  </svg>\n",
              "      </button>\n",
              "      \n",
              "  <style>\n",
              "    .colab-df-container {\n",
              "      display:flex;\n",
              "      flex-wrap:wrap;\n",
              "      gap: 12px;\n",
              "    }\n",
              "\n",
              "    .colab-df-convert {\n",
              "      background-color: #E8F0FE;\n",
              "      border: none;\n",
              "      border-radius: 50%;\n",
              "      cursor: pointer;\n",
              "      display: none;\n",
              "      fill: #1967D2;\n",
              "      height: 32px;\n",
              "      padding: 0 0 0 0;\n",
              "      width: 32px;\n",
              "    }\n",
              "\n",
              "    .colab-df-convert:hover {\n",
              "      background-color: #E2EBFA;\n",
              "      box-shadow: 0px 1px 2px rgba(60, 64, 67, 0.3), 0px 1px 3px 1px rgba(60, 64, 67, 0.15);\n",
              "      fill: #174EA6;\n",
              "    }\n",
              "\n",
              "    [theme=dark] .colab-df-convert {\n",
              "      background-color: #3B4455;\n",
              "      fill: #D2E3FC;\n",
              "    }\n",
              "\n",
              "    [theme=dark] .colab-df-convert:hover {\n",
              "      background-color: #434B5C;\n",
              "      box-shadow: 0px 1px 3px 1px rgba(0, 0, 0, 0.15);\n",
              "      filter: drop-shadow(0px 1px 2px rgba(0, 0, 0, 0.3));\n",
              "      fill: #FFFFFF;\n",
              "    }\n",
              "  </style>\n",
              "\n",
              "      <script>\n",
              "        const buttonEl =\n",
              "          document.querySelector('#df-6f801a37-190a-430a-b384-4eef43032e46 button.colab-df-convert');\n",
              "        buttonEl.style.display =\n",
              "          google.colab.kernel.accessAllowed ? 'block' : 'none';\n",
              "\n",
              "        async function convertToInteractive(key) {\n",
              "          const element = document.querySelector('#df-6f801a37-190a-430a-b384-4eef43032e46');\n",
              "          const dataTable =\n",
              "            await google.colab.kernel.invokeFunction('convertToInteractive',\n",
              "                                                     [key], {});\n",
              "          if (!dataTable) return;\n",
              "\n",
              "          const docLinkHtml = 'Like what you see? Visit the ' +\n",
              "            '<a target=\"_blank\" href=https://colab.research.google.com/notebooks/data_table.ipynb>data table notebook</a>'\n",
              "            + ' to learn more about interactive tables.';\n",
              "          element.innerHTML = '';\n",
              "          dataTable['output_type'] = 'display_data';\n",
              "          await google.colab.output.renderOutput(dataTable, element);\n",
              "          const docLink = document.createElement('div');\n",
              "          docLink.innerHTML = docLinkHtml;\n",
              "          element.appendChild(docLink);\n",
              "        }\n",
              "      </script>\n",
              "    </div>\n",
              "  </div>\n",
              "  "
            ]
          },
          "metadata": {},
          "execution_count": 12
        }
      ],
      "source": [
        "X2_std"
      ]
    },
    {
      "cell_type": "code",
      "execution_count": null,
      "metadata": {
        "id": "Ojv0byjmbOY-",
        "colab": {
          "base_uri": "https://localhost:8080/",
          "height": 512
        },
        "outputId": "2b3be92a-33a9-4667-dbf4-bced9ef3716d"
      },
      "outputs": [
        {
          "output_type": "stream",
          "name": "stdout",
          "text": [
            "Shape of X_train: (920, 19)\n",
            "Shape of X_test: (231, 19)\n",
            "knns shape: (231, 4)\n",
            "y_prob shape: (231, 2)\n",
            "Y_predicted: (231,)\n",
            "Y predicted\n",
            "[0. 1. 1. 0. 0. 0. 0. 0. 0. 1. 1. 1. 0. 1. 1. 0. 0. 0. 1. 1. 0. 0. 0. 0.\n",
            " 1. 0. 0. 0. 0. 0. 1. 0. 1. 0. 0. 0. 0. 0. 1. 0. 0. 1. 1. 0. 1. 0. 0. 1.\n",
            " 1. 0.]\n",
            "Y_test\n",
            "[1 0 1 0 0 0 0 0 0 1 0 1 0 0 1 1 1 1 0 1 1 0 1 1 1 0 1 1 0 0 0 0 0 1 1 0 0\n",
            " 1 0 0 1 1 1 1 1 0 0 0 1 1]\n",
            "accuracy is 0.632.\n"
          ]
        },
        {
          "output_type": "display_data",
          "data": {
            "text/plain": [
              "<Figure size 432x288 with 1 Axes>"
            ],
            "image/png": "[encoded data removed]"
          },
          "metadata": {
            "needs_background": "light"
          }
        }
      ],
      "source": [
        "from sklearn.model_selection import train_test_split\n",
        "#Validate that knn is working for DF1\n",
        "myK = 4\n",
        "\n",
        "model = KNN(K=myK)\n",
        "\n",
        "#Split data, Y_train and Y_test dimension are reduced to 1\n",
        "X_train, X_test, Y_train, Y_test = train_test_split(X2_std, Y2, test_size = 0.2, random_state=1, shuffle=True)\n",
        "Y_train = Y_train.DR.astype(int).to_numpy()\n",
        "X_train = X_train.to_numpy()\n",
        "X_test = X_test.to_numpy()\n",
        "Y_test = Y_test.DR.astype(int).to_numpy()\n",
        "N_test_samples = X_test.shape[0]\n",
        "\n",
        "print(f\"Shape of X_train: {X_train.shape}\")\n",
        "print(f\"Shape of X_test: {X_test.shape}\")\n",
        "\n",
        "model.fit(X_train, Y_train)\n",
        "y_prob, knns , Y_predicted= model.predict(X_test)\n",
        "print('knns shape:', knns.shape)\n",
        "print('y_prob shape:', y_prob.shape)\n",
        "print('Y_predicted:', Y_predicted.shape)\n",
        "\n",
        "print('Y predicted')\n",
        "print(Y_predicted[0:50])\n",
        "print('Y_test')\n",
        "print(Y_test[0:50])\n",
        "\n",
        "#To get hard predictions by choosing the class with the maximum probability\n",
        "accuracy = model.evaluate_acc(Y_predicted,Y_test)\n",
        "print(f'accuracy is {accuracy:.3f}.')\n",
        "\n",
        "#boolean array to later slice the indexes of correct and incorrect predictions\n",
        "correct = Y_test == Y_predicted\n",
        "incorrect = np.logical_not(correct)\n",
        "\n",
        "#TODO: visualization of the points\n",
        "plt.scatter(X_train[:,3], X_train[:,3], c=Y_train, marker='o', alpha=.2, label='train')     #plot x_training points\n",
        "plt.scatter(X_test[correct,3], X_test[correct,4], marker='.', c=Y_predicted[correct], label='correct')   #plot correctly classified testing points\n",
        "plt.scatter(X_test[incorrect,3], X_test[incorrect,4], marker='x', c=Y_test[incorrect], label='misclassified')   #plot incorrectly classified testing points\n",
        "\n",
        "#connect each node to k-nearest neighbours in the training set      for each point in x_test, connect it to k-nearest neighbors in training set\n",
        "for i in range(X_test.shape[0]):\n",
        "    for k in range(model.K):\n",
        "        hor = X_test[i,3], X_train[knns[i,k],3]\n",
        "        ver = X_test[i,4], X_train[knns[i,k],4]\n",
        "        plt.plot(hor, ver, 'k-', alpha=.1)\n",
        "\n",
        "plt.ylabel('opticdisc_diam')\n",
        "plt.xlabel('dist_Macula_opticdisc')\n",
        "plt.legend()\n",
        "plt.savefig('df2_KNN'+str(myK)+'.png',dpi=300,bbox_inches='tight')\n",
        "# plt.show()"
      ]
    },
    {
      "cell_type": "markdown",
      "metadata": {
        "id": "kkWBC4SVvkxW"
      },
      "source": [
        "#Implementation of DT\n"
      ]
    },
    {
      "cell_type": "code",
      "execution_count": null,
      "metadata": {
        "id": "-KZFzlu1vm7F"
      },
      "outputs": [],
      "source": [
        "\n",
        "class Node:\n",
        "    def __init__(self, data_indices, parent):\n",
        "        self.data_indices = data_indices                    #stores the data indices which are in the region defined by this node\n",
        "        self.left = None                                    #stores the left child of the node\n",
        "        self.right = None                                   #stores the right child of the node\n",
        "        self.split_feature = None                           #the feature for split at this node\n",
        "        self.split_value = None                             #the value of the feature for split at this node\n",
        "        if parent:\n",
        "            self.depth = parent.depth + 1                   #obtain the dept of the node by adding one to dept of the parent\n",
        "            self.num_classes = parent.num_classes           #copies the num classes from the parent\n",
        "            self.data = parent.data                         #copies the data from the parent\n",
        "            self.labels = parent.labels                     #copies the labels from the parent\n",
        "            class_prob = np.bincount(self.labels[data_indices], minlength=self.num_classes) #this is counting frequency (how many of each) of different labels in the region defined by this node\n",
        "                                                                                            #12 Survive, 7 die\n",
        "            self.class_prob = class_prob / np.sum(class_prob)  #stores the class probability for the node       #np.sum(class_prob) gives the total number of counts in this node\n",
        "            #note that we'll use the class probabilites of the leaf nodes for making predictions after the tree is built\n"
      ]
    },
    {
      "cell_type": "code",
      "execution_count": null,
      "metadata": {
        "id": "dirnMaLRCWkU"
      },
      "outputs": [],
      "source": [
        "def greedy_test(node, cost_fn):\n",
        "#initialize the best parameter values\n",
        "    best_cost = np.inf    #set initial best cost equal to infinity\n",
        "    best_feature, best_value = None, None\n",
        "    num_instances, num_features = node.data.shape\n",
        "    #sort the features to get the test value candidates by taking the average of consecutive sorted feature values\n",
        "    data_sorted = np.sort(node.data[node.data_indices],axis=0)\n",
        "    test_candidates = (data_sorted[1:] + data_sorted[:-1]) / 2.   #average of consecutive sorted feature values\n",
        "    for f in range(num_features):\n",
        "        #stores the data corresponding to the f-th feature\n",
        "        data_f = node.data[node.data_indices, f]\n",
        "        for test in test_candidates[:,f]:\n",
        "            #Split the indices using the test value of f-th feature\n",
        "            left_indices = node.data_indices[data_f <= test]\n",
        "            right_indices = node.data_indices[data_f > test]\n",
        "            #we can't have a split where a child has zero element\n",
        "            #if this is true over all the test features and their test values  then the function returns the best cost as infinity\n",
        "            if len(left_indices) == 0 or len(right_indices) == 0:\n",
        "                continue\n",
        "            #compute the left and right cost based on the current split\n",
        "            left_cost = cost_fn(node.labels[left_indices])\n",
        "            right_cost = cost_fn(node.labels[right_indices])\n",
        "            num_left, num_right = left_indices.shape[0], right_indices.shape[0]\n",
        "            #get the combined cost using the weighted sum of left and right cost\n",
        "            cost = (num_left * left_cost + num_right * right_cost)/num_instances\n",
        "            #update only when a lower cost is encountered\n",
        "            if cost < best_cost:\n",
        "                best_cost = cost\n",
        "                best_feature = f\n",
        "                best_value = test\n",
        "    return best_cost, best_feature, best_value"
      ]
    },
    {
      "cell_type": "code",
      "execution_count": null,
      "metadata": {
        "id": "XuMIcAg3CBad"
      },
      "outputs": [],
      "source": [
        "#computes misclassification cost by subtracting the maximum probability of any class\n",
        "def cost_misclassification(labels):\n",
        "    counts = np.bincount(labels)\n",
        "    class_probs = counts / np.sum(counts)\n",
        "    #you could compress both the steps above by doing class_probs = np.bincount(labels) / len(labels)\n",
        "    return 1 - np.max(class_probs)\n",
        "\n",
        "#computes entropy of the labels by computing the class probabilities\n",
        "def cost_entropy(labels):\n",
        "    class_probs = np.bincount(labels) / len(labels)\n",
        "    class_probs = class_probs[class_probs > 0]              #this steps is remove 0 probabilities for removing numerical issues while computing log\n",
        "    return -np.sum(class_probs * np.log2(class_probs))       #expression for entropy -\\sigma p(x)log[p(x)]\n",
        "\n",
        "#computes the gini index cost\n",
        "def cost_gini_index(labels):\n",
        "    class_probs = np.bincount(labels) / len(labels)\n",
        "    return 1 - np.sum(np.square(class_probs))               #expression for gini index 1-\\sigma p(x)^2"
      ]
    },
    {
      "cell_type": "code",
      "execution_count": null,
      "metadata": {
        "id": "TbvE8qmdwe1_"
      },
      "outputs": [],
      "source": [
        "class DecisionTree:\n",
        "    def __init__(self, num_classes=None, max_depth=20, cost_fn=cost_misclassification, min_leaf_instances=1):\n",
        "        self.max_depth = max_depth      #maximum dept for termination\n",
        "        self.root = None                #stores the root of the decision tree\n",
        "        self.cost_fn = cost_fn          #stores the cost function of the decision tree\n",
        "        self.num_classes = num_classes  #stores the total number of classes\n",
        "        self.min_leaf_instances = min_leaf_instances  #minimum number of instances in a leaf for termination\n",
        "\n",
        "    #Data is X_train, lables are Y_train, dimension N\n",
        "    def fit(self, data, labels):\n",
        "        self.data = data\n",
        "        self.labels = labels\n",
        "        if self.num_classes is None:\n",
        "            self.num_classes = np.unique(labels).shape[0]\n",
        "        #below are initialization of the root of the decision tree\n",
        "        self.root = Node(np.arange(data.shape[0]), None)\n",
        "        self.root.data = data\n",
        "        self.root.labels = labels\n",
        "        self.root.num_classes = self.num_classes\n",
        "        self.root.depth = 0\n",
        "        #to recursively build the rest of the tree\n",
        "        self._fit_tree(self.root)\n",
        "        return self\n",
        "\n",
        "    def _fit_tree(self, node):\n",
        "        #This gives the condition for termination of the recursion resulting in a leaf node\n",
        "        if node.depth == self.max_depth or len(node.data_indices) <= self.min_leaf_instances:\n",
        "            return\n",
        "        #greedily select the best test by minimizing the cost\n",
        "        cost, split_feature, split_value = greedy_test(node, self.cost_fn)\n",
        "        #if the cost returned is infinity it means that it is not possible to split the node and hence terminate\n",
        "        if np.isinf(cost):\n",
        "            return\n",
        "        #print(f'best feature: {split_feature}, value {split_value}, cost {cost}')\n",
        "\n",
        "        #to get a boolean array suggesting which data indices corresponding to this node are in the left of the split\n",
        "        test = node.data[node.data_indices,split_feature] <= split_value     #this returns [True, False, True,...]\n",
        "\n",
        "        #store the split feature and value of the node\n",
        "        node.split_feature = split_feature\n",
        "        node.split_value = split_value\n",
        "        #define new nodes which are going to be the left and right child of the present node\n",
        "        left = Node(node.data_indices[test], node)\n",
        "        right = Node(node.data_indices[np.logical_not(test)], node)\n",
        "        #recursive call to the _fit_tree()\n",
        "        self._fit_tree(left)\n",
        "        self._fit_tree(right)\n",
        "        #assign the left and right child to present child\n",
        "        node.left = left\n",
        "        node.right = right\n",
        "\n",
        "\n",
        "    def predict(self, X_test):\n",
        "\n",
        "        class_probs = np.zeros((X_test.shape[0], self.num_classes))\n",
        "\n",
        "        Y_predicted = np.zeros((X_test.shape[0]))\n",
        "        for n, x in enumerate(X_test):\n",
        "            node = self.root\n",
        "            #loop along the dept of the tree looking region where the present data sample fall in based on the split feature and value\n",
        "            while node.left:\n",
        "                if x[node.split_feature] <= node.split_value:\n",
        "                    node = node.left\n",
        "                else:\n",
        "                    node = node.right\n",
        "\n",
        "            #the loop terminates when you reach a leaf of the tree and the class probability of that node is taken for prediction\n",
        "            class_probs[n,:] = node.class_prob\n",
        "            Y_predicted[n] = class_probs[n].argmax()\n",
        "\n",
        "        return class_probs, Y_predicted      #numpy array of class probabilities [.34,.25,.22,...]\n",
        "\n",
        "\n",
        "    def evaluate_acc(self, Y_predicted, Y_test):\n",
        "        acc =  np.sum(Y_predicted == Y_test)/Y_test.shape[0]\n",
        "        return acc\n"
      ]
    },
    {
      "cell_type": "code",
      "execution_count": null,
      "metadata": {
        "id": "EjHoA42uQM04"
      },
      "outputs": [],
      "source": [
        "treeD = DecisionTree()"
      ]
    },
    {
      "cell_type": "markdown",
      "metadata": {
        "id": "G5iGJQymvnTl"
      },
      "source": [
        "\n",
        "#Verification of DT for *df1*\n"
      ]
    },
    {
      "cell_type": "code",
      "execution_count": null,
      "metadata": {
        "id": "JFUt99Mt_QUD",
        "colab": {
          "base_uri": "https://localhost:8080/"
        },
        "outputId": "3ab8c87e-df11-4b37-ba88-372bf603a691"
      },
      "outputs": [
        {
          "output_type": "stream",
          "name": "stdout",
          "text": [
            "(124, 2)\n",
            "(31, 2)\n",
            "(124,)\n",
            "(31,)\n"
          ]
        }
      ],
      "source": [
        "from sklearn.model_selection import train_test_split\n",
        "\n",
        "X1_af\n",
        "Y1\n",
        "\n",
        "X1_BiliAlb = X1_af[[\"Bilirubin\",\"Albumin\"]]\n",
        "\n",
        "X1_BiliAlb = X1_BiliAlb.to_numpy()\n",
        "Y1 = Y1.to_numpy()\n",
        "\n",
        "\n",
        "\n",
        "Y1 = np.reshape(Y1, (155))\n",
        "\n",
        "\n",
        "(num_instances, num_features), num_classes = X1_af.shape, 2\n",
        "\n",
        "X1_train, X1_test, Y1_train, Y1_test = train_test_split(X1_BiliAlb, Y1, test_size = 0.2, random_state=1, shuffle=True)\n",
        "\n",
        "\n",
        "print(X1_train.shape)\n",
        "print(X1_test.shape)\n",
        "print(Y1_train.shape)\n",
        "print(Y1_test.shape)\n"
      ]
    },
    {
      "cell_type": "markdown",
      "metadata": {
        "id": "Np1Q5PSOAudg"
      },
      "source": [
        "Fit the tree to the training data and predict on the test data\n"
      ]
    },
    {
      "cell_type": "code",
      "execution_count": null,
      "metadata": {
        "id": "3o2bUaeRYwdr",
        "colab": {
          "base_uri": "https://localhost:8080/",
          "height": 283
        },
        "outputId": "761d1bfa-6ab0-4c86-c418-5247aa2d4228"
      },
      "outputs": [
        {
          "output_type": "stream",
          "name": "stdout",
          "text": [
            "accuracy is 87.1.\n"
          ]
        },
        {
          "output_type": "display_data",
          "data": {
            "text/plain": [
              "<Figure size 432x288 with 1 Axes>"
            ],
            "image/png": "[encoded data removed]"
          },
          "metadata": {
            "needs_background": "light"
          }
        }
      ],
      "source": [
        "tree = DecisionTree(max_depth = 4)\n",
        "\n",
        "probs1_test, _ = tree.fit(X1_train, Y1_train).predict(X1_test)\n",
        "\n",
        "probs1_test.shape\n",
        "\n",
        "Y1_pred = np.argmax(probs1_test,1)\n",
        "accuracy = np.sum(Y1_pred == Y1_test) / Y1_test.shape[0]\n",
        "print(f'accuracy is {accuracy*100:.1f}.')\n",
        "\n",
        "correct = (Y1_test == Y1_pred)\n",
        "incorrect = np.logical_not(correct)\n",
        "\n",
        "plt.scatter(X1_train[:,0], X1_train[:,1], marker='o', alpha=.2, label='train')\n",
        "plt.scatter(X1_test[correct,0], X1_test[correct,1], marker='.', c=Y1_pred[correct], label='correct')\n",
        "plt.scatter(X1_test[incorrect,0], X1_test[incorrect,1], marker='x', c=Y1_test[incorrect], label='misclassified')\n",
        "plt.legend()\n",
        "plt.show()"
      ]
    },
    {
      "cell_type": "markdown",
      "metadata": {
        "id": "WyWdNZvnMr_G"
      },
      "source": [
        "Plot the decision boundary for DT for DF1"
      ]
    },
    {
      "cell_type": "code",
      "execution_count": null,
      "metadata": {
        "id": "Zz6fNAx2Mq0m",
        "colab": {
          "base_uri": "https://localhost:8080/",
          "height": 295
        },
        "outputId": "71b29bb7-f06b-47a2-a6f6-7e46917de859"
      },
      "outputs": [
        {
          "output_type": "display_data",
          "data": {
            "text/plain": [
              "<Figure size 432x288 with 1 Axes>"
            ],
            "image/png": "[encoded data removed]"
          },
          "metadata": {
            "needs_background": "light"
          }
        }
      ],
      "source": [
        "x0v = np.linspace(np.min(X1_BiliAlb[:,0]), np.max(X1_BiliAlb[:,0]), 200)\n",
        "x1v = np.linspace(np.min(X1_BiliAlb[:,1]), np.max(X1_BiliAlb[:,1]), 200)\n",
        "x0,x1 = np.meshgrid(x0v, x1v)\n",
        "x_all = np.vstack((x0.ravel(),x1.ravel())).T\n",
        "\n",
        "\n",
        "for tree_depth in [5]:\n",
        "    model = DecisionTree(max_depth=tree_depth)\n",
        "\n",
        "    y_train_prob = np.zeros((Y1_train.shape[0], num_classes))       #y_train_prob\n",
        "    y_train_prob[np.arange(Y1_train.shape[0]), Y1_train] = 1\n",
        "    y_prob_all, _ = model.fit(X1_train, Y1_train).predict(x_all)    #y_prob_all\n",
        "\n",
        "\n",
        "#create a for loop that goes through y_train_prob and for each value assigns colors [0,1] = red, [1,0] = blue\n",
        "    color = []\n",
        "    for i in range(y_train_prob.shape[0]):\n",
        "        if (y_train_prob[i,0] == 1): color.append(\"blue\")\n",
        "        else: color.append(\"red\")\n",
        "\n",
        "    colors = []\n",
        "    for i in range(y_prob_all.shape[0]):\n",
        "        if (y_prob_all[i,0] == 1): colors.append(\"blue\")\n",
        "        else: colors.append(\"red\")\n",
        "\n",
        "    plt.scatter(X1_train[:,0], X1_train[:,1], c=color, marker='o', alpha=1)\n",
        "    plt.scatter(x_all[:,0], x_all[:,1], c=colors, marker='.', alpha=.01)\n",
        "\n",
        "    plt.ylabel('Age')\n",
        "    plt.xlabel('MA at .5')\n",
        "    plt.title('Depth = ' + str(tree_depth))\n",
        "    plt.savefig('iris_tree_depth' + str(tree_depth) + '.png', bbox_inches=\"tight\", dpi=300)\n"
      ]
    },
    {
      "cell_type": "markdown",
      "metadata": {
        "id": "sNTq8utkv4kh"
      },
      "source": [
        "\n",
        "\n",
        "#**Verification of DT for df2**"
      ]
    },
    {
      "cell_type": "code",
      "execution_count": null,
      "metadata": {
        "id": "FOctaUPV2ALW",
        "colab": {
          "base_uri": "https://localhost:8080/"
        },
        "outputId": "f0a7e700-9eb5-48d1-da3b-4b33f066e1ce"
      },
      "outputs": [
        {
          "output_type": "execute_result",
          "data": {
            "text/plain": [
              "(1151, 19)"
            ]
          },
          "metadata": {},
          "execution_count": 22
        }
      ],
      "source": [
        "X2_std.shape"
      ]
    },
    {
      "cell_type": "code",
      "execution_count": null,
      "metadata": {
        "id": "6G7ZGDYEbESV"
      },
      "outputs": [],
      "source": [
        "#Final data for first data --> Afer taking out missing, outliers, feature selection and standardization\n",
        "X2_std\n",
        "Y2\n",
        "\n",
        "X2_std = pd.DataFrame(data=X2_std)\n",
        "X2_std.columns = col_name2\n",
        "X2_std\n",
        "\n",
        "X2_MaEx = X2_std[[\"MA_at_.5\",\"Exudate_1\"]]\n",
        "\n",
        "X2_MaEx = X2_MaEx.to_numpy()\n",
        "Y2 = Y2.to_numpy()\n",
        "Y2 = np.reshape(Y2, (1151))     #Y2 is numpy array with shape (1151,)\n",
        "                                #X22_std is numpy array with shape (1151,4)\n",
        "\n",
        "(num_instances, num_features), num_classes = X2_std.shape, np.max(Y2) + 1\n",
        "\n",
        "from sklearn.model_selection import train_test_split\n",
        "X2_train, X2_test, Y2_train, Y2_test = train_test_split(X2_MaEx, Y2, test_size = 0.2, random_state=1, shuffle=True)\n",
        "\n",
        "\n",
        "N_training_points= X2_train.shape[0]\n",
        "N_testing_points = X2_test.shape[0]\n",
        "# Y2_train = Y2_train.iloc[:,0]\n",
        "# Y2_test = Y2_test.iloc[:,0]\n",
        "\n"
      ]
    },
    {
      "cell_type": "markdown",
      "metadata": {
        "id": "0bq2crQamt2L"
      },
      "source": [
        "Fit the tree to the training data and predict on the test data\n",
        "\n",
        "\n"
      ]
    },
    {
      "cell_type": "code",
      "execution_count": null,
      "metadata": {
        "id": "W3heoGRxv_Rr",
        "colab": {
          "base_uri": "https://localhost:8080/"
        },
        "outputId": "01f6e9d9-bf0d-4238-cbc5-adf4b4d09afd"
      },
      "outputs": [
        {
          "output_type": "stream",
          "name": "stdout",
          "text": [
            "accuracy is 59.7.\n"
          ]
        },
        {
          "output_type": "display_data",
          "data": {
            "text/plain": [
              "<Figure size 432x288 with 1 Axes>"
            ],
            "image/png": "[encoded data removed]"
          },
          "metadata": {
            "needs_background": "light"
          }
        },
        {
          "output_type": "stream",
          "name": "stdout",
          "text": [
            "Shape of probs_test: (231, 2)\n",
            "Shape of Y_pred: (231,)\n",
            "Y predicted\n",
            "[1 1 1 1 0 0 0 0 0 1 1 1 1 1 1]\n",
            "Y_test\n",
            "[1 0 1 0 0 0 0 0 0 1 0 1 0 0 1]\n",
            "accuracy is 59.7.\n"
          ]
        }
      ],
      "source": [
        "tree = DecisionTree(max_depth = 6)\n",
        "probs2_test, _ = tree.fit(X2_train, Y2_train).predict(X2_test)\n",
        "\n",
        "probs2_test.shape\n",
        "\n",
        "Y2_pred = np.argmax(probs2_test,1)      #go along the columns of probs2_test and return the argument of the greatest value\n",
        "accuracy = np.sum(Y2_pred == Y2_test) / Y2_test.shape[0]\n",
        "print(f'accuracy is {accuracy*100:.1f}.')\n",
        "\n",
        "correct = Y2_test == Y2_pred\n",
        "incorrect = np.logical_not(correct)\n",
        "plt.scatter(X2_train[:,0], X2_train[:,1], marker='o', alpha=.2, label='train')\n",
        "plt.scatter(X2_test[correct,0], X2_test[correct,1], marker='.', c=Y2_pred[correct], label='correct')\n",
        "plt.scatter(X2_test[incorrect,0], X2_test[incorrect,1], marker='x', c=Y2_test[incorrect], label='misclassified')\n",
        "plt.legend()\n",
        "plt.show()\n",
        "\n",
        "\n",
        "\n",
        "# tree = tree.fit(X2_train, Y2_train)\n",
        "# probs2_test, Y2_pred = tree.predict(X2_test)\n",
        "\n",
        "print('Shape of probs_test:', probs2_test.shape)\n",
        "print('Shape of Y_pred:', Y2_pred.shape)\n",
        "\n",
        "print('Y predicted')\n",
        "print(Y2_pred[0:15])\n",
        "print('Y_test')\n",
        "print(Y2_test[0:15])\n",
        "\n",
        "\n",
        "#To get hard predictions by choosing the class with the maximum probability\n",
        "accuracy = tree.evaluate_acc(Y2_pred,Y2_test)\n",
        "print(f'accuracy is {accuracy*100:.1f}.')\n"
      ]
    },
    {
      "cell_type": "markdown",
      "metadata": {
        "id": "iu3h8kC4r2UP"
      },
      "source": [
        "We then plot the decision boundary for the DT for DF2\n"
      ]
    },
    {
      "cell_type": "code",
      "execution_count": null,
      "metadata": {
        "id": "wKy_Fwmmr1sJ",
        "colab": {
          "base_uri": "https://localhost:8080/"
        },
        "outputId": "df7f93ab-379e-423b-9d8d-beda0dea6d72"
      },
      "outputs": [
        {
          "output_type": "display_data",
          "data": {
            "text/plain": [
              "<Figure size 432x288 with 1 Axes>"
            ],
            "image/png": "[encoded data removed]"
          },
          "metadata": {
            "needs_background": "light"
          }
        }
      ],
      "source": [
        "x0v = np.linspace(np.min(X2_MaEx[:,0]), np.max(X2_MaEx[:,0]), 200)\n",
        "x1v = np.linspace(np.min(X2_MaEx[:,1]), np.max(X2_MaEx[:,1]), 200)\n",
        "x0,x1 = np.meshgrid(x0v, x1v)\n",
        "x_all = np.vstack((x0.ravel(),x1.ravel())).T\n",
        "\n",
        "\n",
        "for tree_depth in [10]:\n",
        "    model = DecisionTree(max_depth=tree_depth)\n",
        "    y_train_prob = np.zeros((Y2_train.shape[0], num_classes))\n",
        "    y_train_prob[np.arange(Y2_train.shape[0]), Y2_train] = 1\n",
        "    y_prob_all, _ = model.fit(X2_train, Y2_train).predict(x_all)\n",
        "\n",
        "#create a for loop that goes through y_train_prob and for each value assigns colors [0,1] = red, [1,0] = blue\n",
        "    color = []\n",
        "    for i in range(y_train_prob.shape[0]):\n",
        "        if (y_train_prob[i,0] == 1): color.append(\"blue\")\n",
        "        else: color.append(\"red\")\n",
        "\n",
        "    colors = []\n",
        "    for i in range(y_prob_all.shape[0]):\n",
        "        if (y_prob_all[i,0] == 1): colors.append(\"blue\")\n",
        "        else: colors.append(\"red\")\n",
        "\n",
        "    plt.scatter(X2_train[:,0], X2_train[:,1], c=color, marker='o', alpha=1)\n",
        "    plt.scatter(x_all[:,0], x_all[:,1], c=colors, marker='.', alpha=.01)\n",
        "\n",
        "    plt.ylabel('Age')\n",
        "    plt.xlabel('MA at .5')\n",
        "    plt.title('Depth = ' + str(tree_depth))\n",
        "    plt.savefig('iris_tree_depth' + str(tree_depth) + '.png', bbox_inches=\"tight\", dpi=300)\n"
      ]
    },
    {
      "cell_type": "markdown",
      "metadata": {
        "id": "8Mc_ZNxSuMjU"
      },
      "source": [
        "# **Task 3: Running Experiments**"
      ]
    },
    {
      "cell_type": "markdown",
      "metadata": {
        "id": "9VkiiZYEaHt9"
      },
      "source": [
        "Use X1_afs and Y1s for fittings models --> this is the balanced and standarized data for dataset 1 (all features)\n",
        "\n",
        "Use X2_std and Y2 for fitting modes --> this is standarized data for dataset 2 (all features)"
      ]
    },
    {
      "cell_type": "markdown",
      "metadata": {
        "id": "lFGspIqfuUpF"
      },
      "source": [
        "# **Compare accuracy of KNN and DT algorithm on DF1**\n",
        "\n",
        "Before comparing the accuracies of the models, to find the best models for each --> find the best K and depth and best features !\n",
        "\n",
        "1.) Select most important features and train model with these features\n",
        "\n",
        "2.) Use the validation set to pick best K and depth\n",
        "\n",
        "3.) Plot ROC, AUROC etc... to compare performances"
      ]
    },
    {
      "cell_type": "markdown",
      "metadata": {
        "id": "Sx1zwC9coJDM"
      },
      "source": [
        "#Compute accuracies of KNN & DT"
      ]
    },
    {
      "cell_type": "code",
      "execution_count": null,
      "metadata": {
        "id": "I9DHS_55lThH",
        "colab": {
          "base_uri": "https://localhost:8080/"
        },
        "outputId": "c90cefa2-40fd-4185-f0db-1cfb01865051"
      },
      "outputs": [
        {
          "output_type": "stream",
          "name": "stdout",
          "text": [
            "accuracy is 0.900.\n"
          ]
        }
      ],
      "source": [
        "from sklearn.model_selection import train_test_split\n",
        "#Validate that knn is working for DF1\n",
        "\n",
        "#set the k value and create KNN object\n",
        "myK = 10\n",
        "model = KNN(K=myK)\n",
        "\n",
        "#Split data, Y_train and Y_test dimension are reduced to 1\n",
        "X_train, X_test, Y_train, Y_test = train_test_split(X1_afs, Y1s, test_size = 0.2, random_state=1, shuffle=True)\n",
        "\n",
        "#conversions to numpy\n",
        "Y_train = Y_train.to_numpy()\n",
        "# Y_train = Y_train.Survival.astype(int).to_numpy()\n",
        "X_train = X_train.to_numpy()\n",
        "X_test = X_test.to_numpy()\n",
        "# Y_test = Y_test.Survival.astype(int).to_numpy()\n",
        "Y_test = Y_test.to_numpy()\n",
        "N_test_samples = X_test.shape[0]\n",
        "\n",
        "\n",
        "model.fit(X_train, Y_train)\n",
        "y_prob, knns , Y_predicted = model.predict(X_test)\n",
        "\n",
        "accuracy = model.evaluate_acc(Y_predicted,Y_test)\n",
        "print(f'accuracy is {accuracy:.3f}.')\n"
      ]
    },
    {
      "cell_type": "code",
      "execution_count": null,
      "metadata": {
        "id": "4e2Et9noovAr",
        "colab": {
          "base_uri": "https://localhost:8080/"
        },
        "outputId": "9f151649-5af4-44d1-fd36-12b689db0b7e"
      },
      "outputs": [
        {
          "output_type": "stream",
          "name": "stdout",
          "text": [
            "accuracy is 87.1.\n"
          ]
        }
      ],
      "source": [
        "tree = DecisionTree(max_depth = 4)\n",
        "\n",
        "probs1_test, _ = tree.fit(X1_train, Y1_train).predict(X1_test)\n",
        "\n",
        "probs1_test.shape\n",
        "\n",
        "Y1_pred = np.argmax(probs1_test,1)\n",
        "accuracy = np.sum(Y1_pred == Y1_test) / Y1_test.shape[0]\n",
        "print(f'accuracy is {accuracy*100:.1f}.')\n"
      ]
    },
    {
      "cell_type": "code",
      "execution_count": null,
      "metadata": {
        "id": "Adt_E-vmbDEt",
        "colab": {
          "base_uri": "https://localhost:8080/",
          "height": 240
        },
        "outputId": "57cc5924-2ad4-4655-f445-0878e97c5571"
      },
      "outputs": [
        {
          "output_type": "error",
          "ename": "AttributeError",
          "evalue": "ignored",
          "traceback": [
            "\u001b[0;31m---------------------------------------------------------------------------\u001b[0m",
            "\u001b[0;31mAttributeError\u001b[0m                            Traceback (most recent call last)",
            "\u001b[0;32m<ipython-input-28-10a56d761e41>\u001b[0m in \u001b[0;36m<module>\u001b[0;34m\u001b[0m\n\u001b[1;32m     10\u001b[0m \u001b[0;34m\u001b[0m\u001b[0m\n\u001b[1;32m     11\u001b[0m \u001b[0;31m#conversions to numpy\u001b[0m\u001b[0;34m\u001b[0m\u001b[0;34m\u001b[0m\u001b[0;34m\u001b[0m\u001b[0m\n\u001b[0;32m---> 12\u001b[0;31m \u001b[0mY_train\u001b[0m \u001b[0;34m=\u001b[0m \u001b[0mY_train\u001b[0m\u001b[0;34m.\u001b[0m\u001b[0mto_numpy\u001b[0m\u001b[0;34m(\u001b[0m\u001b[0;34m)\u001b[0m\u001b[0;34m\u001b[0m\u001b[0;34m\u001b[0m\u001b[0m\n\u001b[0m\u001b[1;32m     13\u001b[0m \u001b[0;31m# Y_train = Y_train.Survival.astype(int).to_numpy()\u001b[0m\u001b[0;34m\u001b[0m\u001b[0;34m\u001b[0m\u001b[0;34m\u001b[0m\u001b[0m\n\u001b[1;32m     14\u001b[0m \u001b[0mX_train\u001b[0m \u001b[0;34m=\u001b[0m \u001b[0mX_train\u001b[0m\u001b[0;34m.\u001b[0m\u001b[0mto_numpy\u001b[0m\u001b[0;34m(\u001b[0m\u001b[0;34m)\u001b[0m\u001b[0;34m\u001b[0m\u001b[0;34m\u001b[0m\u001b[0m\n",
            "\u001b[0;31mAttributeError\u001b[0m: 'numpy.ndarray' object has no attribute 'to_numpy'"
          ]
        }
      ],
      "source": [
        "from sklearn.model_selection import train_test_split\n",
        "#Validate that knn is working for DF1\n",
        "\n",
        "#set the k value and create KNN object\n",
        "myK = 10\n",
        "model = KNN(K=myK)\n",
        "\n",
        "#Split data, Y_train and Y_test dimension are reduced to 1\n",
        "X_train, X_test, Y_train, Y_test = train_test_split(X2_std, Y2, test_size = 0.2, random_state=1, shuffle=True)\n",
        "\n",
        "#conversions to numpy\n",
        "Y_train = Y_train.to_numpy()\n",
        "# Y_train = Y_train.Survival.astype(int).to_numpy()\n",
        "X_train = X_train.to_numpy()\n",
        "X_test = X_test.to_numpy()\n",
        "# Y_test = Y_test.Survival.astype(int).to_numpy()\n",
        "Y_test = Y_test.to_numpy()\n",
        "N_test_samples = X_test.shape[0]\n",
        "\n",
        "\n",
        "model.fit(X_train, Y_train)\n",
        "y_prob, knns , Y_predicted = model.predict(X_test)\n",
        "\n",
        "accuracy = model.evaluate_acc(Y_predicted,Y_test)\n",
        "print(f'accuracy is {accuracy:.3f}.')"
      ]
    },
    {
      "cell_type": "code",
      "execution_count": null,
      "metadata": {
        "id": "_G13dk8rbDLd"
      },
      "outputs": [],
      "source": [
        "#Split data, Y_train and Y_test dimension are reduced to 1\n",
        "X_train, X_test, Y_train, Y_test = train_test_split(X2_std, Y2, test_size = 0.2, random_state=1, shuffle=True)\n",
        "\n",
        "#conversions to numpy\n",
        "Y_train = Y_train.to_numpy()\n",
        "# Y_train = Y_train.Survival.astype(int).to_numpy()\n",
        "X_train = X_train.to_numpy()\n",
        "X_test = X_test.to_numpy()\n",
        "# Y_test = Y_test.Survival.astype(int).to_numpy()\n",
        "Y_test = Y_test.to_numpy()\n",
        "N_test_samples = X_test.shape[0]\n",
        "\n",
        "tree = DecisionTree(max_depth = 4)\n",
        "probs1_test, _ = tree.fit(X1_train, Y1_train).predict(X1_test)\n",
        "\n",
        "Y1_pred = np.argmax(probs1_test,1)\n",
        "accuracy = np.sum(Y1_pred == Y1_test) / Y1_test.shape[0]\n",
        "print(f'accuracy is {accuracy*100:.1f}.')\n"
      ]
    },
    {
      "cell_type": "markdown",
      "metadata": {
        "id": "KcffD7M5x2Yg"
      },
      "source": [
        "#Compare Accuracies of KNN & DT -- ROC curves\n",
        "\n",
        "---\n",
        "\n"
      ]
    },
    {
      "cell_type": "code",
      "execution_count": null,
      "metadata": {
        "id": "wDXfihAix2Yh"
      },
      "outputs": [],
      "source": [
        "from sklearn.metrics import precision_recall_curve\n",
        "from sklearn.metrics import auc\n",
        "from sklearn.model_selection import train_test_split\n",
        "from sklearn.model_selection import KFold\n",
        "from sklearn.metrics import roc_curve, roc_auc_score\n",
        "from sklearn.metrics import precision_recall_curve\n",
        "from sklearn.metrics import auc\n",
        "\n",
        "# Use X1_afs and Y1s for fitting the model, this is the balanced and standarized data for dataset 1 (all features)\n",
        "# Use X2_std and Y2 for fitting model --> this is standarized data for dataset 2 (all features)\n",
        "\n",
        "\n",
        "#Define a cross validation function\n",
        "def cross_validate(model, X, Y):\n",
        "  kf = KFold(n_splits=5, random_state=1, shuffle=True)\n",
        "  y = np.array([0] * X.shape[0])\n",
        "  yh = np.array([0.0] * X.shape[0])\n",
        "  for train_index, test_index in kf.split(X):\n",
        "    model.fit(X[train_index], Y[train_index])\n",
        "    y[test_index] = Y[test_index]\n",
        "    yh[test_index] = model.predict(X[test_index])[0][:,1]\n",
        "  return y,yh"
      ]
    },
    {
      "cell_type": "code",
      "source": [
        "#EVALUATE THE ROC CURVES FOR BOTH MODELS ON DATASET1\n",
        "\n",
        "#define the models and their parameters\n",
        "knn_model_df1 = KNN(K=10)\n",
        "dt_model_df1 = DecisionTree(max_depth = 6)\n",
        "performances_roc_df1 = {}\n",
        "\n",
        "#conversions to numpy for df1\n",
        "X1_afs_new = X1_afs.to_numpy()\n",
        "Y1s_new = Y1s.to_numpy()\n",
        "\n",
        "#run roc calculations for knn model\n",
        "labels_1, prediction_scores_1 = cross_validate(knn_model_df1, X1_afs_new, Y1s_new)\n",
        "fpr_1, tpr_1, _ = roc_curve(labels_1, prediction_scores_1)\n",
        "auc_1 = roc_auc_score(labels_1, prediction_scores_1)\n",
        "performances_roc_df1['knn'] = {'fpr': fpr_1, 'tpr':tpr_1, 'auc': auc_1}\n",
        "\n",
        "\n",
        "#run roc calculations for dt model\n",
        "labels_2, prediction_scores_2 = cross_validate(dt_model_df1, X1_afs_new, Y1s_new)\n",
        "fpr_2, tpr_2, _ = roc_curve(labels_2, prediction_scores_2)\n",
        "auc_2 = roc_auc_score(labels_2, prediction_scores_2)\n",
        "performances_roc_df1['dt'] = {'fpr': fpr_2, 'tpr':tpr_2, 'auc': auc_2}\n",
        "\n",
        "\n",
        "fig = plt.figure()\n",
        "plt.plot(performances_roc_df1['knn']['fpr'], performances_roc_df1['knn']['tpr'], label=\"KNN\")\n",
        "plt.text(0.4, 0, \"KNN\" + ': AUC = '+str(round(performances_roc_df1['knn']['auc'],2)))\n",
        "\n",
        "plt.plot(performances_roc_df1['dt']['fpr'], performances_roc_df1['dt']['tpr'], label=\"DT\")\n",
        "plt.text(0.4, 0.1, \"DT\" + ': AUC = '+str(round(performances_roc_df1['dt']['auc'],2)))\n",
        "\n",
        "plt.axline((0, 0), (1, 1), linestyle=\"--\", lw=1, color='gray')\n",
        "plt.legend(loc='upper center', bbox_to_anchor=(0.75, 0.6))\n",
        "plt.xlabel(\"False Positive Rate\")\n",
        "plt.ylabel(\"True Positive Rate\")\n",
        "plt.title('KNN & DT Model Comparison with ROC. (Hepatitis Dataset)')\n",
        "plt.savefig('roc_multimethods_df1.png', bbox_inches='tight', dpi=300)\n"
      ],
      "metadata": {
        "colab": {
          "base_uri": "https://localhost:8080/",
          "height": 295
        },
        "id": "NGmQNDoJruYS",
        "outputId": "344a5bb1-c950-4691-a546-61cbf1dbfc95"
      },
      "execution_count": null,
      "outputs": [
        {
          "output_type": "display_data",
          "data": {
            "text/plain": [
              "<Figure size 432x288 with 1 Axes>"
            ],
            "image/png": "[encoded data removed]"
          },
          "metadata": {
            "needs_background": "light"
          }
        }
      ]
    },
    {
      "cell_type": "code",
      "execution_count": null,
      "metadata": {
        "colab": {
          "base_uri": "https://localhost:8080/",
          "height": 295
        },
        "outputId": "5a493c05-4568-4cfd-e978-32520941c690",
        "id": "KKE835h_x2Yh"
      },
      "outputs": [
        {
          "output_type": "display_data",
          "data": {
            "text/plain": [
              "<Figure size 432x288 with 1 Axes>"
            ],
            "image/png": "[encoded data removed]"
          },
          "metadata": {
            "needs_background": "light"
          }
        }
      ],
      "source": [
        "#EVALUATE THE ROC CURVES FOR BOTH MODELS ON DATASET 2\n",
        "\n",
        "#define the models and their parameters\n",
        "knn_model_df2 = KNN(K=11)\n",
        "dt_model_df2 = DecisionTree(max_depth = 13)\n",
        "performances_roc_df2 = {}\n",
        "\n",
        "#conversions to numpy for df2\n",
        "X2_std_new = X2_std.to_numpy()\n",
        "\n",
        "#run roc calculations for knn model\n",
        "labels_1, prediction_scores_1 = cross_validate(knn_model_df2, X2_std_new, Y2)\n",
        "fpr_1, tpr_1, _ = roc_curve(labels_1, prediction_scores_1)\n",
        "auc_1 = roc_auc_score(labels_1, prediction_scores_1)\n",
        "performances_roc_df2['knn'] = {'fpr': fpr_1, 'tpr':tpr_1, 'auc': auc_1}\n",
        "\n",
        "\n",
        "#run roc calculations for dt model\n",
        "labels_2, prediction_scores_2 = cross_validate(dt_model_df2, X1_afs_new, Y1s_new)\n",
        "fpr_2, tpr_2, _ = roc_curve(labels_2, prediction_scores_2)\n",
        "auc_2 = roc_auc_score(labels_2, prediction_scores_2)\n",
        "performances_roc_df2['dt'] = {'fpr': fpr_2, 'tpr':tpr_2, 'auc': auc_2}\n",
        "\n",
        "\n",
        "fig = plt.figure()\n",
        "plt.plot(performances_roc_df2['knn']['fpr'], performances_roc_df2['knn']['tpr'], label=\"KNN\")\n",
        "plt.text(0.4, 0, \"KNN\" + ': AUC = '+str(round(performances_roc_df2['knn']['auc'],2)))\n",
        "\n",
        "plt.plot(performances_roc_df2['dt']['fpr'], performances_roc_df2['dt']['tpr'], label=\"DT\")\n",
        "plt.text(0.4, 0.1, \"DT\" + ': AUC = '+str(round(performances_roc_df2['dt']['auc'],2)))\n",
        "\n",
        "plt.axline((0, 0), (1, 1), linestyle=\"--\", lw=1, color='gray')\n",
        "plt.legend(loc='upper center', bbox_to_anchor=(0.75, 0.6))\n",
        "plt.xlabel(\"False Positive Rate\")\n",
        "plt.ylabel(\"True Positive Rate\")\n",
        "plt.title('KNN & DT Model Comparison with ROC. (Diabetic retinopathy Dataset)')\n",
        "plt.savefig('roc_multimethods_df2.png', bbox_inches='tight', dpi=300)\n"
      ]
    },
    {
      "cell_type": "markdown",
      "metadata": {
        "id": "MZ5wLlqexgbn"
      },
      "source": [
        "#Compare Accuracy of KNN and DT --   PRC Curves"
      ]
    },
    {
      "cell_type": "code",
      "execution_count": null,
      "metadata": {
        "colab": {
          "base_uri": "https://localhost:8080/",
          "height": 295
        },
        "id": "XcUPlgcdxgbo",
        "outputId": "7e87621a-a970-4b6e-c4f3-6c1b3abb96e0"
      },
      "outputs": [
        {
          "output_type": "display_data",
          "data": {
            "text/plain": [
              "<Figure size 432x288 with 1 Axes>"
            ],
            "image/png": "[encoded data removed]"
          },
          "metadata": {
            "needs_background": "light"
          }
        }
      ],
      "source": [
        "from sklearn.metrics import precision_recall_curve\n",
        "from sklearn.metrics import auc\n",
        "from sklearn.metrics import roc_curve, roc_auc_score\n",
        "\n",
        "\n",
        "#Compare the accuracy of the models by calcualting prc with dataset 1\n",
        "\n",
        "#run knn cross validation for df1\n",
        "knn_model_df1 = KNN(K=10)\n",
        "dt_model_df1 = DecisionTree(max_depth = 6)\n",
        "performances_df1 = {}\n",
        "\n",
        "#conversions to numpy for df1\n",
        "X1_afs_new = X1_afs.to_numpy()\n",
        "Y1s_new = Y1s.to_numpy()\n",
        "\n",
        "#run roc calculations for knn model\n",
        "labels_1, prediction_scores_1 = cross_validate(knn_model_df1, X1_afs_new, Y1s_new)\n",
        "fpr_1, tpr_1, _ = roc_curve(labels_1, prediction_scores_1)\n",
        "auroc_1 = roc_auc_score(labels_1, prediction_scores_1)\n",
        "precision_1, recall_1, thresholds_1 = precision_recall_curve(labels_1,prediction_scores_1)\n",
        "auprc_1 = auc(recall_1,precision_1)\n",
        "performances_df1['knn'] = {'fpr': fpr_1, 'tpr':tpr_1, 'auroc': auroc_1,\n",
        "                            \"precision\":precision_1, \"recall\": recall_1,\n",
        "                            \"auprc\":auprc_1 }\n",
        "\n",
        "#run roc calculations for dt model\n",
        "labels_2, prediction_scores_2 = cross_validate(dt_model_df1, X1_afs_new, Y1s_new)\n",
        "fpr_2, tpr_2, _ = roc_curve(labels_2, prediction_scores_2)\n",
        "auroc_2 = roc_auc_score(labels_2, prediction_scores_2)\n",
        "precision_2, recall_2, thresholds_2 = precision_recall_curve(labels_2,prediction_scores_2)\n",
        "auprc_2 = auc(recall_2,precision_2)\n",
        "\n",
        "performances_df1['dt'] = {'fpr': fpr_2, 'tpr':tpr_2, 'auroc': auroc_2,\n",
        "                          \"precision\":precision_2, \"recall\": recall_2,\n",
        "                            \"auprc\":auprc_2 }\n",
        "\n",
        "# fig1 = plt.figure()\n",
        "plt.clf()\n",
        "plt.plot(performances_df1['knn']['recall'], performances_df1['knn']['precision'],label='KNN')\n",
        "plt.text(0.4, 0.5, 'KNN' + ': AUC = '+ str(round(performances_df1['knn']['auprc'],2)))\n",
        "\n",
        "plt.plot(performances_df1['dt']['recall'], performances_df1['dt']['precision'],label='DT')\n",
        "plt.text(0.4, 0.6, 'DT' + ': AUC = '+ str(round(performances_df1['dt']['auprc'],2)))\n",
        "plt.xlabel(\"Recall\")\n",
        "plt.ylabel(\"Precision\")\n",
        "plt.legend(bbox_to_anchor=(0.5, 0.8))\n",
        "plt.title('KNN & DT Model Comparison with PRC. (Hepatitis Dataset)')\n",
        "plt.savefig('PRC_df1.png', bbox_inches='tight', dpi=300)\n"
      ]
    },
    {
      "cell_type": "code",
      "source": [
        "# run knn cross validation for df2\n",
        "knn_model_df2 = KNN(K=11)\n",
        "dt_model_df2 = DecisionTree(max_depth = 13)\n",
        "performances_df2 = {}\n",
        "\n",
        "# conversions to numpy for df2\n",
        "X2_std_new = X2_std.to_numpy()\n",
        "\n",
        "\n",
        "# run roc & prc calculations for knn model\n",
        "labels_3, prediction_scores_3 = cross_validate(knn_model_df2, X2_std_new, Y2)\n",
        "fpr_3, tpr_3, _ = roc_curve(labels_3, prediction_scores_3)\n",
        "auroc_3 = roc_auc_score(labels_3, prediction_scores_3)\n",
        "precision_3, recall_3, thresholds_3 = precision_recall_curve(labels_3,prediction_scores_3)\n",
        "auprc_3 = auc(recall_3,precision_3)\n",
        "performances_df2['knn'] = {'fpr': fpr_3, 'tpr':tpr_3, 'auroc': auroc_3,\n",
        "                            \"precision\":precision_3, \"recall\": recall_3,\n",
        "                            \"auprc\":auprc_3}\n",
        "\n",
        "# run roc & prc calculations for dt model\n",
        "labels_4, prediction_scores_4 = cross_validate(dt_model_df2, X2_std_new, Y2)\n",
        "fpr_4, tpr_4, _ = roc_curve(labels_4, prediction_scores_4)\n",
        "auroc_4 = roc_auc_score(labels_4, prediction_scores_4)\n",
        "precision_4, recall_4, thresholds_4 = precision_recall_curve(labels_4,prediction_scores_4)\n",
        "auprc_4 = auc(recall_4,precision_4)\n",
        "\n",
        "performances_df2['dt'] = {'fpr': fpr_4, 'tpr':tpr_4, 'auroc': auroc_4,\n",
        "                          \"precision\":precision_4, \"recall\": recall_4,\n",
        "                            \"auprc\":auprc_4 }\n",
        "\n",
        "# fig1 = plt.figure()\n",
        "plt.clf()\n",
        "plt.plot(performances_df2['knn']['recall'], performances_df2['knn']['precision'],label='KNN')\n",
        "plt.text(0.4, 0.55, 'KNN' + ': AUC = '+ str(round(performances_df2['knn']['auprc'],2)))\n",
        "\n",
        "plt.plot(performances_df2['dt']['recall'], performances_df2['dt']['precision'],label='DT')\n",
        "plt.text(0.4, 0.6, 'DT' + ': AUC = '+ str(round(performances_df2['dt']['auprc'],2)))\n",
        "plt.xlabel(\"Recall\")\n",
        "plt.ylabel(\"Precision\")\n",
        "plt.legend(bbox_to_anchor=(0.5, 0.8))\n",
        "plt.title('KNN & DT Model Comparison with PRC. (Diabetic retinopathy Dataset)')\n",
        "\n",
        "plt.savefig('PRC_df2.png', bbox_inches='tight', dpi=300)"
      ],
      "metadata": {
        "id": "YtwbuA3buE43",
        "colab": {
          "base_uri": "https://localhost:8080/",
          "height": 295
        },
        "outputId": "6bc51016-f797-4bd1-eacb-f9e9ce0fd0b6"
      },
      "execution_count": null,
      "outputs": [
        {
          "output_type": "display_data",
          "data": {
            "text/plain": [
              "<Figure size 432x288 with 1 Axes>"
            ],
            "image/png": "[encoded data removed]"
          },
          "metadata": {
            "needs_background": "light"
          }
        }
      ]
    },
    {
      "cell_type": "markdown",
      "source": [],
      "metadata": {
        "id": "LP9fjdpEuNIe"
      }
    },
    {
      "cell_type": "markdown",
      "metadata": {
        "id": "RSMbGvMRuX0L"
      },
      "source": [
        "#Try different K values for KNN with DF1"
      ]
    },
    {
      "cell_type": "code",
      "execution_count": null,
      "metadata": {
        "id": "w9OE_06muaOx"
      },
      "outputs": [],
      "source": [
        "#Make sure X1_train,Y1_train,X1_test, Y1_test are ndarrays\n",
        "\n",
        "X1_train, X1_test, Y1_train, Y1_test = train_test_split(X1_afs, Y1s, test_size = 0.3, random_state=1, shuffle=True)\n",
        "X1_train, X1_valid, Y1_train, Y1_valid = train_test_split(X1_train, Y1_train, test_size = 0.3, random_state=1, shuffle=True)\n",
        "\n",
        "n_valid = Y1_valid.shape[0]\n",
        "\n",
        "model_choices1=[]\n",
        "valid_acc1 = []\n",
        "train_acc1 = []\n",
        "\n",
        "if type(X1_train) is not np.ndarray:\n",
        "  X1_train = X1_train.to_numpy()\n",
        "if type(X1_test) is not np.ndarray:\n",
        "  X1_test = X1_test.to_numpy()\n",
        "if type(X1_valid) is not np.ndarray:\n",
        "  X1_valid = X1_valid.to_numpy()\n",
        "if type(Y1_test) is not np.ndarray:\n",
        "  Y1_test = Y1_test.to_numpy()\n",
        "if type(Y1_train) is not np.ndarray:\n",
        "  Y1_train = Y1_train.to_numpy()\n",
        "if type(Y1_valid) is not np.ndarray:\n",
        "  Y1_valid = Y1_valid.to_numpy()\n",
        "\n",
        "for k in range(1,15):\n",
        "    knn = KNN(K=k) # create a KNN object (OOP)\n",
        "    knn = knn.fit(X1_train, Y1_train)\n",
        "    y_prob, knns, Y1_valid_pred = knn.predict(X1_valid)\n",
        "    accuracy = knn.evaluate_acc(Y1_valid_pred,Y1_valid)\n",
        "\n",
        "    #Gain accuracies for train data points\n",
        "\n",
        "    _,_, Y1_train_pred = knn.predict(X1_train)\n",
        "    accuracy_train = knn.evaluate_acc(Y1_train_pred,Y1_train)\n",
        "    model_choices1.append(k)\n",
        "    valid_acc1.append(accuracy)\n",
        "    train_acc1.append(accuracy_train)\n",
        "\n",
        "#use the best K to predict test data\n",
        "valid_acc1 = np.array(valid_acc1)\n",
        "train_acc1 = np.array(train_acc1)\n",
        "best_valid_K = model_choices1[valid_acc1.argmax()]\n",
        "knn = KNN(K=best_valid_K)\n",
        "knn.fit(X1_train, Y1_train)\n",
        "y_prob, knns ,Y1_test_pred = knn.predict(X1_test)\n",
        "test_accuracy1 = knn.evaluate_acc(Y1_test_pred,Y1_test)\n",
        "print(f\"Test accuracy using best K value {best_valid_K} is {test_accuracy1}\")\n",
        "\n",
        "plt.clf()\n",
        "plt.plot(model_choices1, train_acc1, marker='d', color='black', label='training')\n",
        "plt.plot(model_choices1, valid_acc1, marker='o', color='blue', label='validation')\n",
        "plt.plot(best_valid_K, test_accuracy1, marker='*', color='red', label='testing')\n",
        "plt.xlabel(\"K\")\n",
        "plt.ylabel(\"Accuracy\")\n",
        "plt.legend(loc='best')\n",
        "\n",
        "# plt.show()\n",
        "plt.savefig(\"training_validation_testing.png\",bbox_inches='tight', dpi=300)\n",
        "\n"
      ]
    },
    {
      "cell_type": "code",
      "execution_count": null,
      "metadata": {
        "id": "iAL_bX4zGuya"
      },
      "outputs": [],
      "source": [
        "# perf = evaluate()\n",
        "# plot_roc(perf)\n",
        "# plot_prc(perf)\n",
        "# plot_prc(perf)"
      ]
    },
    {
      "cell_type": "markdown",
      "metadata": {
        "id": "FsKXsCanOZ_v"
      },
      "source": [
        "**Task 3: #2**"
      ]
    },
    {
      "cell_type": "markdown",
      "metadata": {
        "id": "ORdV1bxWi7QS"
      },
      "source": [
        "#Try different K values for KNN with DF2"
      ]
    },
    {
      "cell_type": "code",
      "execution_count": null,
      "metadata": {
        "id": "G3eWS2f-i4CV"
      },
      "outputs": [],
      "source": [
        "#Use validation set to look at K from 1 to 15 for DF2\n",
        "\n",
        "X2_train, X2_test, Y2_train, Y2_test = train_test_split(X2_std, Y2, test_size = 0.3, random_state=1, shuffle=True)\n",
        "X2_train, X2_valid, Y2_train, Y2_valid = train_test_split(X2_train, Y2_train, test_size = 0.3, random_state=1, shuffle=True)\n",
        "\n",
        "n_valid = Y1_valid.shape[0]\n",
        "\n",
        "model_choices2=[]\n",
        "valid_acc2 = []\n",
        "train_acc2 = []\n",
        "\n",
        "if type(X2_train) is not np.ndarray:\n",
        "  X2_train = X2_train.to_numpy()\n",
        "if type(X2_test) is not np.ndarray:\n",
        "  X2_test = X2_test.to_numpy()\n",
        "if type(X2_valid) is not np.ndarray:\n",
        "  X2_valid = X2_valid.to_numpy()\n",
        "\n",
        "n_valid = Y2_valid.shape[0]\n",
        "\n",
        "for k in range(1,15):\n",
        "    knn = KNN(K=k) # create a KNN object (OOP)\n",
        "    knn.fit(X2_train, Y2_train)\n",
        "    knn.predict(X2_valid)\n",
        "    y_prob, knns, Y2_valid_pred = knn.predict(X2_valid)\n",
        "    #accuracy = np.sum(Y1_valid_pred == Y1_valid)/n_valid\n",
        "    accuracy = knn.evaluate_acc(Y2_valid_pred,Y2_valid)\n",
        "\n",
        "    _,_, Y2_train_pred = knn.predict(X2_train)\n",
        "    accuracy_train = knn.evaluate_acc(Y2_train_pred,Y2_train)\n",
        "    model_choices2.append(k)\n",
        "    valid_acc2.append(accuracy)\n",
        "    train_acc2.append(accuracy_train)\n",
        "\n",
        "\n",
        "# use the best K to predict test data\n",
        "valid_acc2 = np.array(valid_acc2)\n",
        "train_acc2 = np.array(train_acc2)\n",
        "best_valid_K2 = model_choices1[valid_acc2.argmax()]\n",
        "knn2bestK = KNN(K=best_valid_K2)\n",
        "knn2bestK.fit(X2_train, Y2_train)\n",
        "y_prob2, knns2 ,Y2_test_pred = knn2bestK.predict(X2_test)\n",
        "test_accuracy2 = knn2bestK.evaluate_acc(Y2_test_pred,Y2_test)\n",
        "print(f\"Test accuracy using best K value {best_valid_K2} is {test_accuracy2}\")\n",
        "\n",
        "plt.clf()\n",
        "plt.plot(model_choices2, train_acc2, marker='d', color='black', label='training')\n",
        "plt.plot(model_choices2, valid_acc2, marker='o', color='blue', label='validation')\n",
        "plt.plot(best_valid_K2, test_accuracy2, marker='*', color='red', label='testing')\n",
        "plt.xlabel(\"K\")\n",
        "plt.ylabel(\"Accuracy\")\n",
        "plt.legend(loc='best')\n",
        "\n",
        "# plt.show()\n",
        "plt.savefig(\"training_validation_testing.png\",bbox_inches='tight', dpi=300)"
      ]
    },
    {
      "cell_type": "markdown",
      "metadata": {
        "id": "5pYVqENlOlFo"
      },
      "source": [
        "**Task 3: #3**"
      ]
    },
    {
      "cell_type": "markdown",
      "metadata": {
        "id": "t5u2JN9xub4h"
      },
      "source": [
        "#Try different tree depths with DT with DF1\n",
        "\n",
        "\n",
        "\n",
        "\n"
      ]
    },
    {
      "cell_type": "code",
      "execution_count": null,
      "metadata": {
        "id": "J6slYFUtucZU"
      },
      "outputs": [],
      "source": [
        "#Use validation set to look at different Tree depths for DF1\n",
        "model_choices1=[]\n",
        "train_acc1 = []\n",
        "valid_acc1 = []\n",
        "\n",
        "\n",
        "X1_train, X1_test, Y1_train, Y1_test = train_test_split(X1_afs, Y1s, test_size = 0.3, random_state=1, shuffle=True)\n",
        "X1_train, X1_valid, Y1_train, Y1_valid = train_test_split(X1_train, Y1_train, test_size = 0.3, random_state=1, shuffle=True)\n",
        "\n",
        "n_train1 = Y1_train.shape[0]\n",
        "n_valid1 = Y1_valid.shape[0]\n",
        "\n",
        "X1_train = X1_train.to_numpy()\n",
        "Y1_train = Y1_train.to_numpy()\n",
        "X1_test = X1_test.to_numpy()\n",
        "Y1_test = Y1_test.to_numpy()\n",
        "X1_valid = X1_valid.to_numpy()\n",
        "Y1_valid = Y1_valid.to_numpy()\n",
        "\n",
        "for k in range(1, 20):\n",
        "    dt = DecisionTree(max_depth=k) # create a KNN object (OOP)\n",
        "\n",
        "    Y1_train_prob,Y1_train_pred = dt.fit(X1_train, Y1_train).predict(X1_train)\n",
        "    acc_tr1 = dt.evaluate_acc(Y1_train_pred, Y1_train)\n",
        "\n",
        "    Y1_valid_prob, Y1_valid_pred = dt.fit(X1_train, Y1_train).predict(X1_valid)\n",
        "    acc_val1 = dt.evaluate_acc(Y1_valid_pred, Y1_valid)\n",
        "\n",
        "    model_choices1.append(k)\n",
        "    train_acc1.append(acc_tr1)\n",
        "    valid_acc1.append(acc_val1)\n",
        "\n",
        "# use the best K to predict test data\n",
        "valid_acc1 = np.array(valid_acc1)\n",
        "best_depth1 = model_choices1[valid_acc1.argmax()]\n",
        "dt = DecisionTree(max_depth=4)\n",
        "Y1_test_prob, Y1_test_pred = dt.fit(X1_train, Y1_train).predict(X1_test)\n",
        "test_accuracy1 = dt.evaluate_acc(Y1_test_pred, Y1_test)\n",
        "print(f'best depth = {best_depth1}, test accuracy = {test_accuracy1}')\n",
        "\n",
        "plt.plot(model_choices1, train_acc1, marker='d', color='black', label='training')\n",
        "plt.plot(model_choices1, valid_acc1, marker='o', color='blue', label='validation')\n",
        "plt.plot(best_depth1, test_accuracy1, marker='*', color='red', label='testing')\n",
        "plt.xlabel(\"Tree depth\")\n",
        "plt.ylabel(\"Accuracy\")\n",
        "plt.legend(loc='best')\n",
        "plt.savefig('iris_DT_chooseDepth.png',dpi=300,bbox_inches='tight')\n",
        "\n",
        "\n"
      ]
    },
    {
      "cell_type": "markdown",
      "metadata": {
        "id": "pLBC-y4UkEfX"
      },
      "source": [
        "#Try different tree depths for DT with DF2"
      ]
    },
    {
      "cell_type": "code",
      "execution_count": null,
      "metadata": {
        "id": "AHwV0WL9kEzd"
      },
      "outputs": [],
      "source": [
        "#Use validation set to look at different Tree depths for DF2\n",
        "model_choices2=[]\n",
        "train_acc2 = []\n",
        "valid_acc2 = []\n",
        "\n",
        "X2_train, X2_test, Y2_train, Y2_test = train_test_split(X2_std, Y2, test_size = 0.3, random_state=1, shuffle=True)\n",
        "X2_train, X2_valid, Y2_train, Y2_valid = train_test_split(X2_train, Y2_train, test_size = 0.3, random_state=1, shuffle=True)\n",
        "\n",
        "n_train2 = Y2_train.shape[0]\n",
        "n_valid2 = Y2_valid.shape[0]\n",
        "\n",
        "X2_train = X2_train.to_numpy()\n",
        "X2_test = X2_test.to_numpy()\n",
        "X2_valid = X2_valid.to_numpy()\n",
        "\n",
        "for k in range(1, 20):\n",
        "    dt = DecisionTree(max_depth=k) # create a KNN object (OOP)\n",
        "\n",
        "    Y2_train_prob,Y2_train_pred = dt.fit(X2_train, Y2_train).predict(X2_train)\n",
        "    acc_tr2 = dt.evaluate_acc(Y2_train_pred, Y2_train)\n",
        "\n",
        "    Y2_valid_prob, Y2_valid_pred = dt.fit(X2_train, Y2_train).predict(X2_valid)\n",
        "    acc_val2 = dt.evaluate_acc(Y2_valid_pred, Y2_valid)\n",
        "\n",
        "    model_choices2.append(k)\n",
        "    train_acc2.append(acc_tr2)\n",
        "    valid_acc2.append(acc_val2)\n",
        "\n",
        "# use the best K to predict test data\n",
        "valid_acc2 = np.array(valid_acc2)\n",
        "best_depth2 = model_choices2[valid_acc2.argmax()]\n",
        "dt = DecisionTree(max_depth=best_depth2)\n",
        "Y2_test_prob, Y2_test_pred = dt.fit(X2_train, Y2_train).predict(X2_test)\n",
        "test_accuracy2 = dt.evaluate_acc(Y2_test_pred, Y2_test)\n",
        "print(f'best depth = {best_depth2}, test accuracy = {test_accuracy2}')\n",
        "\n",
        "plt.plot(model_choices2, train_acc2, marker='d', color='black', label='training')\n",
        "plt.plot(model_choices2, valid_acc2, marker='o', color='blue', label='validation')\n",
        "plt.plot(best_depth2, test_accuracy2, marker='*', color='red', label='testing')\n",
        "plt.xlabel(\"Tree depth\")\n",
        "plt.ylabel(\"Accuracy\")\n",
        "plt.legend(loc='best')\n",
        "plt.savefig('iris_DT_chooseDepth.png',dpi=300,bbox_inches='tight')"
      ]
    },
    {
      "cell_type": "markdown",
      "metadata": {
        "id": "bwuG2amiOnMh"
      },
      "source": [
        "**Task 3: #4**"
      ]
    },
    {
      "cell_type": "markdown",
      "metadata": {
        "id": "F329QAulufVm"
      },
      "source": [
        "#Try out different distance/cost functions for both models\n",
        "\n",
        "We need plots of ROC and PRC etc... of these all on one plot"
      ]
    },
    {
      "cell_type": "code",
      "execution_count": null,
      "metadata": {
        "id": "HtUp7b1luebB",
        "colab": {
          "base_uri": "https://localhost:8080/",
          "height": 295
        },
        "outputId": "0ab516a7-718f-4eb6-8672-6d47912103da"
      },
      "outputs": [
        {
          "output_type": "display_data",
          "data": {
            "text/plain": [
              "<Figure size 432x288 with 1 Axes>"
            ],
            "image/png": "[encoded data removed]"
          },
          "metadata": {
            "needs_background": "light"
          }
        }
      ],
      "source": [
        "from sklearn.metrics import roc_curve, roc_auc_score\n",
        "from sklearn.metrics import precision_recall_curve\n",
        "from sklearn.metrics import auc\n",
        "from sklearn.metrics.pairwise import cosine_distances\n",
        "\n",
        "\n",
        "#COMPARE Distance functions for KNN on DF1\n",
        "euclidean = lambda x1, x2: np.sqrt(np.sum((x1 - x2)**2, axis=-1))\n",
        "manhattan = lambda x1, x2: np.sum(np.abs(x1 - x2), axis=-1)\n",
        "cosinesimilarity = lambda x1, x2: np.divide(np.sum(x1*x2), (np.sqrt(x1**2)*np.sqrt(x2**2)))\n",
        "\n",
        "\n",
        "# Run KNN Models on df1 with best k-value = 10, df1 is X1_afs, and Y1s\n",
        "\n",
        "dist_functions = [euclidean, manhattan]\n",
        "myK = 10\n",
        "performances_cost_df1 = {}\n",
        "\n",
        "#split the data set for accuracy calculation\n",
        "X_train, X_test, Y_train, Y_test = train_test_split(X1_afs, Y1s, test_size = 0.2, random_state=1, shuffle=True)\n",
        "\n",
        "\n",
        "#conversions to numpy for df1\n",
        "X1_afs_new = X1_afs.to_numpy()\n",
        "Y1s_new = Y1s.to_numpy()\n",
        "\n",
        "#euclidean\n",
        "knn_eu = KNN(K=myK,dist_fn= euclidean)\n",
        "labels_eu, prediction_scores_eu = cross_validate(knn_eu, X1_afs_new, Y1s_new)\n",
        "fpr_eu, tpr_eu, _ = roc_curve(labels_eu, prediction_scores_eu)\n",
        "auc_eu = roc_auc_score(labels_eu, prediction_scores_eu)\n",
        "performances_cost_df1['knn-eu'] = {'fpr': fpr_eu, 'tpr':tpr_eu, 'auc': auc_eu}\n",
        "\n",
        "\n",
        "#euclidean accuracy without cross validation\n",
        "# knn_eu.fit(X_train, Y_train)\n",
        "# y_prob, knns , Y_predicted = knn_eu.predict(X_test)\n",
        "# accuracy_eu = knn_eu.evaluate_acc(Y_predicted,Y_test)\n",
        "# print(f'accuracy is {accuracy_eu:.3f}.')\n",
        "\n",
        "\n",
        "#manhattan\n",
        "knn_man = KNN(K=myK,dist_fn= manhattan)\n",
        "labels_man, prediction_scores_man = cross_validate(knn_man, X1_afs_new, Y1s_new)\n",
        "fpr_man, tpr_man, _ = roc_curve(labels_man, prediction_scores_man)\n",
        "auc_man = roc_auc_score(labels_man, prediction_scores_man)\n",
        "performances_cost_df1['knn-man'] = {'fpr': fpr_man, 'tpr':tpr_man, 'auc': auc_man}\n",
        "\n",
        "#manhattan accuracy without cross validation\n",
        "# knn_man.fit(X_train, Y_train)\n",
        "# y_prob, knns , Y_predicted = knn_man.predict(X_test)\n",
        "# accuracy_man = model.evaluate_acc(Y_predicted,Y_test)\n",
        "# print(f'accuracy is {accuracy_man:.3f}.')\n",
        "\n",
        "\n",
        "\n",
        "#plot them all in the roc graph\n",
        "\n",
        "fig = plt.figure()\n",
        "plt.plot(performances_cost_df1['knn-eu']['fpr'], performances_cost_df1['knn-eu']['tpr'], label=\"Euclidean\")\n",
        "plt.text(0.4, 0.2, \"Euclidean\" + ': AUC = '+str(round(performances_cost_df1['knn-eu']['auc'],2)))\n",
        "\n",
        "plt.plot(performances_cost_df1['knn-man']['fpr'], performances_cost_df1['knn-man']['tpr'], label=\"Manhattan\")\n",
        "plt.text(0.4, 0.3, \"Manhattan\" + ': AUC = '+str(round(performances_cost_df1['knn-man']['auc'],2)))\n",
        "\n",
        "\n",
        "plt.axline((0, 0), (1, 1), linestyle=\"--\", lw=1, color='gray')\n",
        "plt.legend(loc='upper center', bbox_to_anchor=(0.75, 0.6))\n",
        "plt.xlabel(\"False Positive Rate\")\n",
        "plt.ylabel(\"True Positive Rate\")\n",
        "plt.title('KNN Distance Function Comparison (hepatitis dataset))')\n",
        "plt.savefig('cost-fn-knn-df1.png', bbox_inches='tight', dpi=300)"
      ]
    },
    {
      "cell_type": "code",
      "source": [
        "from sklearn.metrics import roc_curve, roc_auc_score\n",
        "from sklearn.metrics import precision_recall_curve\n",
        "from sklearn.metrics import auc\n",
        "from sklearn.metrics.pairwise import cosine_distances\n",
        "\n",
        "\n",
        "#COMPARE Distance functions for KNN on DF2\n",
        "\n",
        "# Run KNN Models on df2 with best k-value = 11, df1 is X1_afs, and Y1s\n",
        "\n",
        "dist_functions = [euclidean, manhattan]\n",
        "myK = 11\n",
        "performances_cost_df2 = {}\n",
        "\n",
        "#split the data set for accuracy calculation\n",
        "X_train, X_test, Y_train, Y_test = train_test_split(X1_afs, Y1s, test_size = 0.2, random_state=1, shuffle=True)\n",
        "\n",
        "\n",
        "#conversions to numpy for df2\n",
        "X2_std_new = X2_std.to_numpy()\n",
        "\n",
        "\n",
        "#euclidean\n",
        "knn_eu_2 = KNN(K=myK,dist_fn= euclidean)\n",
        "labels_eu_2, prediction_scores_eu_2 = cross_validate(knn_eu_2, X2_std_new, Y2)\n",
        "fpr_eu_2, tpr_eu_2, _ = roc_curve(labels_eu_2, prediction_scores_eu_2)\n",
        "auc_eu_2 = roc_auc_score(labels_eu_2, prediction_scores_eu_2)\n",
        "performances_cost_df2['knn-eu-2'] = {'fpr': fpr_eu_2, 'tpr':tpr_eu_2, 'auc': auc_eu_2}\n",
        "\n",
        "\n",
        "#euclidean accuracy without cross validation\n",
        "# knn_eu.fit(X_train, Y_train)\n",
        "# y_prob, knns , Y_predicted = knn_eu.predict(X_test)\n",
        "# accuracy_eu = knn_eu.evaluate_acc(Y_predicted,Y_test)\n",
        "# print(f'accuracy is {accuracy_eu:.3f}.')\n",
        "\n",
        "\n",
        "#manhattan\n",
        "knn_man_2 = KNN(K=myK,dist_fn= manhattan)\n",
        "labels_man_2, prediction_scores_man_2 = cross_validate(knn_man_2, X2_std_new, Y2)\n",
        "fpr_man_2, tpr_man_2, _ = roc_curve(labels_man_2, prediction_scores_man_2)\n",
        "auc_man_2 = roc_auc_score(labels_man_2, prediction_scores_man_2)\n",
        "performances_cost_df2['knn-man-2'] = {'fpr': fpr_man_2, 'tpr':tpr_man_2, 'auc': auc_man_2}\n",
        "\n",
        "#manhattan accuracy without cross validation\n",
        "# knn_man.fit(X_train, Y_train)\n",
        "# y_prob, knns , Y_predicted = knn_man.predict(X_test)\n",
        "# accuracy_man = model.evaluate_acc(Y_predicted,Y_test)\n",
        "# print(f'accuracy is {accuracy_man:.3f}.')\n",
        "\n",
        "\n",
        "\n",
        "#plot them all in the roc graph\n",
        "\n",
        "fig = plt.figure()\n",
        "plt.plot(performances_cost_df2['knn-eu-2']['fpr'], performances_cost_df2['knn-eu-2']['tpr'], label=\"Euclidean\")\n",
        "plt.text(0.4, 0.2, \"Euclidean\" + ': AUC = '+str(round(performances_cost_df2['knn-eu-2']['auc'],2)))\n",
        "\n",
        "plt.plot(performances_cost_df2['knn-man-2']['fpr'], performances_cost_df2['knn-man-2']['tpr'], label=\"Manhattan\")\n",
        "plt.text(0.4, 0.3, \"Manhattan\" + ': AUC = '+str(round(performances_cost_df2['knn-man-2']['auc'],2)))\n",
        "\n",
        "\n",
        "plt.axline((0, 0), (1, 1), linestyle=\"--\", lw=1, color='gray')\n",
        "plt.legend(loc='upper center', bbox_to_anchor=(0.75, 0.6))\n",
        "plt.xlabel(\"False Positive Rate\")\n",
        "plt.ylabel(\"True Positive Rate\")\n",
        "plt.title('KNN Distance Function Comparison (Diabetic retinopathy dataset))')\n",
        "plt.savefig('cost-fn-knn-df2.png', bbox_inches='tight', dpi=300)"
      ],
      "metadata": {
        "colab": {
          "base_uri": "https://localhost:8080/",
          "height": 295
        },
        "id": "javNGosr8WZ8",
        "outputId": "46fca69e-7ef2-438b-9038-1956581ea52b"
      },
      "execution_count": null,
      "outputs": [
        {
          "output_type": "display_data",
          "data": {
            "text/plain": [
              "<Figure size 432x288 with 1 Axes>"
            ],
            "image/png": "[encoded data removed]"
          },
          "metadata": {
            "needs_background": "light"
          }
        }
      ]
    },
    {
      "cell_type": "code",
      "source": [],
      "metadata": {
        "id": "vkpAP1Fm7uuU"
      },
      "execution_count": null,
      "outputs": []
    },
    {
      "cell_type": "code",
      "execution_count": null,
      "metadata": {
        "id": "TUq0ODpVA9Iy",
        "colab": {
          "base_uri": "https://localhost:8080/",
          "height": 295
        },
        "outputId": "b74aac63-fb56-4db5-9525-c33d46709b70"
      },
      "outputs": [
        {
          "output_type": "display_data",
          "data": {
            "text/plain": [
              "<Figure size 432x288 with 1 Axes>"
            ],
            "image/png": "[encoded data removed]"
          },
          "metadata": {
            "needs_background": "light"
          }
        }
      ],
      "source": [
        "from sklearn.metrics import roc_curve, roc_auc_score\n",
        "from sklearn.metrics import precision_recall_curve\n",
        "from sklearn.metrics import auc\n",
        "from sklearn.metrics.pairwise import cosine_distances\n",
        "\n",
        "#COMPARE Distance functions for DT on DF1\n",
        "\n",
        "# Run KNN Models on df1 with best depth value  = 6, df1 is X1_afs, and Y1s\n",
        "\n",
        "myK = 6\n",
        "performances_cost_dt_df1 = {}\n",
        "\n",
        "#split the data set for accuracy calculation\n",
        "X_train, X_test, Y_train, Y_test = train_test_split(X1_afs, Y1s, test_size = 0.2, random_state=1, shuffle=True)\n",
        "\n",
        "\n",
        "#conversions to numpy for df1\n",
        "X1_afs_new = X1_afs.to_numpy()\n",
        "Y1s_new = Y1s.to_numpy()\n",
        "\n",
        "\n",
        "#cost_misclassification\n",
        "dt_mis = DecisionTree(cost_fn = cost_misclassification)\n",
        "labels_mis, prediction_scores_mis = cross_validate(dt_mis, X1_afs_new, Y1s_new)\n",
        "fpr_mis, tpr_mis, _ = roc_curve(labels_mis, prediction_scores_mis)\n",
        "auc_mis = roc_auc_score(labels_mis, prediction_scores_mis)\n",
        "performances_cost_dt_df1['dt-mis'] = {'fpr': fpr_mis, 'tpr':tpr_mis, 'auc': auc_mis}\n",
        "\n",
        "#cost_entropy\n",
        "dt_ent = DecisionTree(cost_fn = cost_entropy)\n",
        "labels_ent, prediction_scores_ent = cross_validate(dt_ent, X1_afs_new, Y1s_new)\n",
        "fpr_ent, tpr_ent, _ = roc_curve(labels_ent, prediction_scores_ent)\n",
        "auc_ent = roc_auc_score(labels_ent, prediction_scores_ent)\n",
        "performances_cost_dt_df1['dt-ent'] = {'fpr': fpr_ent, 'tpr':tpr_ent, 'auc': auc_ent}\n",
        "\n",
        "\n",
        "#cost_gini_index\n",
        "dt_gini = DecisionTree(cost_fn = cost_gini_index)\n",
        "labels_gini, prediction_scores_gini = cross_validate(dt_gini, X1_afs_new, Y1s_new)\n",
        "fpr_gini, tpr_gini, _ = roc_curve(labels_gini, prediction_scores_gini)\n",
        "auc_gini = roc_auc_score(labels_gini, prediction_scores_gini)\n",
        "performances_cost_dt_df1['dt-gini'] = {'fpr': fpr_gini, 'tpr':tpr_gini, 'auc': auc_gini}\n",
        "\n",
        "\n",
        "\n",
        "\n",
        "#plot them all in the roc graph\n",
        "\n",
        "fig = plt.figure()\n",
        "plt.plot(performances_cost_dt_df1['dt-mis']['fpr'], performances_cost_dt_df1['dt-mis']['tpr'], label=\"Misclassification\")\n",
        "plt.text(0.4, 0.1, \"Misclassification\" + ': AUC = '+str(round(performances_cost_dt_df1['dt-mis']['auc'],2)))\n",
        "\n",
        "plt.plot(performances_cost_dt_df1['dt-ent']['fpr'], performances_cost_dt_df1['dt-ent']['tpr'], label=\"Entropy\")\n",
        "plt.text(0.4, 0.2, \"Entropy\" + ': AUC = '+str(round(performances_cost_dt_df1['dt-ent']['auc'],2)))\n",
        "\n",
        "plt.plot(performances_cost_dt_df1['dt-gini']['fpr'], performances_cost_dt_df1['dt-gini']['tpr'], label=\"Gini Index\")\n",
        "plt.text(0.4, 0.3, \"Gini Index\" + ': AUC = '+str(round(performances_cost_dt_df1['dt-gini']['auc'],2)))\n",
        "\n",
        "\n",
        "plt.axline((0, 0), (1, 1), linestyle=\"--\", lw=1, color='gray')\n",
        "plt.legend(loc='upper center', bbox_to_anchor=(0.75, 0.6))\n",
        "plt.xlabel(\"False Positive Rate\")\n",
        "plt.ylabel(\"True Positive Rate\")\n",
        "plt.title('DT Cost Function Comparison (hepatitis dataset))')\n",
        "plt.savefig('cost-fn-dt-df1.png', bbox_inches='tight', dpi=300)"
      ]
    },
    {
      "cell_type": "code",
      "source": [
        "from sklearn.metrics import roc_curve, roc_auc_score\n",
        "from sklearn.metrics import precision_recall_curve\n",
        "from sklearn.metrics import auc\n",
        "from sklearn.metrics.pairwise import cosine_distances\n",
        "\n",
        "#COMPARE Distance functions for DT on DF2\n",
        "\n",
        "# Run KNN Models on df1 with best depth value  = 13, df1 is X1_afs, and Y1s\n",
        "\n",
        "myK = 13\n",
        "performances_cost_dt_df2 = {}\n",
        "\n",
        "#split the data set for accuracy calculation\n",
        "X_train, X_test, Y_train, Y_test = train_test_split(X1_afs, Y1s, test_size = 0.2, random_state=1, shuffle=True)\n",
        "\n",
        "\n",
        "#conversions to numpy for df1\n",
        "X2_std_new = X2_std.to_numpy()\n",
        "\n",
        "\n",
        "#cost_misclassification\n",
        "dt_mis_2 = DecisionTree(cost_fn = cost_misclassification)\n",
        "labels_mis_2, prediction_scores_mis_2 = cross_validate(dt_mis_2, X2_std_new, Y2)\n",
        "fpr_mis_2, tpr_mis_2, _ = roc_curve(labels_mis_2, prediction_scores_mis_2)\n",
        "auc_mis_2 = roc_auc_score(labels_mis_2, prediction_scores_mis_2)\n",
        "performances_cost_dt_df2['dt-mis-2'] = {'fpr': fpr_mis_2, 'tpr':tpr_mis_2, 'auc': auc_mis_2}\n",
        "\n",
        "#cost_entropy\n",
        "dt_ent_2 = DecisionTree(cost_fn = cost_entropy)\n",
        "labels_ent_2, prediction_scores_ent_2 = cross_validate(dt_ent_2, X2_std_new, Y2)\n",
        "fpr_ent_2, tpr_ent_2, _ = roc_curve(labels_ent_2, prediction_scores_ent_2)\n",
        "auc_ent_2 = roc_auc_score(labels_ent_2, prediction_scores_ent_2)\n",
        "performances_cost_dt_df2['dt-ent-2'] = {'fpr': fpr_ent_2, 'tpr':tpr_ent_2, 'auc': auc_ent_2}\n",
        "\n",
        "\n",
        "#cost_gini_index\n",
        "dt_gini_2 = DecisionTree(cost_fn = cost_gini_index)\n",
        "labels_gini_2, prediction_scores_gini_2 = cross_validate(dt_gini_2, X2_std_new, Y2)\n",
        "fpr_gini_2, tpr_gini_2, _ = roc_curve(labels_gini_2, prediction_scores_gini_2)\n",
        "auc_gini_2 = roc_auc_score(labels_gini_2, prediction_scores_gini_2)\n",
        "performances_cost_dt_df2['dt-gini-2'] = {'fpr': fpr_gini_2, 'tpr':tpr_gini_2, 'auc': auc_gini_2}\n",
        "\n",
        "\n",
        "\n",
        "#plot them all in the roc graph\n",
        "\n",
        "fig = plt.figure()\n",
        "plt.plot(performances_cost_dt_df2['dt-mis-2']['fpr'], performances_cost_dt_df2['dt-mis-2']['tpr'], label=\"Misclassification\")\n",
        "plt.text(0.4, 0.1, \"Misclassification\" + ': AUC = '+str(round(performances_cost_dt_df2['dt-mis-2']['auc'],2)))\n",
        "\n",
        "plt.plot(performances_cost_dt_df2['dt-ent-2']['fpr'], performances_cost_dt_df2['dt-ent-2']['tpr'], label=\"Entropy\")\n",
        "plt.text(0.4, 0.2, \"Entropy\" + ': AUC = '+str(round(performances_cost_dt_df2['dt-ent-2']['auc'],2)))\n",
        "\n",
        "plt.plot(performances_cost_dt_df2['dt-gini-2']['fpr'], performances_cost_dt_df2['dt-gini-2']['tpr'], label=\"Gini Index\")\n",
        "plt.text(0.4, 0.3, \"Gini Index\" + ': AUC = '+str(round(performances_cost_dt_df2['dt-gini-2']['auc'],2)))\n",
        "\n",
        "\n",
        "plt.axline((0, 0), (1, 1), linestyle=\"--\", lw=1, color='gray')\n",
        "plt.legend(loc='upper center', bbox_to_anchor=(0.75, 0.6))\n",
        "plt.xlabel(\"False Positive Rate\")\n",
        "plt.ylabel(\"True Positive Rate\")\n",
        "plt.title('DT Cost Function Comparison (Diabetic retinopathy dataset))')\n",
        "plt.savefig('cost-fn-dt-df2.png', bbox_inches='tight', dpi=300)"
      ],
      "metadata": {
        "colab": {
          "base_uri": "https://localhost:8080/",
          "height": 295
        },
        "id": "314ixggoEko0",
        "outputId": "c5786911-4210-4744-b5e5-f5b21a6fc52d"
      },
      "execution_count": null,
      "outputs": [
        {
          "output_type": "display_data",
          "data": {
            "text/plain": [
              "<Figure size 432x288 with 1 Axes>"
            ],
            "image/png": "[encoded data removed]"
          },
          "metadata": {
            "needs_background": "light"
          }
        }
      ]
    },
    {
      "cell_type": "markdown",
      "metadata": {
        "id": "N7ww0zZCOqZe"
      },
      "source": [
        "**Task 3: #5**"
      ]
    },
    {
      "cell_type": "markdown",
      "metadata": {
        "id": "W-HdOYKfuety"
      },
      "source": [
        "#Present two plots of the decision boundaries one for KNN and one for DT"
      ]
    },
    {
      "cell_type": "markdown",
      "metadata": {
        "id": "uHEqb_Wn_Urx"
      },
      "source": [
        "Decision Tree Decision Boundary for DF1"
      ]
    },
    {
      "cell_type": "code",
      "execution_count": null,
      "metadata": {
        "id": "7WKlvDh0cuwF"
      },
      "outputs": [],
      "source": [
        "X1_afs"
      ]
    },
    {
      "cell_type": "markdown",
      "metadata": {
        "id": "UJDxHYxEV5Mw"
      },
      "source": [
        "KNN Decision Boundary"
      ]
    },
    {
      "cell_type": "code",
      "execution_count": null,
      "metadata": {
        "id": "IdyYtVucWuAL"
      },
      "outputs": [],
      "source": [
        "from sklearn.model_selection import train_test_split\n",
        "\n",
        "X1_afs\n",
        "Y1s\n",
        "\n",
        "\n",
        "# X1_afs = X1_afs.to_numpy()\n",
        "# Y1s = Y1s.to_numpy()\n",
        "\n",
        "X1_BiliAlb = X1_afs[:,[13,16]]\n",
        "\n",
        "#13,16 = Bilirubin, Albumin\n",
        "#15, 16 = SGOT, Albumin\n",
        "\n",
        "\n",
        "\n",
        "Y1s = np.reshape(Y1s, (246))\n",
        "\n",
        "\n",
        "(num_instances, num_features), num_classes = X1_afs.shape, 2\n",
        "\n",
        "x_train, x_test, y_train, y_test = train_test_split(X1_BiliAlb, Y1s, test_size = 0.2, random_state=1, shuffle=True)\n",
        "\n",
        "\n",
        "\n",
        "myK = 5\n",
        "model = KNN(K=myK)\n",
        "\n",
        "\n",
        "y_prob, knns, y_pred = model.fit(x_train, y_train).predict(x_test)\n",
        "\n",
        "\n",
        "#we can make the grid finer by increasing the number of samples from 200 to higher value\n",
        "x0v = np.linspace(np.min(X1_BiliAlb[:,0]), np.max(X1_BiliAlb[:,0]), 200)\n",
        "x1v = np.linspace(np.min(X1_BiliAlb[:,1]), np.max(X1_BiliAlb[:,1]), 200)\n",
        "\n",
        "# print(np.min(x[:,0]))\n",
        "# print(np.max(x[:,0]))\n",
        "# print(np.min(x[:,1]))\n",
        "# print(np.max(x[:,1]))\n",
        "\n",
        "# to features values as a mesh\n",
        "x0, x1 = np.meshgrid(x0v, x1v)\n",
        "x_all = np.vstack((x0.ravel(),x1.ravel())).T\n",
        "\n",
        "for k in [5]:\n",
        "    print(k)\n",
        "    model = KNN(K=k)\n",
        "\n",
        "    y_train_prob = np.zeros((y_train.shape[0], 2))\n",
        "    y_train_prob[np.arange(y_train.shape[0]), y_train] = 1      #(196,2) array with 0,1 for classes for training data\n",
        "\n",
        "\n",
        "    y_prob, knns, y_pred = model.fit(x_train, y_train).predict(x_test)      #y_prob is (50,2) array where 0 column gives probability of class 0\n",
        "    y_pred = np.argmax(y_prob,axis=-1)\n",
        "    correct = y_test == y_pred\n",
        "    incorrect = np.logical_not(correct)\n",
        "\n",
        "    accuracy = np.sum(y_pred == y_test)/y_test.shape[0]\n",
        "    acc = f'accuracy: {accuracy*100:.1f}.'\n",
        "    print(acc)\n",
        "\n",
        "\n",
        "    #to get class probability of all the points in the 2D grid\n",
        "    y_prob_all, _ , _ = model.fit(x_train, y_train).predict(x_all)        #y_prob_all gives a (40000,2) array with class probabilities in each column\n",
        "    y_pred_all = np.zeros_like(y_prob_all)\n",
        "    y_pred_all[np.arange(x_all.shape[0]), np.argmax(y_prob_all, axis=-1)] = 1    #y_pred_all gives (40000,2) of 0,1 for prediction of live or die\n",
        "\n",
        "\n",
        "color = []\n",
        "for i in range(y_train_prob.shape[0]):    #create a for loop that goes through y_train_prob and for each value assigns colors [0,1] = red, [1,0] = blue\n",
        "    if (y_train_prob[i,0] == 1): color.append(\"blue\")\n",
        "    else: color.append(\"red\")\n",
        "\n",
        "\n",
        "colors = []\n",
        "for i in range(y_pred_all.shape[0]):    #create a for loop that goes through y_pred_all and for each value assigns colors [0,1] = red, [1,0] = blue\n",
        "    if (y_pred_all[i,0] == 1): colors.append(\"blue\")\n",
        "    else: colors.append(\"red\")\n",
        "\n",
        "\n",
        "plt.clf()\n",
        "plt.scatter(x_train[:,0], x_train[:,1], c=color, marker='o', alpha=1)\n",
        "plt.scatter(x_all[:,0], x_all[:,1], c=colors, marker='.', alpha=0.01)\n",
        "\n",
        "plt.ylabel('Albumin')\n",
        "plt.xlabel('Bilirubin')\n",
        "plt.savefig('decision_boundaries_KNN'+str(k)+'.png', dpi=300, bbox_inches='tight')\n"
      ]
    },
    {
      "cell_type": "markdown",
      "metadata": {
        "id": "z-YoovjdYX6R"
      },
      "source": [
        "Decision Tree Decision Boundary"
      ]
    },
    {
      "cell_type": "code",
      "execution_count": null,
      "metadata": {
        "id": "ZsnlJr0gul_8"
      },
      "outputs": [],
      "source": [
        "from sklearn.model_selection import train_test_split\n",
        "\n",
        "X1_afs\n",
        "Y1s\n",
        "\n",
        "# X1_afs = X1_afs.to_numpy()\n",
        "# Y1s = Y1s.to_numpy()\n",
        "\n",
        "X1_BiliAlb = X1_afs[:,[13,16]]\n",
        "Y1s = np.reshape(Y1s, (246))\n",
        "\n",
        "\n",
        "(num_instances, num_features), num_classes = X1_afs.shape, 2\n",
        "x_train, x_test, y_train, y_test = train_test_split(X1_BiliAlb, Y1s, test_size = 0.2, random_state=1, shuffle=True)\n",
        "\n",
        "\n",
        "tree = DecisionTree(max_depth = 5)\n",
        "probs1_test, _ = tree.fit(x_train, y_train).predict(x_test)      #probs1_test is a (50,2) array of 0,1 for prediction and survival for testing data - (predictions for testing data)\n",
        "\n",
        "y1_pred = np.argmax(probs1_test,1)      #Go along the columns and return index with max value --> (50,) array of actual predictions generated from probs1_test\n",
        "accuracy = np.sum(y1_pred == y_test) / y_test.shape[0]\n",
        "print(f'accuracy is {accuracy*100:.1f}.')\n",
        "\n",
        "\n",
        "#Plot the points of the training data into predicted classes\n",
        "y_train_prob = np.zeros((y_train.shape[0], num_classes))       #Create (196, 2)\n",
        "y_train_prob[np.arange(y_train.shape[0]), y_train] = 1        #makes (196,2) for predicted classes for each point in y_train, return 1, 0 for each column\n",
        "\n",
        "\n",
        "#Generate the points of Bilirubin and Albumin features to be plotted\n",
        "x0v = np.linspace(np.min(X1_BiliAlb[:,0]), np.max(X1_BiliAlb[:,0]), 200)\n",
        "x1v = np.linspace(np.min(X1_BiliAlb[:,1]), np.max(X1_BiliAlb[:,1]), 200)\n",
        "x0,x1 = np.meshgrid(x0v, x1v)\n",
        "x_all = np.vstack((x0.ravel(),x1.ravel())).T\n",
        "\n",
        "y_prob_all, _ = tree.fit(x_train, y_train).predict(x_all)\n",
        "\n",
        "\n",
        "colorsss = []\n",
        "for i in range(y_train_prob.shape[0]):    #create a for loop that goes through y_train_prob and for each value assigns colors [0,1] = red, [1,0] = blue\n",
        "    if (y_train_prob[i,0] == 1): colorsss.append(\"blue\")\n",
        "    else: colorsss.append(\"red\")\n",
        "\n",
        "colorssss = []\n",
        "for i in range(y_prob_all.shape[0]):\n",
        "    if (y_prob_all[i,0] > .5): colorssss.append(\"blue\")\n",
        "    else: colorssss.append(\"red\")\n",
        "\n",
        "plt.scatter(x_train[:,0], x_train[:,1], c=colorsss, marker='o', alpha=1)\n",
        "plt.scatter(x_all[:,0], x_all[:,1], c=colorssss, marker='.', alpha=.01)\n",
        "\n",
        "plt.ylabel('Albumin')\n",
        "plt.xlabel('Bilirubin')\n",
        "plt.title('Depth = ' + str(tree_depth))\n",
        "plt.savefig('Decision Tree Boundary' + str(tree_depth) + '.png', bbox_inches=\"tight\", dpi=300)"
      ]
    },
    {
      "cell_type": "markdown",
      "metadata": {
        "id": "WOK-n8XiO43U"
      },
      "source": [
        "**KNN Decision Boundary for DF2**"
      ]
    },
    {
      "cell_type": "code",
      "execution_count": null,
      "metadata": {
        "id": "8bRn9In9PDgT"
      },
      "outputs": [],
      "source": [
        "from sklearn.model_selection import train_test_split\n",
        "\n",
        "X2_std\n",
        "Y2\n",
        "\n",
        "\n",
        "# X2_std = X2_std.to_numpy()\n",
        "# Y2 = Y2.to_numpy()\n",
        "\n",
        "X2_MA_5_Exudate1 = X2_std[:,[2,17]]\n",
        "Y2 = np.reshape(Y2, (1151))\n",
        "\n",
        "\n",
        "(num_instances, num_features), num_classes = X2_MA_5_Exudate1.shape, 2\n",
        "\n",
        "x_train, x_test, y_train, y_test = train_test_split(X2_MA_5_Exudate1, Y2, test_size = 0.2, random_state=1, shuffle=True)\n",
        "\n",
        "\n",
        "\n",
        "myK = 5\n",
        "model = KNN(K=myK)\n",
        "\n",
        "\n",
        "y_prob, knns, y_pred = model.fit(x_train, y_train).predict(x_test)\n",
        "\n",
        "#To get hard predictions by choosing the class with the maximum probability\n",
        "y_pred = np.argmax(y_prob, axis=-1)\n",
        "accuracy = np.sum(y_pred == y_test)/y_test.shape[0]\n",
        "print(f'accuracy is {accuracy*100:.1f}.')\n",
        "\n",
        "\n",
        "\n",
        "#we can make the grid finer by increasing the number of samples from 200 to higher value\n",
        "x0v = np.linspace(np.min(X2_MA_5_Exudate1[:,0]), np.max(X2_MA_5_Exudate1[:,0]), 200)\n",
        "x1v = np.linspace(np.min(X2_MA_5_Exudate1[:,1]), np.max(X2_MA_5_Exudate1[:,1]), 200)\n",
        "\n",
        "# print(np.min(x[:,0]))\n",
        "# print(np.max(x[:,0]))\n",
        "# print(np.min(x[:,1]))\n",
        "# print(np.max(x[:,1]))\n",
        "\n",
        "# to features values as a mesh\n",
        "x0, x1 = np.meshgrid(x0v, x1v)\n",
        "x_all = np.vstack((x0.ravel(),x1.ravel())).T\n",
        "\n",
        "for k in [5]:\n",
        "    print(k)\n",
        "    model = KNN(K=k)\n",
        "\n",
        "    y_train_prob = np.zeros((y_train.shape[0], 2))\n",
        "    y_train_prob[np.arange(y_train.shape[0]), y_train] = 1      #(196,2) array with 0,1 for classes for training data\n",
        "\n",
        "\n",
        "    y_prob, knns, y_pred = model.fit(x_train, y_train).predict(x_test)      #y_prob is (50,2) array where 0 column gives probability of class 0\n",
        "    y_pred = np.argmax(y_prob,axis=-1)\n",
        "    correct = y_test == y_pred\n",
        "    incorrect = np.logical_not(correct)\n",
        "\n",
        "    accuracy = np.sum(y_pred == y_test)/y_test.shape[0]\n",
        "    acc = f'accuracy: {accuracy*100:.1f}.'\n",
        "    print(acc)\n",
        "\n",
        "\n",
        "    #to get class probability of all the points in the 2D grid\n",
        "    y_prob_all, _ , _ = model.fit(x_train, y_train).predict(x_all)        #y_prob_all gives a (40000,2) array with class probabilities in each column\n",
        "    y_pred_all = np.zeros_like(y_prob_all)\n",
        "    y_pred_all[np.arange(x_all.shape[0]), np.argmax(y_prob_all, axis=-1)] = 1    #y_pred_all gives (40000,2) of 0,1 for prediction of live or die\n",
        "\n",
        "\n",
        "color = []\n",
        "for i in range(y_train_prob.shape[0]):    #create a for loop that goes through y_train_prob and for each value assigns colors [0,1] = red, [1,0] = blue\n",
        "    if (y_train_prob[i,0] == 1): color.append(\"blue\")\n",
        "    else: color.append(\"red\")\n",
        "\n",
        "\n",
        "colors = []\n",
        "for i in range(y_pred_all.shape[0]):    #create a for loop that goes through y_pred_all and for each value assigns colors [0,1] = red, [1,0] = blue\n",
        "    if (y_pred_all[i,0] == 1): colors.append(\"blue\")\n",
        "    else: colors.append(\"red\")\n",
        "\n",
        "\n",
        "plt.clf()\n",
        "plt.scatter(x_train[:,0], x_train[:,1], c=color, marker='o', alpha=1)\n",
        "plt.scatter(x_all[:,0], x_all[:,1], c=colors, marker='.', alpha=0.01)\n",
        "\n",
        "plt.ylabel('Exudate 1')\n",
        "plt.xlabel('MA at .05 ')\n",
        "plt.savefig('decision_boundaries_KNN'+str(k)+'.png', dpi=300, bbox_inches='tight')\n"
      ]
    },
    {
      "cell_type": "markdown",
      "metadata": {
        "id": "kHf7DGIkO3-D"
      },
      "source": [
        "**Decision Tree Decision Boundary for DF2**"
      ]
    },
    {
      "cell_type": "code",
      "execution_count": null,
      "metadata": {
        "id": "keqHdilOO4Is"
      },
      "outputs": [],
      "source": [
        "from sklearn.model_selection import train_test_split\n",
        "\n",
        "X2_std\n",
        "Y2\n",
        "\n",
        "\n",
        "#X2_std = X2_std.to_numpy()\n",
        "#Y2 = Y2.to_numpy()\n",
        "\n",
        "X2_MA_5_Exudate1 = X2_std[:,[2,17]]\n",
        "Y2 = np.reshape(Y2, (1151))\n",
        "\n",
        "\n",
        "(num_instances, num_features), num_classes = X2_MA_5_Exudate1.shape, 2\n",
        "\n",
        "x_train, x_test, y_train, y_test = train_test_split(X2_MA_5_Exudate1, Y2, test_size = 0.2, random_state=1, shuffle=True)\n",
        "\n",
        "\n",
        "tree = DecisionTree(max_depth = 2)\n",
        "probs1_test, _ = tree.fit(x_train, y_train).predict(x_test)      #probs1_test is a (50,2) array of 0,1 for prediction and survival for testing data - (predictions for testing data)\n",
        "\n",
        "y1_pred = np.argmax(probs1_test,1)      #Go along the columns and return index with max value --> (50,) array of actual predictions generated from probs1_test\n",
        "accuracy = np.sum(y1_pred == y_test) / y_test.shape[0]\n",
        "print(f'accuracy is {accuracy*100:.1f}.')\n",
        "\n",
        "\n",
        "#Plot the points of the training data into predicted classes\n",
        "y_train_prob = np.zeros((y_train.shape[0], num_classes))       #Create (196, 2)\n",
        "y_train_prob[np.arange(y_train.shape[0]), y_train] = 1        #makes (196,2) for predicted classes for each point in y_train, return 1, 0 for each column\n",
        "\n",
        "\n",
        "#Generate the points of Bilirubin and Albumin features to be plotted\n",
        "x0v = np.linspace(np.min(X2_MA_5_Exudate1[:,0]), np.max(X2_MA_5_Exudate1[:,0]), 200)\n",
        "x1v = np.linspace(np.min(X2_MA_5_Exudate1[:,1]), np.max(X2_MA_5_Exudate1[:,1]), 200)\n",
        "x0,x1 = np.meshgrid(x0v, x1v)\n",
        "x_all = np.vstack((x0.ravel(),x1.ravel())).T\n",
        "\n",
        "y_prob_all, _ = tree.fit(x_train, y_train).predict(x_all)\n",
        "\n",
        "\n",
        "colorsss = []\n",
        "for i in range(y_train_prob.shape[0]):    #create a for loop that goes through y_train_prob and for each value assigns colors [0,1] = red, [1,0] = blue\n",
        "    if (y_train_prob[i,0] == 1): colorsss.append(\"blue\")\n",
        "    else: colorsss.append(\"red\")\n",
        "\n",
        "colorssss = []\n",
        "for i in range(y_prob_all.shape[0]):\n",
        "    if (y_prob_all[i,0] > .5): colorssss.append(\"blue\")\n",
        "    else: colorssss.append(\"red\")\n",
        "\n",
        "plt.scatter(x_train[:,0], x_train[:,1], c=colorsss, marker='o', alpha=1)\n",
        "plt.scatter(x_all[:,0], x_all[:,1], c=colorssss, marker='.', alpha=.01)\n",
        "\n",
        "plt.ylabel('Exudate 1')\n",
        "plt.xlabel('MA at .05')\n",
        "plt.title('Depth = ' + str(tree_depth))\n",
        "plt.savefig('Decision Tree Boundary' + str(tree_depth) + '.png', bbox_inches=\"tight\", dpi=300)"
      ]
    },
    {
      "cell_type": "markdown",
      "metadata": {
        "id": "DZLqWiQ6O-Oj"
      },
      "source": []
    },
    {
      "cell_type": "markdown",
      "metadata": {
        "id": "GMppkfc6uwYO"
      },
      "source": [
        "#Edited KNN\n",
        "\n",
        "Since we observed that the diabetic retinopathy dataset appeared messy and had low accuracy on KNN we decided to implement and run a undersampling technique called edited nearest neighbors in order to clean the database by removing samples that are dissimilar to the their nearest neighbors. Edited KNN works as follows:\n",
        "\n",
        "Rules:\n",
        "\n",
        "1.) For each point in the dataset, look at the K = 3 nearest neighbors\n",
        "\n",
        "2.) Determine the majority class of the 3 nearest neighbors\n",
        "\n",
        "3.) If the point's class differs from the majority class of its 3 nearest neighbors, remove the point.\n",
        "\n",
        "4.) Return the new smaller dataset\n",
        "\n",
        "\n",
        "We then compared the accuracy of KNN on the new dataset vs. the original dataset and plotted ROC and PRC curves."
      ]
    },
    {
      "cell_type": "code",
      "execution_count": null,
      "metadata": {
        "id": "lZXtE_tAS4ip"
      },
      "outputs": [],
      "source": [
        "from scipy.linalg.decomp import empty\n",
        "from re import A\n",
        "\n",
        "from sklearn.metrics import roc_curve, roc_auc_score\n",
        "euclidean = lambda x1, x2: np.sqrt(np.sum((x1 - x2)**2, axis=-1))\n",
        "manhattan = lambda x1, x2: np.sum(np.abs(x1 - x2), axis=-1)\n",
        "\n",
        "dataset = X2_std\n",
        "\n",
        "class KNN:\n",
        "\n",
        "    def __init__(self, K=3, dist_fn= euclidean, dataset= dataset):\n",
        "        self.dist_fn = dist_fn\n",
        "        self.K = K\n",
        "        self.dataset = dataset\n",
        "        return\n",
        "\n",
        "\n",
        "    def fit(self, X, y):\n",
        "        ''' Store the training data using this method as it is a lazy learner'''  #all the training that KNN does is remember the data\n",
        "        self.X = X\n",
        "        self.y = y\n",
        "        self.C = 2  #number of classes of output y\n",
        "        return self\n",
        "\n",
        "\n",
        "    def predict(self, X_test):\n",
        "        ''' Makes a prediction using the stored training data and the test data given as argument'''  #using stored data, makes prediction from x_test\n",
        "        num_test = X_test.shape[0]    #number of rows or observations for testing data, the number of testing samples\n",
        "\n",
        "        # calculate distance between the training & test samples and returns an array of shape [num_test, num_train]\n",
        "        distances = np.zeros((num_test,self.X.shape[0]))\n",
        "        for i in range (num_test):\n",
        "          for j in range (self.X.shape[0]):\n",
        "            distances[i][j] = self.dist_fn(X_test[i],self.X[j])\n",
        "\n",
        "        #Create knn, ith-row of knns stores the indices of k closest training samples to the ith-test sample\n",
        "        knns = np.zeros((num_test, self.K), dtype=int)\n",
        "\n",
        "        #Create array for predicted Y_Predicted\n",
        "        Y_Predicted = np.zeros((num_test))\n",
        "\n",
        "        #Create y_prob, ith-row of y_prob has the probability distribution over C classes\n",
        "        y_prob = np.zeros((num_test, self.C))\n",
        "        for i in range(num_test):\n",
        "            knns[i,:] = np.argsort(distances[i])[:self.K]\n",
        "\n",
        "            #np bin count goes wrong here as survival ranges from 1-2, but bincount(arr) returns an array as large as the largest element+1 in arr\n",
        "            #use np unique instead. Np unique returns an array with all the unique elements extracted from the array. Return_counts options return\n",
        "            #the number of times each of the unique values comes up in the original array\n",
        "            #values are the result y lables, while counts are the corresponding frequency of lables\n",
        "\n",
        "            values, counts = np.unique(self.y[knns[i,:]], return_counts=True)\n",
        "            # print('Corresponding survival status of knn')\n",
        "            # print(self.y[knns[i,:]])\n",
        "            for c in range(self.C):\n",
        "              Classindex = np.where(values == c)[0]\n",
        "              if (Classindex.shape[0] == 0):\n",
        "                y_prob[i][c] = 0\n",
        "              else:\n",
        "                y_prob[i][c] = counts[Classindex[0]]/self.K\n",
        "\n",
        "            mode_indice = np.argmax(counts)\n",
        "            Y_Predicted[i] = values[mode_indice]\n",
        "            # print('Survival probabilities')\n",
        "            # print(y_prob[i,:])\n",
        "            # print('Survival prediction')\n",
        "            # print(Y_Predicted[i])\n",
        "\n",
        "        return y_prob, knns, Y_Predicted\n",
        "\n",
        "\n",
        "    def evaluate_acc(self, Y_predicted, Y_test):\n",
        "        acc =  np.sum(Y_predicted == Y_test)/Y_test.shape[0]\n",
        "        return acc\n",
        "\n",
        "\n",
        "\n",
        "\n",
        "    #In order to run edited KNN, have to fit the KNN with the whole dataset first...\n",
        "    def editwithKNN(self, K):\n",
        "        self.dataset = dataset\n",
        "        self.K = K\n",
        "\n",
        "\n",
        "        #Calculate the distance between\n",
        "        distances = np.zeros((X.shape[0],X.shape[0]))\n",
        "\n",
        "        for i in range(X.shape[0]):\n",
        "          for j in range(X.shape[0]):  #calculate the distance between each point\n",
        "            distances[i][j] = self.dist_fn(X[i],X[j])       #This is a symmetric distance matrix of the points in dataset X\n",
        "\n",
        "            #Create knn, ith-row of knns stores the indices of k closest training samples to the ith-test sample\n",
        "            knns = np.zeros((X.shape[0], self.K), dtype=int)\n",
        "\n",
        "            #Create array for predicted Y_Predicted\n",
        "            Y_Predicted = np.zeros((X.shape[0]))\n",
        "\n",
        "        #Create y_prob, ith-row of y_prob has the probability distribution over the 2 classes\n",
        "        y_prob = np.zeros((X.shape[0], 2))\n",
        "\n",
        "        for i in range(X.shape[0]):\n",
        "            knns[i,:] = np.argsort(distances[i])[:self.K]\n",
        "\n",
        "            #np bin count goes wrong here as survival ranges from 1-2, but bincount(arr) returns an array as large as the largest element+1 in arr\n",
        "            #use np unique instead. Np unique returns an array with all the unique elements extracted from the array. Return_counts options return\n",
        "            #the number of times each of the unique values comes up in the original array\n",
        "            #values are the result y lables, while counts are the corresponding frequency of lables\n",
        "\n",
        "            values, counts = np.unique(self.y[knns[i,:]], return_counts=True)\n",
        "            # print('Corresponding survival status of knn')\n",
        "            # print(self.y[knns[i,:]])\n",
        "            for c in range(2):\n",
        "              Classindex = np.where(values == c)[0]\n",
        "              if (Classindex.shape[0] == 0):\n",
        "                y_prob[i][c] = 0\n",
        "              else:\n",
        "                y_prob[i][c] = counts[Classindex[0]]/self.K\n",
        "\n",
        "            mode_indice = np.argmax(counts)\n",
        "            Y_Predicted[i] = values[mode_indice]\n",
        "\n",
        "        remove_these_indices = []\n",
        "\n",
        "        for i in range(X.shape[0]):\n",
        "          if( y[i] != Y_Predicted[i] ):   #If the class label of the ith datapoint not equal to mode of class labels of K nearest neighbors (Y_predicted), remove the datapoint\n",
        "            remove_these_indices.append(i)\n",
        "\n",
        "        X2_editedKNN = np.delete(X, remove_these_indices, 0)\n",
        "        Y2_editedKNN = np.delete(Y2, remove_these_indices, 0)\n",
        "\n",
        "        print(\"This is X: \",X)\n",
        "        print(\"This is X edited with kNN: \", X2_editedKNN)\n",
        "        print(\"This is y: \",y)\n",
        "        print(\"This is y edited with kNN: \", Y2_editedKNN)\n",
        "        print(\"The shape of X:\", y.shape)\n",
        "        print(\"The shape of X2_editedkNN\", Y2_editedKNN.shape)\n",
        "\n",
        "        return X2_editedKNN, Y2_editedKNN"
      ]
    },
    {
      "cell_type": "code",
      "execution_count": null,
      "metadata": {
        "id": "A9jUiATlylTh"
      },
      "outputs": [],
      "source": [
        "X2_std.to_numpy()\n",
        "# Y2.to_numpy()\n",
        "X = X2_std\n",
        "y = Y2\n",
        "\n",
        "X = X.to_numpy()\n",
        "y= Y2\n",
        "myK = 3\n",
        "\n",
        "model = KNN(K=myK)\n",
        "model.fit(X,y)\n",
        "model.editwithKNN(myK)"
      ]
    },
    {
      "cell_type": "markdown",
      "metadata": {
        "id": "L8riELrgeMDr"
      },
      "source": [
        "Run KNN on X2_std and X2_std_edited and compare accuracy by plotting ROC and PRC Curves"
      ]
    },
    {
      "cell_type": "markdown",
      "metadata": {
        "id": "uCZ1lsJXhf-X"
      },
      "source": [
        "Compute Accuracies of KNN on X2_std vs. X2_edited"
      ]
    },
    {
      "cell_type": "code",
      "execution_count": null,
      "metadata": {
        "id": "4Z8_952HeKhx"
      },
      "outputs": [],
      "source": [
        "from sklearn.model_selection import train_test_split\n",
        "#Validate that knn is working for DF1\n",
        "myK = 6\n",
        "model = KNN(K=myK)\n",
        "\n",
        "#Split data, Y_train and Y_test dimension are reduced to 1\n",
        "X_train, X_test, Y_train, Y_test = train_test_split(X2_std, Y2, test_size = 0.2, random_state=1, shuffle=True)\n",
        "# Y_train = Y_train.to_numpy()\n",
        "# Y_train = Y_train.Survival.astype(int).to_numpy()\n",
        "X_train = X_train.to_numpy()\n",
        "X_test = X_test.to_numpy()\n",
        "# Y_test = Y_test.Survival.astype(int).to_numpy()\n",
        "# Y_test = Y_test.to_numpy()\n",
        "N_test_samples = X_test.shape[0]\n",
        "\n",
        "model.fit(X_train, Y_train)\n",
        "y_prob, knns , Y_predicted = model.predict(X_test)\n",
        "\n",
        "#To get hard predictions by choosing the class with the maximum probability\n",
        "accuracy = model.evaluate_acc(Y_predicted,Y_test)\n",
        "print(f'accuracy is {accuracy:.3f}.')"
      ]
    },
    {
      "cell_type": "code",
      "execution_count": null,
      "metadata": {
        "id": "Dm1_whxafloX"
      },
      "outputs": [],
      "source": [
        "from sklearn.model_selection import train_test_split\n",
        "#Validate that knn is working for DF1\n",
        "myK = 3\n",
        "\n",
        "model.fit(X2_std, Y2)\n",
        "model = KNN(K=myK)\n",
        "model.fit(X,y)\n",
        "X2_editedKNN, Y2_editedKNN2 = model.editwithKNN(myK)\n",
        "\n",
        "\n",
        "#Split data, Y_train and Y_test dimension are reduced to 1\n",
        "X_train, X_test, Y_train, Y_test = train_test_split(X2_editedKNN, Y2_editedKNN2, test_size = 0.2, random_state=1, shuffle=True)\n",
        "# Y_train = Y_train.to_numpy()\n",
        "# Y_train = Y_train.Survival.astype(int).to_numpy()\n",
        "# X_train = X_train.to_numpy()\n",
        "# X_test = X_test.to_numpy()\n",
        "# Y_test = Y_test.Survival.astype(int).to_numpy()\n",
        "# Y_test = Y_test.to_numpy()\n",
        "N_test_samples = X_test.shape[0]\n",
        "\n",
        "\n",
        "myK = 6\n",
        "model = KNN(K=myK)\n",
        "model.fit(X_train, Y_train)\n",
        "y_prob, knns , Y_predicted = model.predict(X_test)\n",
        "\n",
        "#To get hard predictions by choosing the class with the maximum probability\n",
        "accuracy = model.evaluate_acc(Y_predicted,Y_test)\n",
        "print(f'accuracy is {accuracy:.3f}.')"
      ]
    },
    {
      "cell_type": "markdown",
      "metadata": {
        "id": "KHZ5zzuIIibE"
      },
      "source": [
        "Plot ROC and PRC of KNN on X2_std vs. X2_edited"
      ]
    },
    {
      "cell_type": "code",
      "execution_count": null,
      "metadata": {
        "id": "S5g_Tmj2hxu1"
      },
      "outputs": [],
      "source": []
    },
    {
      "cell_type": "markdown",
      "metadata": {
        "id": "n9vDlI33h038"
      },
      "source": []
    },
    {
      "cell_type": "markdown",
      "metadata": {
        "id": "1d0RGChURdbq"
      },
      "source": [
        "##Comparison of kNN and Decision Tree Accuracies with 2 best features"
      ]
    },
    {
      "cell_type": "markdown",
      "metadata": {
        "id": "l719di90X0aq"
      },
      "source": [
        "DF1 with KNN - best two features are 1 and 10 with accuracy .86"
      ]
    },
    {
      "cell_type": "code",
      "execution_count": null,
      "metadata": {
        "id": "MoH4Iw7fRmnc"
      },
      "outputs": [],
      "source": [
        "from sklearn.model_selection import train_test_split\n",
        "X1_afs\n",
        "Y1s\n",
        "# X1_afs = X1_afs.to_numpy()\n",
        "# Y1s = Y1s.to_numpy()\n",
        "\n",
        "acc = []\n",
        "\n",
        "for i in range(X1_afs.shape[1]):\n",
        "  for j in range(X1_afs.shape[1]):\n",
        "    if(i != j):\n",
        "      X1_2features = X1_afs[:,[i,j]]\n",
        "      Y1s = np.reshape(Y1s, (246))\n",
        "      (num_instances, num_features), num_classes = X1_2features.shape, 2\n",
        "      x_train, x_test, y_train, y_test = train_test_split(X1_2features, Y1s, test_size = 0.2, random_state=1, shuffle=True)\n",
        "\n",
        "      myK = 5\n",
        "      model = KNN(K=myK)\n",
        "      y_prob, knns, y_pred = model.fit(x_train, y_train).predict(x_test)\n",
        "      y_pred = np.argmax(y_prob, axis=-1)\n",
        "      accuracy = np.sum(y_pred == y_test)/y_test.shape[0]\n",
        "      acc.append(accuracy)\n",
        "      print(f'accuracy for features {i} and {j} is {accuracy*100:.1f}.')\n",
        "\n",
        "max_acc = max(acc)\n",
        "max_acc_index = acc.index(max_acc)\n",
        "\n",
        "print(\"Highest Accuracy with 2 features:\", max_acc)\n",
        "print(\"Index of Highest Accuracy:\", max_acc_index)\n",
        "\n",
        ""
      ]
    },
    {
      "cell_type": "markdown",
      "metadata": {
        "id": "a0xpuLdDR39E"
      },
      "source": [
        "DF2 with KNN - Best two features are 2 and 5 with accuracy: 0.7186147186147186"
      ]
    },
    {
      "cell_type": "code",
      "execution_count": null,
      "metadata": {
        "id": "JBxPgpTyR15W"
      },
      "outputs": [],
      "source": [
        "from sklearn.model_selection import train_test_split\n",
        "X2_std\n",
        "Y2\n",
        "# X2_std = X2_std.to_numpy()\n",
        "# Y2 = Y2.to_numpy()\n",
        "\n",
        "acc = []\n",
        "\n",
        "for i in range(X2_std.shape[1]):\n",
        "  for j in range(X2_std.shape[1]):\n",
        "    if(i != j):\n",
        "      X1_2features = X2_std[:,[i,j]]\n",
        "      Y2 = np.reshape(Y2, (1151))\n",
        "      (num_instances, num_features), num_classes = X1_2features.shape, 2\n",
        "      x_train, x_test, y_train, y_test = train_test_split(X1_2features, Y2, test_size = 0.2, random_state=1, shuffle=True)\n",
        "\n",
        "      myK = 5\n",
        "      model = KNN(K=myK)\n",
        "      y_prob, knns, y_pred = model.fit(x_train, y_train).predict(x_test)\n",
        "      y_pred = np.argmax(y_prob, axis=-1)\n",
        "      accuracy = np.sum(y_pred == y_test)/y_test.shape[0]\n",
        "      acc.append(accuracy)\n",
        "      print(f'accuracy for features {i} and {j} is {accuracy*100:.1f}.')\n",
        "\n",
        "max_acc = max(acc)\n",
        "max_acc_index = acc.index(max_acc)\n",
        "\n",
        "print(\"Highest Accuracy with 2 features:\", max_acc)\n",
        "print(\"Index of Highest Accuracy:\", max_acc_index)\n"
      ]
    },
    {
      "cell_type": "markdown",
      "metadata": {
        "id": "6HSuRk9HYPk6"
      },
      "source": [
        "DF1 with Decision Tree - best two features are: 1,10 with accuracy .86"
      ]
    },
    {
      "cell_type": "code",
      "execution_count": null,
      "metadata": {
        "id": "VPTCf554YSvQ"
      },
      "outputs": [],
      "source": [
        "from sklearn.model_selection import train_test_split\n",
        "X1_afs\n",
        "Y1s\n",
        "# X1_afs = X1_afs.to_numpy()\n",
        "# Y1s = Y1s.to_numpy()\n",
        "\n",
        "acc = []\n",
        "\n",
        "for i in range(X1_afs.shape[1]):\n",
        "  for j in range(X1_afs.shape[1]):\n",
        "    if(i != j):\n",
        "      X1_2features = X1_afs[:,[i,j]]\n",
        "      Y1s = np.reshape(Y1s, (246))\n",
        "      x_train, x_test, y_train, y_test = train_test_split(X1_2features, Y1s, test_size = 0.2, random_state=1, shuffle=True)\n",
        "\n",
        "      (num_instances, num_features), num_classes = X1_2features.shape, 2\n",
        "      N_test_samples = X_test.shape[0]\n",
        "\n",
        "      tree = DecisionTree(max_depth = 4)\n",
        "      probs1_test, _ = tree.fit(x_train, y_train).predict(x_test)\n",
        "      y_pred = np.argmax(probs1_test,1)\n",
        "      accuracy = np.sum(y_pred == y_test) / y_test.shape[0]\n",
        "      acc.append(accuracy)\n",
        "\n",
        "      print(f'accuracy for features {i} and {j} is {accuracy*100:.1f}.')\n",
        "\n",
        "\n",
        "max_acc = max(acc)\n",
        "max_acc_index = acc.index(max_acc)\n",
        "\n",
        "print(\"Highest Accuracy with 2 features:\", max_acc)\n",
        "print(\"Index of Highest Accuracy:\", max_acc_index)"
      ]
    },
    {
      "cell_type": "markdown",
      "metadata": {
        "id": "DUMA6HsNYTJT"
      },
      "source": [
        "DF2 with Decision Tree - best two features are: 2,5 with accuracy .66"
      ]
    },
    {
      "cell_type": "code",
      "execution_count": null,
      "metadata": {
        "id": "og5hz0-AYTR3"
      },
      "outputs": [],
      "source": [
        "from sklearn.model_selection import train_test_split\n",
        "X2_std\n",
        "Y2\n",
        "# X1_afs = X1_afs.to_numpy()\n",
        "# Y1s = Y1s.to_numpy()\n",
        "\n",
        "acc = []\n",
        "\n",
        "for i in range(X2_std.shape[1]):\n",
        "  for j in range(X2_std.shape[1]):\n",
        "    if(i != j):\n",
        "      X1_2features = X2_std[:,[i,j]]\n",
        "      Y1s = np.reshape(Y2, (1151))\n",
        "      x_train, x_test, y_train, y_test = train_test_split(X1_2features, Y2, test_size = 0.2, random_state=1, shuffle=True)\n",
        "\n",
        "      (num_instances, num_features), num_classes = X1_2features.shape, 2\n",
        "      N_test_samples = X_test.shape[0]\n",
        "\n",
        "      tree = DecisionTree(max_depth = 4)\n",
        "      probs1_test, _ = tree.fit(x_train, y_train).predict(x_test)\n",
        "      y_pred = np.argmax(probs1_test,1)\n",
        "      accuracy = np.sum(y_pred == y_test) / y_test.shape[0]\n",
        "      acc.append(accuracy)\n",
        "\n",
        "      print(f'accuracy for features {i} and {j} is {accuracy*100:.1f}.')\n",
        "\n",
        "\n",
        "max_acc = max(acc)\n",
        "max_acc_index = acc.index(max_acc)\n",
        "\n",
        "print(\"Highest Accuracy with 2 features:\", max_acc)\n",
        "print(\"Index of Highest Accuracy:\", max_acc_index)"
      ]
    }
  ],
  "metadata": {
    "colab": {
      "collapsed_sections": [
        "sNTq8utkv4kh",
        "8Mc_ZNxSuMjU",
        "RSMbGvMRuX0L",
        "ORdV1bxWi7QS",
        "t5u2JN9xub4h",
        "pLBC-y4UkEfX",
        "1d0RGChURdbq"
      ],
      "provenance": []
    },
    "kernelspec": {
      "display_name": "Python 3",
      "name": "python3"
    },
    "language_info": {
      "name": "python"
    }
  },
  "nbformat": 4,
  "nbformat_minor": 0
}